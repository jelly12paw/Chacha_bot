{
  "nbformat": 4,
  "nbformat_minor": 0,
  "metadata": {
    "colab": {
      "provenance": []
    },
    "kernelspec": {
      "display_name": "Python 3",
      "name": "python3"
    },
    "language_info": {
      "name": "python"
    }
  },
  "cells": [
    {
      "cell_type": "markdown",
      "source": [
        "## 라이브러리"
      ],
      "metadata": {
        "id": "9Bn6g_pG_3ZB"
      }
    },
    {
      "cell_type": "markdown",
      "source": [
        "### 뷰티풀숲 import"
      ],
      "metadata": {
        "id": "c-8cDDaW_5ry"
      }
    },
    {
      "cell_type": "code",
      "metadata": {
        "id": "xAwE3VabJDb7"
      },
      "source": [
        "import requests\n",
        "import re\n",
        "from bs4 import BeautifulSoup\n",
        "from bs4.element import NavigableString\n",
        "import pandas as pd\n",
        "import numpy as np"
      ],
      "execution_count": null,
      "outputs": []
    },
    {
      "cell_type": "markdown",
      "source": [
        "## 셀레니움 import"
      ],
      "metadata": {
        "id": "mVK3zQmO_9dw"
      }
    },
    {
      "cell_type": "code",
      "metadata": {
        "colab": {
          "base_uri": "https://localhost:8080/"
        },
        "id": "eRZMyr0aLEo5",
        "outputId": "4c870fd0-e5b6-4b9a-eb54-6fd97fa4871d"
      },
      "source": [
        "!pip install selenium\n",
        "!apt-get update\n",
        "!apt install chromium-chromedriver\n",
        "\n",
        "from selenium import webdriver\n",
        "from urllib.request import urlopen\n",
        "from bs4 import BeautifulSoup as bs\n",
        "from urllib.parse import quote_plus\n",
        "from selenium.webdriver.common.keys import Keys\n",
        "import time\n",
        "from urllib.request import urlopen\n",
        "\n",
        "chrome_options = webdriver.ChromeOptions()\n",
        "chrome_options.add_argument('--headless')\n",
        "chrome_options.add_argument('--no-sandbox')\n",
        "chrome_options.add_argument('--disable-dev-shm-usage')\n",
        "driver = webdriver.Chrome('chromedriver', chrome_options=chrome_options)"
      ],
      "execution_count": null,
      "outputs": [
        {
          "output_type": "stream",
          "name": "stdout",
          "text": [
            "Collecting selenium\n",
            "  Downloading selenium-3.141.0-py2.py3-none-any.whl (904 kB)\n",
            "\u001b[?25l\r\u001b[K     |▍                               | 10 kB 19.2 MB/s eta 0:00:01\r\u001b[K     |▊                               | 20 kB 23.3 MB/s eta 0:00:01\r\u001b[K     |█                               | 30 kB 23.1 MB/s eta 0:00:01\r\u001b[K     |█▌                              | 40 kB 17.3 MB/s eta 0:00:01\r\u001b[K     |█▉                              | 51 kB 8.4 MB/s eta 0:00:01\r\u001b[K     |██▏                             | 61 kB 7.0 MB/s eta 0:00:01\r\u001b[K     |██▌                             | 71 kB 7.8 MB/s eta 0:00:01\r\u001b[K     |███                             | 81 kB 8.6 MB/s eta 0:00:01\r\u001b[K     |███▎                            | 92 kB 9.4 MB/s eta 0:00:01\r\u001b[K     |███▋                            | 102 kB 7.6 MB/s eta 0:00:01\r\u001b[K     |████                            | 112 kB 7.6 MB/s eta 0:00:01\r\u001b[K     |████▍                           | 122 kB 7.6 MB/s eta 0:00:01\r\u001b[K     |████▊                           | 133 kB 7.6 MB/s eta 0:00:01\r\u001b[K     |█████                           | 143 kB 7.6 MB/s eta 0:00:01\r\u001b[K     |█████▍                          | 153 kB 7.6 MB/s eta 0:00:01\r\u001b[K     |█████▉                          | 163 kB 7.6 MB/s eta 0:00:01\r\u001b[K     |██████▏                         | 174 kB 7.6 MB/s eta 0:00:01\r\u001b[K     |██████▌                         | 184 kB 7.6 MB/s eta 0:00:01\r\u001b[K     |██████▉                         | 194 kB 7.6 MB/s eta 0:00:01\r\u001b[K     |███████▎                        | 204 kB 7.6 MB/s eta 0:00:01\r\u001b[K     |███████▋                        | 215 kB 7.6 MB/s eta 0:00:01\r\u001b[K     |████████                        | 225 kB 7.6 MB/s eta 0:00:01\r\u001b[K     |████████▎                       | 235 kB 7.6 MB/s eta 0:00:01\r\u001b[K     |████████▊                       | 245 kB 7.6 MB/s eta 0:00:01\r\u001b[K     |█████████                       | 256 kB 7.6 MB/s eta 0:00:01\r\u001b[K     |█████████▍                      | 266 kB 7.6 MB/s eta 0:00:01\r\u001b[K     |█████████▉                      | 276 kB 7.6 MB/s eta 0:00:01\r\u001b[K     |██████████▏                     | 286 kB 7.6 MB/s eta 0:00:01\r\u001b[K     |██████████▌                     | 296 kB 7.6 MB/s eta 0:00:01\r\u001b[K     |██████████▉                     | 307 kB 7.6 MB/s eta 0:00:01\r\u001b[K     |███████████▎                    | 317 kB 7.6 MB/s eta 0:00:01\r\u001b[K     |███████████▋                    | 327 kB 7.6 MB/s eta 0:00:01\r\u001b[K     |████████████                    | 337 kB 7.6 MB/s eta 0:00:01\r\u001b[K     |████████████▎                   | 348 kB 7.6 MB/s eta 0:00:01\r\u001b[K     |████████████▊                   | 358 kB 7.6 MB/s eta 0:00:01\r\u001b[K     |█████████████                   | 368 kB 7.6 MB/s eta 0:00:01\r\u001b[K     |█████████████▍                  | 378 kB 7.6 MB/s eta 0:00:01\r\u001b[K     |█████████████▊                  | 389 kB 7.6 MB/s eta 0:00:01\r\u001b[K     |██████████████▏                 | 399 kB 7.6 MB/s eta 0:00:01\r\u001b[K     |██████████████▌                 | 409 kB 7.6 MB/s eta 0:00:01\r\u001b[K     |██████████████▉                 | 419 kB 7.6 MB/s eta 0:00:01\r\u001b[K     |███████████████▏                | 430 kB 7.6 MB/s eta 0:00:01\r\u001b[K     |███████████████▋                | 440 kB 7.6 MB/s eta 0:00:01\r\u001b[K     |████████████████                | 450 kB 7.6 MB/s eta 0:00:01\r\u001b[K     |████████████████▎               | 460 kB 7.6 MB/s eta 0:00:01\r\u001b[K     |████████████████▋               | 471 kB 7.6 MB/s eta 0:00:01\r\u001b[K     |█████████████████               | 481 kB 7.6 MB/s eta 0:00:01\r\u001b[K     |█████████████████▍              | 491 kB 7.6 MB/s eta 0:00:01\r\u001b[K     |█████████████████▊              | 501 kB 7.6 MB/s eta 0:00:01\r\u001b[K     |██████████████████▏             | 512 kB 7.6 MB/s eta 0:00:01\r\u001b[K     |██████████████████▌             | 522 kB 7.6 MB/s eta 0:00:01\r\u001b[K     |██████████████████▉             | 532 kB 7.6 MB/s eta 0:00:01\r\u001b[K     |███████████████████▏            | 542 kB 7.6 MB/s eta 0:00:01\r\u001b[K     |███████████████████▋            | 552 kB 7.6 MB/s eta 0:00:01\r\u001b[K     |████████████████████            | 563 kB 7.6 MB/s eta 0:00:01\r\u001b[K     |████████████████████▎           | 573 kB 7.6 MB/s eta 0:00:01\r\u001b[K     |████████████████████▋           | 583 kB 7.6 MB/s eta 0:00:01\r\u001b[K     |█████████████████████           | 593 kB 7.6 MB/s eta 0:00:01\r\u001b[K     |█████████████████████▍          | 604 kB 7.6 MB/s eta 0:00:01\r\u001b[K     |█████████████████████▊          | 614 kB 7.6 MB/s eta 0:00:01\r\u001b[K     |██████████████████████          | 624 kB 7.6 MB/s eta 0:00:01\r\u001b[K     |██████████████████████▌         | 634 kB 7.6 MB/s eta 0:00:01\r\u001b[K     |██████████████████████▉         | 645 kB 7.6 MB/s eta 0:00:01\r\u001b[K     |███████████████████████▏        | 655 kB 7.6 MB/s eta 0:00:01\r\u001b[K     |███████████████████████▌        | 665 kB 7.6 MB/s eta 0:00:01\r\u001b[K     |████████████████████████        | 675 kB 7.6 MB/s eta 0:00:01\r\u001b[K     |████████████████████████▎       | 686 kB 7.6 MB/s eta 0:00:01\r\u001b[K     |████████████████████████▋       | 696 kB 7.6 MB/s eta 0:00:01\r\u001b[K     |█████████████████████████       | 706 kB 7.6 MB/s eta 0:00:01\r\u001b[K     |█████████████████████████▍      | 716 kB 7.6 MB/s eta 0:00:01\r\u001b[K     |█████████████████████████▊      | 727 kB 7.6 MB/s eta 0:00:01\r\u001b[K     |██████████████████████████      | 737 kB 7.6 MB/s eta 0:00:01\r\u001b[K     |██████████████████████████▍     | 747 kB 7.6 MB/s eta 0:00:01\r\u001b[K     |██████████████████████████▉     | 757 kB 7.6 MB/s eta 0:00:01\r\u001b[K     |███████████████████████████▏    | 768 kB 7.6 MB/s eta 0:00:01\r\u001b[K     |███████████████████████████▌    | 778 kB 7.6 MB/s eta 0:00:01\r\u001b[K     |████████████████████████████    | 788 kB 7.6 MB/s eta 0:00:01\r\u001b[K     |████████████████████████████▎   | 798 kB 7.6 MB/s eta 0:00:01\r\u001b[K     |████████████████████████████▋   | 808 kB 7.6 MB/s eta 0:00:01\r\u001b[K     |█████████████████████████████   | 819 kB 7.6 MB/s eta 0:00:01\r\u001b[K     |█████████████████████████████▍  | 829 kB 7.6 MB/s eta 0:00:01\r\u001b[K     |█████████████████████████████▊  | 839 kB 7.6 MB/s eta 0:00:01\r\u001b[K     |██████████████████████████████  | 849 kB 7.6 MB/s eta 0:00:01\r\u001b[K     |██████████████████████████████▍ | 860 kB 7.6 MB/s eta 0:00:01\r\u001b[K     |██████████████████████████████▉ | 870 kB 7.6 MB/s eta 0:00:01\r\u001b[K     |███████████████████████████████▏| 880 kB 7.6 MB/s eta 0:00:01\r\u001b[K     |███████████████████████████████▌| 890 kB 7.6 MB/s eta 0:00:01\r\u001b[K     |███████████████████████████████▉| 901 kB 7.6 MB/s eta 0:00:01\r\u001b[K     |████████████████████████████████| 904 kB 7.6 MB/s \n",
            "\u001b[?25hRequirement already satisfied: urllib3 in /usr/local/lib/python3.7/dist-packages (from selenium) (1.24.3)\n",
            "Installing collected packages: selenium\n",
            "Successfully installed selenium-3.141.0\n",
            "Ign:1 https://developer.download.nvidia.com/compute/cuda/repos/ubuntu1804/x86_64  InRelease\n",
            "Get:2 https://cloud.r-project.org/bin/linux/ubuntu bionic-cran40/ InRelease [3,626 B]\n",
            "Ign:3 https://developer.download.nvidia.com/compute/machine-learning/repos/ubuntu1804/x86_64  InRelease\n",
            "Get:4 http://security.ubuntu.com/ubuntu bionic-security InRelease [88.7 kB]\n",
            "Get:5 https://developer.download.nvidia.com/compute/cuda/repos/ubuntu1804/x86_64  Release [696 B]\n",
            "Hit:6 https://developer.download.nvidia.com/compute/machine-learning/repos/ubuntu1804/x86_64  Release\n",
            "Get:7 https://developer.download.nvidia.com/compute/cuda/repos/ubuntu1804/x86_64  Release.gpg [836 B]\n",
            "Get:8 http://ppa.launchpad.net/c2d4u.team/c2d4u4.0+/ubuntu bionic InRelease [15.9 kB]\n",
            "Hit:9 http://archive.ubuntu.com/ubuntu bionic InRelease\n",
            "Get:10 http://archive.ubuntu.com/ubuntu bionic-updates InRelease [88.7 kB]\n",
            "Hit:12 http://ppa.launchpad.net/cran/libgit2/ubuntu bionic InRelease\n",
            "Get:13 https://developer.download.nvidia.com/compute/cuda/repos/ubuntu1804/x86_64  Packages [717 kB]\n",
            "Get:14 http://archive.ubuntu.com/ubuntu bionic-backports InRelease [74.6 kB]\n",
            "Get:15 http://ppa.launchpad.net/deadsnakes/ppa/ubuntu bionic InRelease [15.9 kB]\n",
            "Get:16 http://security.ubuntu.com/ubuntu bionic-security/universe amd64 Packages [1,428 kB]\n",
            "Hit:17 http://ppa.launchpad.net/graphics-drivers/ppa/ubuntu bionic InRelease\n",
            "Get:18 http://security.ubuntu.com/ubuntu bionic-security/main amd64 Packages [2,320 kB]\n",
            "Get:19 http://ppa.launchpad.net/c2d4u.team/c2d4u4.0+/ubuntu bionic/main Sources [1,799 kB]\n",
            "Get:20 http://security.ubuntu.com/ubuntu bionic-security/restricted amd64 Packages [560 kB]\n",
            "Get:21 http://archive.ubuntu.com/ubuntu bionic-updates/restricted amd64 Packages [593 kB]\n",
            "Get:22 http://archive.ubuntu.com/ubuntu bionic-updates/universe amd64 Packages [2,202 kB]\n",
            "Get:23 http://ppa.launchpad.net/c2d4u.team/c2d4u4.0+/ubuntu bionic/main amd64 Packages [921 kB]\n",
            "Get:24 http://archive.ubuntu.com/ubuntu bionic-updates/main amd64 Packages [2,755 kB]\n",
            "Get:25 http://ppa.launchpad.net/deadsnakes/ppa/ubuntu bionic/main amd64 Packages [40.8 kB]\n",
            "Fetched 13.6 MB in 4s (3,043 kB/s)\n",
            "Reading package lists... Done\n",
            "Reading package lists... Done\n",
            "Building dependency tree       \n",
            "Reading state information... Done\n",
            "The following additional packages will be installed:\n",
            "  chromium-browser chromium-browser-l10n chromium-codecs-ffmpeg-extra\n",
            "Suggested packages:\n",
            "  webaccounts-chromium-extension unity-chromium-extension\n",
            "The following NEW packages will be installed:\n",
            "  chromium-browser chromium-browser-l10n chromium-chromedriver\n",
            "  chromium-codecs-ffmpeg-extra\n",
            "0 upgraded, 4 newly installed, 0 to remove and 70 not upgraded.\n",
            "Need to get 91.8 MB of archives.\n",
            "After this operation, 315 MB of additional disk space will be used.\n",
            "Get:1 http://archive.ubuntu.com/ubuntu bionic-updates/universe amd64 chromium-codecs-ffmpeg-extra amd64 92.0.4515.159-0ubuntu0.18.04.1 [1,124 kB]\n",
            "Get:2 http://archive.ubuntu.com/ubuntu bionic-updates/universe amd64 chromium-browser amd64 92.0.4515.159-0ubuntu0.18.04.1 [81.7 MB]\n",
            "Get:3 http://archive.ubuntu.com/ubuntu bionic-updates/universe amd64 chromium-browser-l10n all 92.0.4515.159-0ubuntu0.18.04.1 [4,026 kB]\n",
            "Get:4 http://archive.ubuntu.com/ubuntu bionic-updates/universe amd64 chromium-chromedriver amd64 92.0.4515.159-0ubuntu0.18.04.1 [4,902 kB]\n",
            "Fetched 91.8 MB in 6s (15.9 MB/s)\n",
            "Selecting previously unselected package chromium-codecs-ffmpeg-extra.\n",
            "(Reading database ... 148492 files and directories currently installed.)\n",
            "Preparing to unpack .../chromium-codecs-ffmpeg-extra_92.0.4515.159-0ubuntu0.18.04.1_amd64.deb ...\n",
            "Unpacking chromium-codecs-ffmpeg-extra (92.0.4515.159-0ubuntu0.18.04.1) ...\n",
            "Selecting previously unselected package chromium-browser.\n",
            "Preparing to unpack .../chromium-browser_92.0.4515.159-0ubuntu0.18.04.1_amd64.deb ...\n",
            "Unpacking chromium-browser (92.0.4515.159-0ubuntu0.18.04.1) ...\n",
            "Selecting previously unselected package chromium-browser-l10n.\n",
            "Preparing to unpack .../chromium-browser-l10n_92.0.4515.159-0ubuntu0.18.04.1_all.deb ...\n",
            "Unpacking chromium-browser-l10n (92.0.4515.159-0ubuntu0.18.04.1) ...\n",
            "Selecting previously unselected package chromium-chromedriver.\n",
            "Preparing to unpack .../chromium-chromedriver_92.0.4515.159-0ubuntu0.18.04.1_amd64.deb ...\n",
            "Unpacking chromium-chromedriver (92.0.4515.159-0ubuntu0.18.04.1) ...\n",
            "Setting up chromium-codecs-ffmpeg-extra (92.0.4515.159-0ubuntu0.18.04.1) ...\n",
            "Setting up chromium-browser (92.0.4515.159-0ubuntu0.18.04.1) ...\n",
            "update-alternatives: using /usr/bin/chromium-browser to provide /usr/bin/x-www-browser (x-www-browser) in auto mode\n",
            "update-alternatives: using /usr/bin/chromium-browser to provide /usr/bin/gnome-www-browser (gnome-www-browser) in auto mode\n",
            "Setting up chromium-chromedriver (92.0.4515.159-0ubuntu0.18.04.1) ...\n",
            "Setting up chromium-browser-l10n (92.0.4515.159-0ubuntu0.18.04.1) ...\n",
            "Processing triggers for man-db (2.8.3-2ubuntu0.1) ...\n",
            "Processing triggers for hicolor-icon-theme (0.17-2) ...\n",
            "Processing triggers for mime-support (3.60ubuntu1) ...\n",
            "Processing triggers for libc-bin (2.27-3ubuntu1.2) ...\n",
            "/sbin/ldconfig.real: /usr/local/lib/python3.7/dist-packages/ideep4py/lib/libmkldnn.so.0 is not a symbolic link\n",
            "\n"
          ]
        },
        {
          "output_type": "stream",
          "name": "stderr",
          "text": [
            "/usr/local/lib/python3.7/dist-packages/ipykernel_launcher.py:17: DeprecationWarning: use options instead of chrome_options\n"
          ]
        }
      ]
    },
    {
      "cell_type": "markdown",
      "source": [
        "### kb 차차차 크롤링"
      ],
      "metadata": {
        "id": "NlTAHQY4ADgE"
      }
    },
    {
      "cell_type": "code",
      "metadata": {
        "id": "knwXoOSd855m"
      },
      "source": [
        "\n",
        "# 판다스 데이터 프레임 생성 및 컬럼명 지정\n",
        "result = pd.DataFrame(columns=['연식', '주행거리','연료', '변속기', '연비', '차종', '배기량', '색상', '모델명', '가격', '연도'])\n",
        "\n",
        "# 경차_기아\n",
        "# 크롤링할 페이지\n",
        "for i in range(231, 258):\n",
        "  url = f'https://www.kbchachacha.com/public/search/main.kbc#!?countryOrder=1&page={i}&sort=-orderDate&useCode=002001&makerCode=102'\n",
        "  driver.get(url)\n",
        "\n",
        "  time.sleep(2)\n",
        "\n",
        "  soup = BeautifulSoup(driver.page_source, 'html.parser')\n",
        " \n",
        "  inner_list = []\n",
        "  car_name = []\n",
        "  car_price = []\n",
        "  car_date = []\n",
        "# 크롤링할 경로 지정\n",
        "  for x in range(1, 21) :\n",
        "    href_selector = f'div.__used-car-list > div.cs-list02.cs-list02--ratio.small-tp.generalRegist > div.list-in > div:nth-of-type({x}) > div.con > div > a.link'  \n",
        "    href = soup.select_one(href_selector)\n",
        "    if not href :\n",
        "        break\n",
        "\n",
        "    inner_url = 'https://www.kbchachacha.com' + href['href']\n",
        "    inner_list.append(inner_url)\n",
        "\n",
        "\n",
        "    name_selector = f'div.__used-car-list > div.cs-list02.cs-list02--ratio.small-tp.generalRegist > div.list-in > div:nth-of-type({x}) > div.con > div > a > strong.tit'\n",
        "    name = soup.select_one(name_selector)\n",
        "    target_text_without_child_tags = [bs_object for bs_object in name if isinstance(bs_object, NavigableString)]\n",
        "    text = \"\".join(target_text_without_child_tags).strip()\n",
        "    car_name.append(text)\n",
        "    if not name :\n",
        "        break\n",
        "\n",
        "    \n",
        "    pay_selector = f'div.__used-car-list > div.cs-list02.cs-list02--ratio.small-tp.generalRegist > div.list-in > div:nth-of-type({x}) > div.con > div > a.link > strong.pay'\n",
        "    pay = soup.select_one(pay_selector)\n",
        "    if not pay :\n",
        "        break\n",
        "\n",
        "    target_text_without_child_tags = [bs_object for bs_object in pay if isinstance(bs_object, NavigableString)]\n",
        "    price = \"\".join(target_text_without_child_tags).strip()\n",
        "    car_price.append(price)\n",
        "\n",
        "\n",
        "    date_selector = f'div.__used-car-list > div.cs-list02.cs-list02--ratio.small-tp.generalRegist > div.list-in > div:nth-of-type({x}) > div.con > div > a.link > div.data-line.tp03 > div.first'\n",
        "    date = soup.select_one(date_selector)\n",
        "    if not date :\n",
        "        break\n",
        "\n",
        "    target_text_without_child_tags = [bs_object for bs_object in date if isinstance(bs_object, NavigableString)]\n",
        "    date_ym = \"\".join(target_text_without_child_tags).strip()\n",
        "    car_date.append(date_ym)\n",
        "\n",
        "\n",
        "\n",
        "  for i, a in enumerate(inner_list):\n",
        "    # print(a)\n",
        "    driver.get(a)\n",
        "\n",
        "    time.sleep(3)\n",
        "\n",
        "    soup = bs(driver.page_source, 'html.parser')\n",
        "    selector = 'div.detail-info-list > div.detail-info01'\n",
        "    inner = soup.select('table')\n",
        "    table_html = str(inner)\n",
        "    table_df_list = pd.read_html(table_html)\n",
        "    table_df = table_df_list[0]\n",
        "    te = table_df.values\n",
        "    t1 = te.reshape(14, 2)\n",
        "    te1 = np.delete(t1, [0, 9, 10, 11, 12, 13], 0)\n",
        "    te1 = np.append(te1, np.array([['모델명', car_name[i]]]), axis=0)\n",
        "    te1 = np.append(te1, np.array([['가격', car_price[i]]]), axis=0)\n",
        "    te1 = np.append(te1, np.array([['연도', car_date[i]]]), axis=0)\n",
        "    \n",
        "    row = [i[1] for i in te1] \n",
        "    result = result.append(pd.Series(row, index=result.columns), ignore_index=True)"
      ],
      "execution_count": null,
      "outputs": []
    },
    {
      "cell_type": "code",
      "metadata": {
        "id": "E5nvKsTrLNOR"
      },
      "source": [
        "result = result.drop('연식', axis=1)"
      ],
      "execution_count": null,
      "outputs": []
    },
    {
      "cell_type": "code",
      "metadata": {
        "id": "Rq8LAbCXLNnB"
      },
      "source": [
        "result = result[['모델명', '차종', '가격', '연도', '주행거리', '연료', '변속기', '연비', '배기량', '색상']]"
      ],
      "execution_count": null,
      "outputs": []
    },
    {
      "cell_type": "markdown",
      "source": [
        "### 크롤링한 데이터를 csv 저장"
      ],
      "metadata": {
        "id": "Q-ebQ9giAvaa"
      }
    },
    {
      "cell_type": "code",
      "metadata": {
        "id": "4YwHKCssLSBI"
      },
      "source": [
        "result.to_csv('경차_기아14.csv', index=None, encoding='utf-8-sig')"
      ],
      "execution_count": null,
      "outputs": []
    }
  ]
}