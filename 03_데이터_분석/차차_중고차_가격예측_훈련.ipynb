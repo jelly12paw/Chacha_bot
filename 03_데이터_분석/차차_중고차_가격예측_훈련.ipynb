{
  "nbformat": 4,
  "nbformat_minor": 0,
  "metadata": {
    "colab": {
      "provenance": []
    },
    "kernelspec": {
      "name": "python3",
      "display_name": "Python 3"
    },
    "language_info": {
      "name": "python"
    }
  },
  "cells": [
    {
      "cell_type": "code",
      "metadata": {
        "id": "Nd5wTIZ8D5Pf"
      },
      "source": [
        "import pandas as pd\n",
        "import numpy as np\n",
        "import math"
      ],
      "execution_count": null,
      "outputs": []
    },
    {
      "cell_type": "code",
      "metadata": {
        "id": "b_gcle8TAVv4"
      },
      "source": [
        "import matplotlib.pyplot as plt\n",
        "import seaborn as sns\n",
        "\n",
        "from sklearn.linear_model import LogisticRegression\n",
        "from sklearn.model_selection import train_test_split, cross_validate, cross_val_score\n",
        "from sklearn.metrics import mean_absolute_error, mean_squared_error, r2_score\n",
        "from sklearn.linear_model import LinearRegression\n",
        "from sklearn.preprocessing import PolynomialFeatures\n",
        "from sklearn.preprocessing import StandardScaler\n",
        "from sklearn.pipeline import Pipeline\n",
        "from sklearn.preprocessing import LabelEncoder\n",
        "from sklearn.metrics import accuracy_score, confusion_matrix\n",
        "from sklearn import preprocessing\n",
        "from sklearn.linear_model import SGDRegressor\n",
        "from sklearn.ensemble import RandomForestRegressor\n",
        "from sklearn.ensemble import ExtraTreesClassifier, GradientBoostingRegressor\n",
        "from sklearn.svm import SVC\n",
        "from sklearn.metrics import accuracy_score"
      ],
      "execution_count": null,
      "outputs": []
    },
    {
      "cell_type": "code",
      "metadata": {
        "id": "zErjdc2kED7S"
      },
      "source": [
        "file_path = '/content/drive/MyDrive/kb차차차/최종 데이터.csv'"
      ],
      "execution_count": null,
      "outputs": []
    },
    {
      "cell_type": "code",
      "metadata": {
        "id": "yVsd1PwsEJwV"
      },
      "source": [
        "df = pd.read_csv(file_path, engine = 'python', encoding = 'cp949')"
      ],
      "execution_count": null,
      "outputs": []
    },
    {
      "cell_type": "code",
      "metadata": {
        "id": "2wxdHHotEOG0"
      },
      "source": [
        "df = df.drop(columns = ['Unnamed: 10', 'Unnamed: 11', 'Unnamed: 12', 'Unnamed: 13', 'Unnamed: 14', 'Unnamed: 15', 'Unnamed: 16', 'Unnamed: 17', 'Unnamed: 18'])"
      ],
      "execution_count": null,
      "outputs": []
    },
    {
      "cell_type": "code",
      "metadata": {
        "id": "yDj3e-LzA-f1"
      },
      "source": [
        "df['제조사'] = df['제조사'].replace('쌍용 ', '쌍용')"
      ],
      "execution_count": null,
      "outputs": []
    },
    {
      "cell_type": "code",
      "metadata": {
        "id": "m_MrY7IZI2Ez"
      },
      "source": [
        "df['모델'] = df['모델'].replace('코란도 ', '코란도')\n",
        "df['모델'] = df['모델'].replace('렉스턴 ', '렉스턴')\n",
        "df['모델'] = df['모델'].replace('3.8', 'G90')\n",
        "df['모델'] = df['모델'].replace('쉐보레 말리부', '말리부')\n",
        "df['모델'] = df['모델'].replace(' 쉐보레 말리부', '말리부')\n",
        "df['모델'] = df['모델'].replace('쉐보레 카마로', '카마로')\n",
        "df['모델'] = df['모델'].replace('토스카 ', '토스카')\n",
        "df['모델'] = df['모델'].replace('쉐보레 콜벳', '콜벳')\n",
        "df['모델'] = df['모델'].replace('쉐보레 트래버스', '트래버스')\n",
        "df['모델'] = df['모델'].replace('쉐보레 임팔라', '임팔라')\n",
        "df['모델'] = df['모델'].replace('쉐보레 캡티바', '캡티바')\n",
        "df['모델'] = df['모델'].replace('쉐보레 올란도', '올란도')\n",
        "df['모델'] = df['모델'].replace('쉐보레 크루즈', '크루즈')\n",
        "df['모델'] = df['모델'].replace('쉐보레 아베오', '아베오')\n",
        "df['모델'] = df['모델'].replace('쉐보레 트랙스', '트랙스')\n",
        "df['모델'] = df['모델'].replace('쉐보레 이쿼녹스', '이쿼녹스')\n",
        "df['모델'] = df['모델'].replace('쉐보레 트레일블레이저', '트레일블레이저')\n",
        "df['모델'] = df['모델'].replace('쉐보레 스파크', '스파크')\n",
        "df['모델'] = df['모델'].replace('쉐보레 볼트', '볼트')\n",
        "df['모델'] = df['모델'].replace('제네시스 쿠페', '쿠페')\n",
        "df['모델'] = df['모델'].replace('펠리세이드', '팰리세이드')\n",
        "df['모델'] = df['모델'].replace('투', '투스카니')\n",
        "df['모델'] = df['모델'].replace('베라쉐보레 크루즈', '베라크루즈')"
      ],
      "execution_count": null,
      "outputs": []
    },
    {
      "cell_type": "code",
      "metadata": {
        "colab": {
          "base_uri": "https://localhost:8080/",
          "height": 423
        },
        "id": "gdFAPkX0XEqv",
        "outputId": "802c916b-9c7a-49b8-a41c-7e62023b2b05"
      },
      "source": [
        "df"
      ],
      "execution_count": null,
      "outputs": [
        {
          "output_type": "execute_result",
          "data": {
            "text/html": [
              "<div>\n",
              "<style scoped>\n",
              "    .dataframe tbody tr th:only-of-type {\n",
              "        vertical-align: middle;\n",
              "    }\n",
              "\n",
              "    .dataframe tbody tr th {\n",
              "        vertical-align: top;\n",
              "    }\n",
              "\n",
              "    .dataframe thead th {\n",
              "        text-align: right;\n",
              "    }\n",
              "</style>\n",
              "<table border=\"1\" class=\"dataframe\">\n",
              "  <thead>\n",
              "    <tr style=\"text-align: right;\">\n",
              "      <th></th>\n",
              "      <th>제조사</th>\n",
              "      <th>모델</th>\n",
              "      <th>차종</th>\n",
              "      <th>가격(만원)</th>\n",
              "      <th>연식</th>\n",
              "      <th>주행거리(km)</th>\n",
              "      <th>연료</th>\n",
              "      <th>변속기</th>\n",
              "      <th>연비(km)</th>\n",
              "      <th>배기량(cc)</th>\n",
              "    </tr>\n",
              "  </thead>\n",
              "  <tbody>\n",
              "    <tr>\n",
              "      <th>0</th>\n",
              "      <td>기아</td>\n",
              "      <td>모닝</td>\n",
              "      <td>경차</td>\n",
              "      <td>210</td>\n",
              "      <td>2008</td>\n",
              "      <td>100000</td>\n",
              "      <td>가솔린</td>\n",
              "      <td>오토</td>\n",
              "      <td>0.0</td>\n",
              "      <td>991.0</td>\n",
              "    </tr>\n",
              "    <tr>\n",
              "      <th>1</th>\n",
              "      <td>쌍용</td>\n",
              "      <td>티볼리</td>\n",
              "      <td>SUV</td>\n",
              "      <td>1860</td>\n",
              "      <td>2019</td>\n",
              "      <td>4427</td>\n",
              "      <td>가솔린</td>\n",
              "      <td>오토</td>\n",
              "      <td>12.0</td>\n",
              "      <td>4427.0</td>\n",
              "    </tr>\n",
              "    <tr>\n",
              "      <th>2</th>\n",
              "      <td>현대</td>\n",
              "      <td>쿠페</td>\n",
              "      <td>스포츠카</td>\n",
              "      <td>870</td>\n",
              "      <td>2010</td>\n",
              "      <td>142395</td>\n",
              "      <td>가솔린</td>\n",
              "      <td>오토</td>\n",
              "      <td>0.0</td>\n",
              "      <td>3778.9</td>\n",
              "    </tr>\n",
              "    <tr>\n",
              "      <th>3</th>\n",
              "      <td>제네시스</td>\n",
              "      <td>BH330</td>\n",
              "      <td>대형</td>\n",
              "      <td>990</td>\n",
              "      <td>2009</td>\n",
              "      <td>171709</td>\n",
              "      <td>가솔린</td>\n",
              "      <td>오토</td>\n",
              "      <td>0.0</td>\n",
              "      <td>3300.0</td>\n",
              "    </tr>\n",
              "    <tr>\n",
              "      <th>4</th>\n",
              "      <td>현대</td>\n",
              "      <td>제네시스</td>\n",
              "      <td>대형</td>\n",
              "      <td>990</td>\n",
              "      <td>2009</td>\n",
              "      <td>171709</td>\n",
              "      <td>가솔린</td>\n",
              "      <td>오토</td>\n",
              "      <td>0.0</td>\n",
              "      <td>3300.0</td>\n",
              "    </tr>\n",
              "    <tr>\n",
              "      <th>...</th>\n",
              "      <td>...</td>\n",
              "      <td>...</td>\n",
              "      <td>...</td>\n",
              "      <td>...</td>\n",
              "      <td>...</td>\n",
              "      <td>...</td>\n",
              "      <td>...</td>\n",
              "      <td>...</td>\n",
              "      <td>...</td>\n",
              "      <td>...</td>\n",
              "    </tr>\n",
              "    <tr>\n",
              "      <th>65871</th>\n",
              "      <td>기아</td>\n",
              "      <td>스포티지</td>\n",
              "      <td>SUV</td>\n",
              "      <td>610</td>\n",
              "      <td>2009</td>\n",
              "      <td>134118</td>\n",
              "      <td>가솔린</td>\n",
              "      <td>오토</td>\n",
              "      <td>0.0</td>\n",
              "      <td>0.0</td>\n",
              "    </tr>\n",
              "    <tr>\n",
              "      <th>65872</th>\n",
              "      <td>기아</td>\n",
              "      <td>스포티지</td>\n",
              "      <td>SUV</td>\n",
              "      <td>250</td>\n",
              "      <td>2006</td>\n",
              "      <td>290000</td>\n",
              "      <td>가솔린</td>\n",
              "      <td>오토</td>\n",
              "      <td>0.0</td>\n",
              "      <td>0.0</td>\n",
              "    </tr>\n",
              "    <tr>\n",
              "      <th>65873</th>\n",
              "      <td>기아</td>\n",
              "      <td>스포티지</td>\n",
              "      <td>SUV</td>\n",
              "      <td>300</td>\n",
              "      <td>2009</td>\n",
              "      <td>238700</td>\n",
              "      <td>디젤</td>\n",
              "      <td>오토</td>\n",
              "      <td>15.0</td>\n",
              "      <td>0.0</td>\n",
              "    </tr>\n",
              "    <tr>\n",
              "      <th>65874</th>\n",
              "      <td>기아</td>\n",
              "      <td>스포티지</td>\n",
              "      <td>SUV</td>\n",
              "      <td>350</td>\n",
              "      <td>2006</td>\n",
              "      <td>119506</td>\n",
              "      <td>디젤</td>\n",
              "      <td>오토</td>\n",
              "      <td>0.0</td>\n",
              "      <td>0.0</td>\n",
              "    </tr>\n",
              "    <tr>\n",
              "      <th>65875</th>\n",
              "      <td>기아</td>\n",
              "      <td>스포티지</td>\n",
              "      <td>SUV</td>\n",
              "      <td>249</td>\n",
              "      <td>2005</td>\n",
              "      <td>211505</td>\n",
              "      <td>디젤</td>\n",
              "      <td>오토</td>\n",
              "      <td>0.0</td>\n",
              "      <td>0.0</td>\n",
              "    </tr>\n",
              "  </tbody>\n",
              "</table>\n",
              "<p>65876 rows × 10 columns</p>\n",
              "</div>"
            ],
            "text/plain": [
              "        제조사     모델    차종  가격(만원)    연식  주행거리(km)   연료 변속기  연비(km)  배기량(cc)\n",
              "0        기아     모닝    경차     210  2008    100000  가솔린  오토     0.0    991.0\n",
              "1        쌍용    티볼리   SUV    1860  2019      4427  가솔린  오토    12.0   4427.0\n",
              "2        현대     쿠페  스포츠카     870  2010    142395  가솔린  오토     0.0   3778.9\n",
              "3      제네시스  BH330    대형     990  2009    171709  가솔린  오토     0.0   3300.0\n",
              "4        현대   제네시스    대형     990  2009    171709  가솔린  오토     0.0   3300.0\n",
              "...     ...    ...   ...     ...   ...       ...  ...  ..     ...      ...\n",
              "65871    기아   스포티지   SUV     610  2009    134118  가솔린  오토     0.0      0.0\n",
              "65872    기아   스포티지   SUV     250  2006    290000  가솔린  오토     0.0      0.0\n",
              "65873    기아   스포티지   SUV     300  2009    238700   디젤  오토    15.0      0.0\n",
              "65874    기아   스포티지   SUV     350  2006    119506   디젤  오토     0.0      0.0\n",
              "65875    기아   스포티지   SUV     249  2005    211505   디젤  오토     0.0      0.0\n",
              "\n",
              "[65876 rows x 10 columns]"
            ]
          },
          "metadata": {},
          "execution_count": 14
        }
      ]
    },
    {
      "cell_type": "code",
      "metadata": {
        "id": "kQte2P37XEU2"
      },
      "source": [],
      "execution_count": null,
      "outputs": []
    },
    {
      "cell_type": "code",
      "metadata": {
        "id": "gGxstr8pcPko"
      },
      "source": [
        "# 원본\n",
        "\n",
        "car_arr = ['제네시스 쿠페', '제네시스', '그랜저', '에쿠스', '펠리세이드', '베라크루즈', '팰리세이드', '베라쉐보레 크루즈', '아슬란', '맥스크루즈',\n",
        "           '쏘나타', '아반떼', '다이너스티', '갤로퍼', '테라칸', '트라제XG', '투스카니', '싼타페', '투', '스타렉스', '스타리아', 'i30', '벨로스터',\n",
        "           '투싼', '코나', 'i40', '엘란트라', '마르샤', '아이오닉', '그라나다', '티뷰론', '엑센트', '베르나', '클릭', '베뉴', '뉴엘란트라', '포니',\n",
        "           '아이오닉5', '넥쏘', '아토스', '엑셀', '모닝', 'K7', '프라이드', 'K9', '모하비', '카니발', '오피러스', '아만티', 'K8', 'K5', '로체', '스팅어',\n",
        "           '쏘렌토', '엔터프라이즈', '쏘울', '포르테', 'K3', '포텐샤', '카렌스', '크레도스', '스포티지', '옵티마', '레토나', '콩코드', '엑스트렉', '엘란',\n",
        "           '쎄라토', '스토닉', '셀토스', '니로', '세피아', '스펙트라', '레이', '모닝밴', '레이밴', '비스토', '카스타', '캐피탈', '티볼리', '무쏘', '렉스턴',\n",
        "           '코란도', '카이런', '코란도', '액티언', '체어맨', '렉스턴', '로디우스', 'BH330', 'BH380', 'GP500', 'G330', 'G380', 'G90', 'EQ900', 'G80', 'BH460',\n",
        "           '3.8', 'GV70', 'GV80', 'G70', 'GP380', '토스카', '쉐보레 말리부', '쉐보레 카마로', '카마로', '쉐보레 콜벳', '쉐보레 트래버스', '쉐보레 임팔라', \n",
        "           '스테이츠맨', '베리타스', '아카디아', '알페온', '윈스톰', '쉐보레 캡티바', '쉐보레 올란도', '라세티', '쉐보레 크루즈', '레조', 'G2X', '쉐보레 말리부',\n",
        "           '토스카', '프린스', '쉐보레 아베오', '쉐보레 트랙스', '쉐보레 이쿼녹스', '젠트라', '쉐보레 볼트', '쉐보레 트레일블레이저', '쉐보레 스파크', '마티즈', \n",
        "           '스파크', '티코', '라보', '다마스', 'QM6', 'SM7', 'SM5', 'QM5', 'SM3', 'SM6', 'QM3', '클리오', 'XM3', '캡처', '조에', '트위지']"
      ],
      "execution_count": null,
      "outputs": []
    },
    {
      "cell_type": "code",
      "metadata": {
        "id": "WJN2BEldJKyd"
      },
      "source": [
        "# 140개_수정\n",
        "car_arr = ['쿠페', '제네시스', '그랜저', '에쿠스', '베라크루즈', '팰리세이드', '아슬란', '맥스크루즈', '쏘나타', '아반떼', \n",
        "           '다이너스티', '갤로퍼', '테라칸', '트라제XG', '싼타페', '투스카니', '스타렉스', '스타리아', 'i30', \n",
        "           '벨로스터', '투싼', '코나', 'i40', '엘란트라', '마르샤', '아이오닉', '그라나다', '티뷰론', '엑센트', \n",
        "           '베르나', '클릭', '베뉴', '뉴엘란트라', '포니', '아이오닉5', '넥쏘', '아토스', '엑셀', '모닝', \n",
        "           'K7', '프라이드', 'K9', '모하비', '카니발', '오피러스', '아만티', 'K8', 'K5', '로체', \n",
        "           '스팅어', '쏘렌토', '엔터프라이즈', '쏘울', '포르테', 'K3', '포텐샤', '카렌스', '크레도스', '스포티지', \n",
        "           '옵티마', '레토나', '콩코드', '엑스트렉', '엘란', '쎄라토', '스토닉', '셀토스', '니로', '세피아', \n",
        "           '스펙트라', '레이', '모닝밴', '레이밴', '비스토', '카스타', '캐피탈', '티볼리', '무쏘', '렉스턴',\n",
        "           '코란도', '카이런', '코란도', '액티언', '체어맨', '렉스턴', '로디우스', 'BH330', 'BH380', 'GP500', \n",
        "           'G330', 'G380', 'G90', 'EQ900', 'G80', 'BH460', 'GV70', 'GV80', 'G70', 'GP380', \n",
        "           '말리부', '카마로', '콜벳', '트래버스', '임팔라', '스테이츠맨', '베리타스', '아카디아', '알페온', '윈스톰', \n",
        "           '캡티바', '올란도', '라세티', '크루즈', '레조', 'G2X', '토스카', '프린스', '아베오', '트랙스', \n",
        "           '이쿼녹스', '젠트라', '볼트', '트레일블레이저', '마티즈', '스파크', '티코', '라보', '다마스', 'QM6', \n",
        "           'SM7', 'SM5', 'QM5', 'SM3', 'SM6', 'QM3', '클리오', 'XM3', '캡처', '조에', '트위지']"
      ],
      "execution_count": null,
      "outputs": []
    },
    {
      "cell_type": "code",
      "metadata": {
        "colab": {
          "base_uri": "https://localhost:8080/"
        },
        "id": "durzdA2mEQGz",
        "outputId": "2a68ac75-34e7-4484-8c12-edee9c5c7027"
      },
      "source": [
        "print(df[df['모델'] == 'SM3'].min().values)\n",
        "print(df[df['모델'] == 'SM3'].max().values)\n",
        "print(df[df['모델'] == 'SM3'].mean())"
      ],
      "execution_count": null,
      "outputs": [
        {
          "output_type": "stream",
          "name": "stdout",
          "text": [
            "['르노삼성' 'SM3' '준중형' 80 2002 3800 'CNG' 'CVT' 0.0 0.0]\n",
            "['르노삼성' 'SM3' '준중형' 1350 2020 321552 '전기' '오토' 135.0 2000.0]\n",
            "가격(만원)         475.498035\n",
            "연식            2011.702358\n",
            "주행거리(km)    108237.046169\n",
            "연비(km)           6.346758\n",
            "배기량(cc)       1042.377210\n",
            "dtype: float64\n"
          ]
        }
      ]
    },
    {
      "cell_type": "code",
      "metadata": {
        "colab": {
          "base_uri": "https://localhost:8080/",
          "height": 81
        },
        "id": "FmTsfA8MFn0S",
        "outputId": "0c6961d1-8e52-4220-e096-44bd19dde0ae"
      },
      "source": [
        "df[df['가격(만원)'] == df['가격(만원)'].max()]"
      ],
      "execution_count": null,
      "outputs": [
        {
          "output_type": "execute_result",
          "data": {
            "text/html": [
              "<div>\n",
              "<style scoped>\n",
              "    .dataframe tbody tr th:only-of-type {\n",
              "        vertical-align: middle;\n",
              "    }\n",
              "\n",
              "    .dataframe tbody tr th {\n",
              "        vertical-align: top;\n",
              "    }\n",
              "\n",
              "    .dataframe thead th {\n",
              "        text-align: right;\n",
              "    }\n",
              "</style>\n",
              "<table border=\"1\" class=\"dataframe\">\n",
              "  <thead>\n",
              "    <tr style=\"text-align: right;\">\n",
              "      <th></th>\n",
              "      <th>제조사</th>\n",
              "      <th>모델</th>\n",
              "      <th>차종</th>\n",
              "      <th>가격(만원)</th>\n",
              "      <th>연식</th>\n",
              "      <th>주행거리(km)</th>\n",
              "      <th>연료</th>\n",
              "      <th>변속기</th>\n",
              "      <th>연비(km)</th>\n",
              "      <th>배기량(cc)</th>\n",
              "    </tr>\n",
              "  </thead>\n",
              "  <tbody>\n",
              "    <tr>\n",
              "      <th>61547</th>\n",
              "      <td>기아</td>\n",
              "      <td>K5</td>\n",
              "      <td>중형</td>\n",
              "      <td>49500</td>\n",
              "      <td>2020</td>\n",
              "      <td>106790</td>\n",
              "      <td>가솔린</td>\n",
              "      <td>오토</td>\n",
              "      <td>0.0</td>\n",
              "      <td>0.0</td>\n",
              "    </tr>\n",
              "  </tbody>\n",
              "</table>\n",
              "</div>"
            ],
            "text/plain": [
              "      제조사  모델  차종  가격(만원)    연식  주행거리(km)   연료 변속기  연비(km)  배기량(cc)\n",
              "61547  기아  K5  중형   49500  2020    106790  가솔린  오토     0.0      0.0"
            ]
          },
          "metadata": {},
          "execution_count": 11
        }
      ]
    },
    {
      "cell_type": "code",
      "metadata": {
        "colab": {
          "base_uri": "https://localhost:8080/",
          "height": 206
        },
        "id": "bxkg8c_yJpDb",
        "outputId": "b5ebd972-8b2d-4be5-a0a4-c11102bcccf6"
      },
      "source": [
        "df_sm3 = df[df['모델'] == 'SM3']\n",
        "df_sm3.head()"
      ],
      "execution_count": null,
      "outputs": [
        {
          "output_type": "execute_result",
          "data": {
            "text/html": [
              "<div>\n",
              "<style scoped>\n",
              "    .dataframe tbody tr th:only-of-type {\n",
              "        vertical-align: middle;\n",
              "    }\n",
              "\n",
              "    .dataframe tbody tr th {\n",
              "        vertical-align: top;\n",
              "    }\n",
              "\n",
              "    .dataframe thead th {\n",
              "        text-align: right;\n",
              "    }\n",
              "</style>\n",
              "<table border=\"1\" class=\"dataframe\">\n",
              "  <thead>\n",
              "    <tr style=\"text-align: right;\">\n",
              "      <th></th>\n",
              "      <th>제조사</th>\n",
              "      <th>모델</th>\n",
              "      <th>차종</th>\n",
              "      <th>가격(만원)</th>\n",
              "      <th>연식</th>\n",
              "      <th>주행거리(km)</th>\n",
              "      <th>연료</th>\n",
              "      <th>변속기</th>\n",
              "      <th>연비(km)</th>\n",
              "      <th>배기량(cc)</th>\n",
              "    </tr>\n",
              "  </thead>\n",
              "  <tbody>\n",
              "    <tr>\n",
              "      <th>19288</th>\n",
              "      <td>르노삼성</td>\n",
              "      <td>SM3</td>\n",
              "      <td>준중형</td>\n",
              "      <td>380</td>\n",
              "      <td>2014</td>\n",
              "      <td>148129</td>\n",
              "      <td>가솔린</td>\n",
              "      <td>오토</td>\n",
              "      <td>0.0</td>\n",
              "      <td>2000.0</td>\n",
              "    </tr>\n",
              "    <tr>\n",
              "      <th>19289</th>\n",
              "      <td>르노삼성</td>\n",
              "      <td>SM3</td>\n",
              "      <td>준중형</td>\n",
              "      <td>230</td>\n",
              "      <td>2009</td>\n",
              "      <td>156718</td>\n",
              "      <td>가솔린</td>\n",
              "      <td>오토</td>\n",
              "      <td>0.0</td>\n",
              "      <td>2000.0</td>\n",
              "    </tr>\n",
              "    <tr>\n",
              "      <th>23227</th>\n",
              "      <td>르노삼성</td>\n",
              "      <td>SM3</td>\n",
              "      <td>준중형</td>\n",
              "      <td>430</td>\n",
              "      <td>2014</td>\n",
              "      <td>102366</td>\n",
              "      <td>가솔린</td>\n",
              "      <td>오토</td>\n",
              "      <td>15.0</td>\n",
              "      <td>1998.0</td>\n",
              "    </tr>\n",
              "    <tr>\n",
              "      <th>23228</th>\n",
              "      <td>르노삼성</td>\n",
              "      <td>SM3</td>\n",
              "      <td>준중형</td>\n",
              "      <td>450</td>\n",
              "      <td>2010</td>\n",
              "      <td>150000</td>\n",
              "      <td>가솔린</td>\n",
              "      <td>오토</td>\n",
              "      <td>0.0</td>\n",
              "      <td>1998.0</td>\n",
              "    </tr>\n",
              "    <tr>\n",
              "      <th>23229</th>\n",
              "      <td>르노삼성</td>\n",
              "      <td>SM3</td>\n",
              "      <td>준중형</td>\n",
              "      <td>290</td>\n",
              "      <td>2009</td>\n",
              "      <td>110000</td>\n",
              "      <td>가솔린</td>\n",
              "      <td>오토</td>\n",
              "      <td>0.0</td>\n",
              "      <td>1998.0</td>\n",
              "    </tr>\n",
              "  </tbody>\n",
              "</table>\n",
              "</div>"
            ],
            "text/plain": [
              "        제조사   모델   차종  가격(만원)    연식  주행거리(km)   연료 변속기  연비(km)  배기량(cc)\n",
              "19288  르노삼성  SM3  준중형     380  2014    148129  가솔린  오토     0.0   2000.0\n",
              "19289  르노삼성  SM3  준중형     230  2009    156718  가솔린  오토     0.0   2000.0\n",
              "23227  르노삼성  SM3  준중형     430  2014    102366  가솔린  오토    15.0   1998.0\n",
              "23228  르노삼성  SM3  준중형     450  2010    150000  가솔린  오토     0.0   1998.0\n",
              "23229  르노삼성  SM3  준중형     290  2009    110000  가솔린  오토     0.0   1998.0"
            ]
          },
          "metadata": {},
          "execution_count": 12
        }
      ]
    },
    {
      "cell_type": "code",
      "metadata": {
        "colab": {
          "base_uri": "https://localhost:8080/",
          "height": 112
        },
        "id": "fvfLyzcUKBdK",
        "outputId": "e6f0854b-1ff1-462e-a634-82b1db30b2aa"
      },
      "source": [
        "df_sm3[df_sm3['가격(만원)'] == df_sm3['가격(만원)'].max()]"
      ],
      "execution_count": null,
      "outputs": [
        {
          "output_type": "execute_result",
          "data": {
            "text/html": [
              "<div>\n",
              "<style scoped>\n",
              "    .dataframe tbody tr th:only-of-type {\n",
              "        vertical-align: middle;\n",
              "    }\n",
              "\n",
              "    .dataframe tbody tr th {\n",
              "        vertical-align: top;\n",
              "    }\n",
              "\n",
              "    .dataframe thead th {\n",
              "        text-align: right;\n",
              "    }\n",
              "</style>\n",
              "<table border=\"1\" class=\"dataframe\">\n",
              "  <thead>\n",
              "    <tr style=\"text-align: right;\">\n",
              "      <th></th>\n",
              "      <th>제조사</th>\n",
              "      <th>모델</th>\n",
              "      <th>차종</th>\n",
              "      <th>가격(만원)</th>\n",
              "      <th>연식</th>\n",
              "      <th>주행거리(km)</th>\n",
              "      <th>연료</th>\n",
              "      <th>변속기</th>\n",
              "      <th>연비(km)</th>\n",
              "      <th>배기량(cc)</th>\n",
              "    </tr>\n",
              "  </thead>\n",
              "  <tbody>\n",
              "    <tr>\n",
              "      <th>54391</th>\n",
              "      <td>르노삼성</td>\n",
              "      <td>SM3</td>\n",
              "      <td>준중형</td>\n",
              "      <td>1350</td>\n",
              "      <td>2020</td>\n",
              "      <td>35466</td>\n",
              "      <td>전기</td>\n",
              "      <td>오토</td>\n",
              "      <td>0.0</td>\n",
              "      <td>0.0</td>\n",
              "    </tr>\n",
              "    <tr>\n",
              "      <th>54392</th>\n",
              "      <td>르노삼성</td>\n",
              "      <td>SM3</td>\n",
              "      <td>준중형</td>\n",
              "      <td>1350</td>\n",
              "      <td>2019</td>\n",
              "      <td>19729</td>\n",
              "      <td>전기</td>\n",
              "      <td>오토</td>\n",
              "      <td>0.0</td>\n",
              "      <td>0.0</td>\n",
              "    </tr>\n",
              "  </tbody>\n",
              "</table>\n",
              "</div>"
            ],
            "text/plain": [
              "        제조사   모델   차종  가격(만원)    연식  주행거리(km)  연료 변속기  연비(km)  배기량(cc)\n",
              "54391  르노삼성  SM3  준중형    1350  2020     35466  전기  오토     0.0      0.0\n",
              "54392  르노삼성  SM3  준중형    1350  2019     19729  전기  오토     0.0      0.0"
            ]
          },
          "metadata": {},
          "execution_count": 13
        }
      ]
    },
    {
      "cell_type": "code",
      "metadata": {
        "colab": {
          "base_uri": "https://localhost:8080/",
          "height": 81
        },
        "id": "sPkF-TrSKbG1",
        "outputId": "660384da-b69e-405c-b8b7-0672155088e0"
      },
      "source": [
        "df_sm3[df_sm3['가격(만원)'] == df_sm3['가격(만원)'].min()]"
      ],
      "execution_count": null,
      "outputs": [
        {
          "output_type": "execute_result",
          "data": {
            "text/html": [
              "<div>\n",
              "<style scoped>\n",
              "    .dataframe tbody tr th:only-of-type {\n",
              "        vertical-align: middle;\n",
              "    }\n",
              "\n",
              "    .dataframe tbody tr th {\n",
              "        vertical-align: top;\n",
              "    }\n",
              "\n",
              "    .dataframe thead th {\n",
              "        text-align: right;\n",
              "    }\n",
              "</style>\n",
              "<table border=\"1\" class=\"dataframe\">\n",
              "  <thead>\n",
              "    <tr style=\"text-align: right;\">\n",
              "      <th></th>\n",
              "      <th>제조사</th>\n",
              "      <th>모델</th>\n",
              "      <th>차종</th>\n",
              "      <th>가격(만원)</th>\n",
              "      <th>연식</th>\n",
              "      <th>주행거리(km)</th>\n",
              "      <th>연료</th>\n",
              "      <th>변속기</th>\n",
              "      <th>연비(km)</th>\n",
              "      <th>배기량(cc)</th>\n",
              "    </tr>\n",
              "  </thead>\n",
              "  <tbody>\n",
              "    <tr>\n",
              "      <th>33226</th>\n",
              "      <td>르노삼성</td>\n",
              "      <td>SM3</td>\n",
              "      <td>준중형</td>\n",
              "      <td>80</td>\n",
              "      <td>2008</td>\n",
              "      <td>139000</td>\n",
              "      <td>가솔린</td>\n",
              "      <td>오토</td>\n",
              "      <td>0.0</td>\n",
              "      <td>1598.0</td>\n",
              "    </tr>\n",
              "  </tbody>\n",
              "</table>\n",
              "</div>"
            ],
            "text/plain": [
              "        제조사   모델   차종  가격(만원)    연식  주행거리(km)   연료 변속기  연비(km)  배기량(cc)\n",
              "33226  르노삼성  SM3  준중형      80  2008    139000  가솔린  오토     0.0   1598.0"
            ]
          },
          "metadata": {},
          "execution_count": 14
        }
      ]
    },
    {
      "cell_type": "code",
      "metadata": {
        "colab": {
          "base_uri": "https://localhost:8080/"
        },
        "id": "RcDs5Ny3Kqw5",
        "outputId": "cac3e6ce-2241-493a-a1ee-8cd36e7c68e4"
      },
      "source": [
        "round(df_sm3.mean()).iloc[4]"
      ],
      "execution_count": null,
      "outputs": [
        {
          "output_type": "execute_result",
          "data": {
            "text/plain": [
              "1042.0"
            ]
          },
          "metadata": {},
          "execution_count": 15
        }
      ]
    },
    {
      "cell_type": "code",
      "metadata": {
        "id": "TzhgEwxcQgTe"
      },
      "source": [
        "ms = df[df['모델'] == 'SM3'].min().values\n",
        "mn = df[df['모델'] == 'SM3'].max().values\n",
        "ma = round(df[df['모델'] == 'SM3'].mean())"
      ],
      "execution_count": null,
      "outputs": []
    },
    {
      "cell_type": "code",
      "metadata": {
        "colab": {
          "base_uri": "https://localhost:8080/"
        },
        "id": "QDd0jgIuQx6X",
        "outputId": "daed6088-2ea7-40fb-d0a7-69605377db13"
      },
      "source": [
        "str(ms), str(mn), str(ma)"
      ],
      "execution_count": null,
      "outputs": [
        {
          "output_type": "execute_result",
          "data": {
            "text/plain": [
              "(\"['르노삼성' 'SM3' '준중형' 80 2002 3800 'CNG' 'CVT' 0.0 0.0]\",\n",
              " \"['르노삼성' 'SM3' '준중형' 1350 2020 321552 '전기' '오토' 135.0 2000.0]\",\n",
              " '가격(만원)         475.0\\n연식            2012.0\\n주행거리(km)    108237.0\\n연비(km)           6.0\\n배기량(cc)       1042.0\\ndtype: float64')"
            ]
          },
          "metadata": {},
          "execution_count": 17
        }
      ]
    },
    {
      "cell_type": "code",
      "metadata": {
        "id": "sWjBP03tLItV"
      },
      "source": [
        "def carinfo(models) :\n",
        "    ms = df[df['모델'] == models].min().values\n",
        "    mn = df[df['모델'] == models].max().values\n",
        "    ma = [round(df[df['모델'] == models].mean()).iloc[0], round(df[df['모델'] == models].mean()).iloc[1],\n",
        "          round(df[df['모델'] == models].mean()).iloc[2], round(df[df['모델'] == models].mean()).iloc[3],\n",
        "          round(df[df['모델'] == models].mean()).iloc[4]]\n",
        "    infos = '최고가 정보 :' + str(mn) + '\\n' + '최저가 정보 :' + str(ms) + '\\n' + '평균가 정보 :' + str(ma)\n",
        "    return infos"
      ],
      "execution_count": null,
      "outputs": []
    },
    {
      "cell_type": "code",
      "metadata": {
        "colab": {
          "base_uri": "https://localhost:8080/",
          "height": 53
        },
        "id": "pmC8MDOsS_dB",
        "outputId": "c35e7a5c-bf1f-4a25-8fe0-f66433b4ea47"
      },
      "source": [
        "carinfo('스파크')"
      ],
      "execution_count": null,
      "outputs": [
        {
          "output_type": "execute_result",
          "data": {
            "application/vnd.google.colaboratory.intrinsic+json": {
              "type": "string"
            },
            "text/plain": [
              "\"최고가 정보 :['한국GM' '스파크' '소형' 1530 2021 232398 '디젤' '오토' 21.0 1000.0]\\n최저가 정보 :['한국GM' '스파크' '경차' 159 2010 10 'LPG' 'CVT' 0.0 0.0]\\n평균가 정보 :[598.0, 2015.0, 70663.0, 9.0, 679.0]\""
            ]
          },
          "metadata": {},
          "execution_count": 19
        }
      ]
    },
    {
      "cell_type": "code",
      "metadata": {
        "colab": {
          "base_uri": "https://localhost:8080/",
          "height": 53
        },
        "id": "_sN3h4m-lTLw",
        "outputId": "dc0d627d-27e8-407e-de0d-c595f152c90e"
      },
      "source": [
        "carinfo('G70')"
      ],
      "execution_count": null,
      "outputs": [
        {
          "output_type": "execute_result",
          "data": {
            "application/vnd.google.colaboratory.intrinsic+json": {
              "type": "string"
            },
            "text/plain": [
              "\"최고가 정보 :['제네시스' 'G70' '중형' 5550 2021 220000 '디젤' '오토' 15.2 3342.0]\\n최저가 정보 :['제네시스' 'G70' '중형' 1899 2017 78 '가솔린' '오토' 0.0 0.0]\\n평균가 정보 :[3675.0, 2019.0, 38305.0, 9.0, 2384.0]\""
            ]
          },
          "metadata": {},
          "execution_count": 20
        }
      ]
    },
    {
      "cell_type": "code",
      "metadata": {
        "id": "0wwQOEHPlS10"
      },
      "source": [
        "car_arr = ['스파크', 'G70', '쏘나타']"
      ],
      "execution_count": null,
      "outputs": []
    },
    {
      "cell_type": "code",
      "metadata": {
        "colab": {
          "base_uri": "https://localhost:8080/",
          "height": 53
        },
        "id": "q7-mTq8Nlvhj",
        "outputId": "eb2e4a5b-3576-4990-d754-ed852958e1d0"
      },
      "source": [
        "for cars in car_arr :\n",
        "    infos = carinfo(cars)\n",
        "\n",
        "infos"
      ],
      "execution_count": null,
      "outputs": [
        {
          "output_type": "execute_result",
          "data": {
            "application/vnd.google.colaboratory.intrinsic+json": {
              "type": "string"
            },
            "text/plain": [
              "\"최고가 정보 :['현대' '쏘나타' '중형' 3580 2021 420000 '하이브리드(가솔린)' '오토' 21.0 3000.0]\\n최저가 정보 :['현대' '쏘나타' '중형' 129 1991 10 'LPG' '수동' 0.0 0.0]\\n평균가 정보 :[1106.0, 2014.0, 109144.0, 4.0, 1382.0]\""
            ]
          },
          "metadata": {},
          "execution_count": 22
        }
      ]
    },
    {
      "cell_type": "code",
      "metadata": {
        "colab": {
          "base_uri": "https://localhost:8080/"
        },
        "id": "57Jcm0tyTreD",
        "outputId": "3fce786a-3dce-46e0-e12c-8643c15f8fcd"
      },
      "source": [
        "round(df[df['모델'] == '스파크'].mean())"
      ],
      "execution_count": null,
      "outputs": [
        {
          "output_type": "execute_result",
          "data": {
            "text/plain": [
              "가격(만원)        598.0\n",
              "연식           2015.0\n",
              "주행거리(km)    70663.0\n",
              "연비(km)          9.0\n",
              "배기량(cc)       679.0\n",
              "dtype: float64"
            ]
          },
          "metadata": {},
          "execution_count": 23
        }
      ]
    },
    {
      "cell_type": "code",
      "metadata": {
        "colab": {
          "base_uri": "https://localhost:8080/",
          "height": 201
        },
        "id": "Ag6XO12ugyKv",
        "outputId": "df05cb29-58ed-4b46-9dc3-e96fcba86c48"
      },
      "source": [
        "sinfo = ['가격 :' + round(df[df['모델'] == '스파크'].mean()).iloc[0] + '만원', '연식 :' + round(df[df['모델'] == '스파크'].mean()).iloc[1],\n",
        " '주행거리 :' + round(df[df['모델'] == '스파크'].mean()).iloc[2] + 'km', '연비 :' + round(df[df['모델'] == '스파크'].mean()).iloc[3] + 'km',\n",
        " '배기량 :' + round(df[df['모델'] == '스파크'].mean()).iloc[4] + 'cc']"
      ],
      "execution_count": null,
      "outputs": [
        {
          "output_type": "error",
          "ename": "TypeError",
          "evalue": "ignored",
          "traceback": [
            "\u001b[0;31m---------------------------------------------------------------------------\u001b[0m",
            "\u001b[0;31mTypeError\u001b[0m                                 Traceback (most recent call last)",
            "\u001b[0;32m<ipython-input-24-8137b65a1810>\u001b[0m in \u001b[0;36m<module>\u001b[0;34m()\u001b[0m\n\u001b[0;32m----> 1\u001b[0;31m sinfo = ['가격 :' + round(df[df['모델'] == '스파크'].mean()).iloc[0] + '만원', '연식 :' + round(df[df['모델'] == '스파크'].mean()).iloc[1],\n\u001b[0m\u001b[1;32m      2\u001b[0m  \u001b[0;34m'주행거리 :'\u001b[0m \u001b[0;34m+\u001b[0m \u001b[0mround\u001b[0m\u001b[0;34m(\u001b[0m\u001b[0mdf\u001b[0m\u001b[0;34m[\u001b[0m\u001b[0mdf\u001b[0m\u001b[0;34m[\u001b[0m\u001b[0;34m'모델'\u001b[0m\u001b[0;34m]\u001b[0m \u001b[0;34m==\u001b[0m \u001b[0;34m'스파크'\u001b[0m\u001b[0;34m]\u001b[0m\u001b[0;34m.\u001b[0m\u001b[0mmean\u001b[0m\u001b[0;34m(\u001b[0m\u001b[0;34m)\u001b[0m\u001b[0;34m)\u001b[0m\u001b[0;34m.\u001b[0m\u001b[0miloc\u001b[0m\u001b[0;34m[\u001b[0m\u001b[0;36m2\u001b[0m\u001b[0;34m]\u001b[0m \u001b[0;34m+\u001b[0m \u001b[0;34m'km'\u001b[0m\u001b[0;34m,\u001b[0m \u001b[0;34m'연비 :'\u001b[0m \u001b[0;34m+\u001b[0m \u001b[0mround\u001b[0m\u001b[0;34m(\u001b[0m\u001b[0mdf\u001b[0m\u001b[0;34m[\u001b[0m\u001b[0mdf\u001b[0m\u001b[0;34m[\u001b[0m\u001b[0;34m'모델'\u001b[0m\u001b[0;34m]\u001b[0m \u001b[0;34m==\u001b[0m \u001b[0;34m'스파크'\u001b[0m\u001b[0;34m]\u001b[0m\u001b[0;34m.\u001b[0m\u001b[0mmean\u001b[0m\u001b[0;34m(\u001b[0m\u001b[0;34m)\u001b[0m\u001b[0;34m)\u001b[0m\u001b[0;34m.\u001b[0m\u001b[0miloc\u001b[0m\u001b[0;34m[\u001b[0m\u001b[0;36m3\u001b[0m\u001b[0;34m]\u001b[0m \u001b[0;34m+\u001b[0m \u001b[0;34m'km'\u001b[0m\u001b[0;34m,\u001b[0m\u001b[0;34m\u001b[0m\u001b[0;34m\u001b[0m\u001b[0m\n\u001b[1;32m      3\u001b[0m  '배기량 :' + round(df[df['모델'] == '스파크'].mean()).iloc[4] + 'cc']\n",
            "\u001b[0;31mTypeError\u001b[0m: can only concatenate str (not \"numpy.float64\") to str"
          ]
        }
      ]
    },
    {
      "cell_type": "code",
      "metadata": {
        "id": "huwNnWFziFM7"
      },
      "source": [
        "sinfo = [round(df[df['모델'] == '스파크'].mean()).iloc[0], round(df[df['모델'] == '스파크'].mean()).iloc[1],\n",
        "        round(df[df['모델'] == '스파크'].mean()).iloc[2], round(df[df['모델'] == '스파크'].mean()).iloc[3],\n",
        "        round(df[df['모델'] == '스파크'].mean()).iloc[4]]"
      ],
      "execution_count": null,
      "outputs": []
    },
    {
      "cell_type": "code",
      "metadata": {
        "id": "tfGcH7eKhRLt"
      },
      "source": [
        "str(sinfo)"
      ],
      "execution_count": null,
      "outputs": []
    },
    {
      "cell_type": "code",
      "metadata": {
        "id": "4rNJ-5Ptc1z1"
      },
      "source": [
        "# 원본\n",
        "\n",
        "\n",
        "def query_ans(msg):\n",
        "    btn_data = msg[\"data\"]\n",
        "\n",
        "    if btn_data == '현대':\n",
        "        h_btn1 = BT(text = \"제네시스 쿠페\", callback_data = \"제네시스 쿠페\")\n",
        "        h_btn2 = BT(text = \"제네시스\", callback_data = \"제네시스\")\n",
        "        h_btn3 = BT(text = \"그랜저\", callback_data = \"그랜저\")\n",
        "        h_btn4 = BT(text = \"에쿠스\", callback_data = \"에쿠스\")\n",
        "        h_btn5 = BT(text = \"펠리세이드\", callback_data = \"펠리세이드\")\n",
        "        h_btn6 = BT(text = \"베라크루즈\", callback_data = \"베라크루즈\")\n",
        "        h_btn7 = BT(text = \"팰리세이드\", callback_data = \"팰리세이드\")\n",
        "        h_btn8 = BT(text = \"베라쉐보레 크루즈\", callback_data = \"베라쉐보레 크루즈\")\n",
        "        h_btn9 = BT(text = \"아슬란\", callback_data = \"아슬란\")\n",
        "        h_btn10 = BT(text = \"맥스크루즈\", callback_data = \"맥스크루즈\")\n",
        "        h_btn11 = BT(text = \"쏘나타\", callback_data = \"쏘나타\")\n",
        "        h_btn12 = BT(text = \"아반떼\", callback_data = \"아반떼\")\n",
        "        h_btn13 = BT(text = \"다이너스티\", callback_data = \"다이너스티\")\n",
        "        h_btn14 = BT(text = \"갤로퍼\", callback_data = \"갤로퍼\")\n",
        "        h_btn15 = BT(text = \"테라칸\", callback_data = \"테라칸\")\n",
        "        h_btn16 = BT(text = \"트라제XG\", callback_data = \"트라제XG\")\n",
        "        h_btn17 = BT(text = \"투스카니\", callback_data = \"투스카니\")\n",
        "        h_btn18 = BT(text = \"싼타페\", callback_data = \"싼타페\")\n",
        "        h_btn19 = BT(text = \"투\", callback_data = \"투\")\n",
        "        h_btn20 = BT(text = \"스타렉스\", callback_data = \"스타렉스\")\n",
        "        h_btn21 = BT(text = \"스타리아\", callback_data = \"스타리아\")\n",
        "        h_btn22 = BT(text = \"i30\", callback_data = \"i30\")\n",
        "        h_btn23 = BT(text = \"벨로스터\", callback_data = \"벨로스터\")\n",
        "        h_btn24 = BT(text = \"투싼\", callback_data = \"투싼\")\n",
        "        h_btn25 = BT(text = \"코나\", callback_data = \"코나\")\n",
        "        h_btn26 = BT(text = \"i40\", callback_data = \"i40\")\n",
        "        h_btn27 = BT(text = \"엘란트라\", callback_data = \"엘란트라\")\n",
        "        h_btn28 = BT(text = \"마르샤\", callback_data = \"마르샤\")\n",
        "        h_btn29 = BT(text = \"아이오닉\", callback_data = \"아이오닉\")\n",
        "        h_btn30 = BT(text = \"그라나다\", callback_data = \"그라나다\")\n",
        "        h_btn31 = BT(text = \"티뷰론\", callback_data = \"티뷰론\")\n",
        "        h_btn32 = BT(text = \"엑센트\", callback_data = \"엑센트\")\n",
        "        h_btn33 = BT(text = \"베르나\", callback_data = \"베르나\")\n",
        "        h_btn34 = BT(text = \"클릭\", callback_data = \"클릭\")\n",
        "        h_btn35 = BT(text = \"베뉴\", callback_data = \"베뉴\")\n",
        "        h_btn36 = BT(text = \"뉴엘란트라\", callback_data = \"뉴엘란트라\")\n",
        "        h_btn37 = BT(text = \"포니\", callback_data = \"포니\")\n",
        "        h_btn38 = BT(text = \"아이오닉5\", callback_data = \"아이오닉5\")\n",
        "        h_btn39 = BT(text = \"넥쏘\", callback_data = \"넥쏘\")\n",
        "        h_btn40 = BT(text = \"아토스\", callback_data = \"아토스\")\n",
        "        h_btn41 = BT(text = \"엑셀\", callback_data = \"엑셀\")\n",
        "        mu = MU(inline_keyboard = [[h_btn1, h_btn2], [h_btn3, h_btn4], [h_btn5, h_btn6], [h_btn7, h_btn8],\n",
        "                                   [h_btn9, h_btn10], [h_btn11, h_btn12], [h_btn13, h_btn14], [h_btn15, h_btn16],\n",
        "                                   [h_btn17, h_btn18], [h_btn19, h_btn20], [h_btn21, h_btn22], [h_btn23, h_btn24],\n",
        "                                   [h_btn25, h_btn26], [h_btn27, h_btn28], [h_btn29, h_btn30], [h_btn31, h_btn32],\n",
        "                                   [h_btn33, h_btn34], [h_btn35, h_btn36], [h_btn37, h_btn38], [h_btn39, h_btn40, h_btn41]])\n",
        "        bot.sendMessage(id, \"현대차 모델을 선택해주세요\", reply_markup = mu)\n",
        "\n",
        "    elif btn_data == '기아':\n",
        "        k_btn1 = BT(text = \"모닝\", callback_data = \"모닝\")\n",
        "        k_btn2 = BT(text = \"K7\", callback_data = \"K7\")\n",
        "        k_btn3 = BT(text = \"K9\", callback_data = \"K9\")\n",
        "        k_btn4 = BT(text = \"프라이드\", callback_data = \"프라이드\")\n",
        "        k_btn5 = BT(text = \"모하비\", callback_data = \"모하비\")\n",
        "        k_btn6 = BT(text = \"카니발\", callback_data = \"카니발\")\n",
        "        k_btn7 = BT(text = \"오피러스\", callback_data = \"오피러스\")\n",
        "        k_btn8 = BT(text = \"아만티\", callback_data = \"아만티\")\n",
        "        k_btn9 = BT(text = \"K8\", callback_data = \"K8\")\n",
        "        k_btn10 = BT(text = \"K5\", callback_data = \"K5\")\n",
        "        k_btn11 = BT(text = \"로체\", callback_data = \"로체\")\n",
        "        k_btn12 = BT(text = \"스팅어\", callback_data = \"스팅어\")\n",
        "        k_btn13 = BT(text = \"쏘렌토\", callback_data = \"쏘렌토\")\n",
        "        k_btn14 = BT(text = \"엔터프라이즈\", callback_data = \"엔터프라이즈\")\n",
        "        k_btn15 = BT(text = \"쏘울\", callback_data = \"쏘울\")\n",
        "        k_btn16 = BT(text = \"포르테\", callback_data = \"포르테\")\n",
        "        k_btn17 = BT(text = \"K3\", callback_data = \"K3\")\n",
        "        k_btn18 = BT(text = \"포텐샤\", callback_data = \"포텐샤\")\n",
        "        k_btn19 = BT(text = \"카렌스\", callback_data = \"카렌스\")\n",
        "        k_btn20 = BT(text = \"크레도스\", callback_data = \"크레도스\")\n",
        "        k_btn21 = BT(text = \"스포티지\", callback_data = \"스포티지\")\n",
        "        k_btn22 = BT(text = \"옵티마\", callback_data = \"옵티마\")\n",
        "        k_btn23 = BT(text = \"레토나\", callback_data = \"레토나\")\n",
        "        k_btn24 = BT(text = \"콩코드\", callback_data = \"콩코드\")\n",
        "        k_btn25 = BT(text = \"엑스트렉\", callback_data = \"엑스트렉\")\n",
        "        k_btn26 = BT(text = \"엘란\", callback_data = \"엘란\")\n",
        "        k_btn27 = BT(text = \"쎄라토\", callback_data = \"쎄라토\")\n",
        "        k_btn28 = BT(text = \"스토닉\", callback_data = \"스토닉\")\n",
        "        k_btn29 = BT(text = \"셀토스\", callback_data = \"셀토스\")\n",
        "        k_btn30 = BT(text = \"니로\", callback_data = \"니로\")\n",
        "        k_btn31 = BT(text = \"세피아\", callback_data = \"세피아\")\n",
        "        k_btn32 = BT(text = \"스펙트라\", callback_data = \"스펙트라\")\n",
        "        k_btn33 = BT(text = \"레이\", callback_data = \"레이\")\n",
        "        k_btn34 = BT(text = \"모닝밴\", callback_data = \"모닝밴\")\n",
        "        k_btn35 = BT(text = \"레이밴\", callback_data = \"레이밴\")\n",
        "        k_btn36 = BT(text = \"비스토\", callback_data = \"비스토\")\n",
        "        k_btn37 = BT(text = \"카스타\", callback_data = \"카스타\")\n",
        "        k_btn38 = BT(text = \"캐피탈\", callback_data = \"캐피탈\")\n",
        "        mu = MU(inline_keyboard = [[k_btn1, k_btn2], [k_btn3, k_btn4], [k_btn5, k_btn6], [k_btn7, k_btn8],\n",
        "                                   [k_btn9, k_btn10], [k_btn11, k_btn12], [k_btn13, k_btn14], [k_btn15, k_btn16],\n",
        "                                   [k_btn17, k_btn18], [k_btn19, k_btn20], [k_btn21, k_btn22], [k_btn23, k_btn24],\n",
        "                                   [k_btn25, k_btn26], [k_btn27, k_btn28], [k_btn29, k_btn30], [k_btn31, k_btn32],\n",
        "                                   [k_btn33, k_btn34], [k_btn35, k_btn36], [k_btn37, k_btn38]])\n",
        "        bot.sendMessage(id, \"기아차 모델을 선택해주세요\", reply_markup = mu)\n",
        "\n",
        "    elif btn_data == '쌍용':\n",
        "        s_btn1 = BT(text = \"티볼리\", callback_data = \"티볼리\")\n",
        "        s_btn2 = BT(text = \"무쏘\", callback_data = \"무쏘\")\n",
        "        s_btn3 = BT(text = \"렉스턴\", callback_data = \"렉스턴\")\n",
        "        s_btn4 = BT(text = \"코란도\", callback_data = \"코란도\")\n",
        "        s_btn5 = BT(text = \"카이런\", callback_data = \"카이런\")\n",
        "        s_btn6 = BT(text = \"코란도\", callback_data = \"코란도\")\n",
        "        s_btn7 = BT(text = \"액티언\", callback_data = \"액티언\")\n",
        "        s_btn8 = BT(text = \"체어맨\", callback_data = \"체어맨\")\n",
        "        s_btn9 = BT(text = \"렉스턴\", callback_data = \"렉스턴\")\n",
        "        s_btn10 = BT(text = \"로디우스\", callback_data = \"로디우스\")\n",
        "        mu = MU(inline_keyboard = [[s_btn1, s_btn2], [s_btn3, s_btn4], [s_btn5, s_btn6], [s_btn7, s_btn8],\n",
        "                                   [s_btn9, s_btn10]])\n",
        "        bot.sendMessage(id, \"쌍용차 모델을 선택해주세요\", reply_markup = mu)\n",
        "\n",
        "    elif btn_data == '제네시스':\n",
        "        g_btn1 = BT(text = \"BH330\", callback_data = \"BH330\")\n",
        "        g_btn2 = BT(text = \"BH380\", callback_data = \"BH380\")\n",
        "        g_btn3 = BT(text = \"GP500\", callback_data = \"GP500\")\n",
        "        g_btn4 = BT(text = \"G330\", callback_data = \"G330\")\n",
        "        g_btn5 = BT(text = \"G380\", callback_data = \"G380\")\n",
        "        g_btn6 = BT(text = \"G90\", callback_data = \"G90\")\n",
        "        g_btn7 = BT(text = \"G80\", callback_data = \"G80\")\n",
        "        g_btn8 = BT(text = \"EQ900\", callback_data = \"EQ900\")\n",
        "        g_btn9 = BT(text = \"BH460\", callback_data = \"BH460\")\n",
        "        g_btn10 = BT(text = \"3.8\", callback_data = \"3.8\")\n",
        "        g_btn11 = BT(text = \"GV70\", callback_data = \"GV70\")\n",
        "        g_btn12 = BT(text = \"GV80\", callback_data = \"GV80\")\n",
        "        g_btn13 = BT(text = \"G70\", callback_data = \"G70\")\n",
        "        g_btn14 = BT(text = \"GP380\", callback_data = \"GP380\")\n",
        "        mu = MU(inline_keyboard = [[g_btn1, g_btn2], [g_btn3, g_btn4], [g_btn5, g_btn6], [g_btn7, g_btn8],\n",
        "                                   [g_btn9, g_btn10], [g_btn11, g_btn12], [g_btn13, g_btn14]])\n",
        "        bot.sendMessage(id, \"제네시스차 모델을 선택해주세요\", reply_markup = mu)\n",
        "\n",
        "    elif btn_data == '한국GM':\n",
        "        m_btn1 = BT(text = \"토스카\", callback_data = \"토스카\")\n",
        "        m_btn2 = BT(text = \"쉐보레 말리부\", callback_data = \" 쉐보레 말리부\")\n",
        "        m_btn3 = BT(text = \"쉐보레 카마로\", callback_data = \"쉐보레 카마로\")\n",
        "        m_btn4 = BT(text = \"카마로\", callback_data = \"카마로\")\n",
        "        m_btn5 = BT(text = \"쉐보레 콜벳\", callback_data = \"쉐보레 콜벳\")\n",
        "        m_btn6 = BT(text = \"쉐보레 트래버스\", callback_data = \"쉐보레 트래버스\")\n",
        "        m_btn7 = BT(text = \"쉐보레 임팔라\", callback_data = \"쉐보레 임팔라\")\n",
        "        m_btn8 = BT(text = \"스테이츠맨\", callback_data = \"스테이츠맨\")\n",
        "        m_btn9 = BT(text = \"베리타스\", callback_data = \"베리타스\")\n",
        "        m_btn10 = BT(text = \"아카디아\", callback_data = \"아카디아\")\n",
        "        m_btn11 = BT(text = \"알페온\", callback_data = \"알페온\")\n",
        "        m_btn12 = BT(text = \"윈스톰\", callback_data = \"윈스톰\")\n",
        "        m_btn13 = BT(text = \"쉐보레 캡티바\", callback_data = \"쉐보레 캡티바\")\n",
        "        m_btn14 = BT(text = \"쉐보레 올란도\", callback_data = \"쉐보레 올란도\")\n",
        "        m_btn15 = BT(text = \"라세티\", callback_data = \"라세티\")\n",
        "        m_btn16 = BT(text = \"쉐보레 크루즈\", callback_data = \"쉐보레 크루즈\")\n",
        "        m_btn17 = BT(text = \"레조\", callback_data = \"레조\")\n",
        "        m_btn18 = BT(text = \"G2X\", callback_data = \"G2X\")\n",
        "        m_btn19 = BT(text = \"쉐보레 말리부\", callback_data = \"쉐보레 말리부\")\n",
        "        m_btn20 = BT(text = \"토스카\", callback_data = \"토스카\")\n",
        "        m_btn21 = BT(text = \"프린스\", callback_data = \"프린스\")\n",
        "        m_btn22 = BT(text = \"쉐보레 아베오\", callback_data = \"쉐보레 아베오\")\n",
        "        m_btn23 = BT(text = \"쉐보레 트랙스\", callback_data = \"쉐보레 트랙스\")\n",
        "        m_btn24 = BT(text = \"쉐보레 이쿼녹스\", callback_data = \"쉐보레 이쿼녹스\")\n",
        "        m_btn25 = BT(text = \"젠트라\", callback_data = \"젠트라\")\n",
        "        m_btn26 = BT(text = \"쉐보레 볼트\", callback_data = \"쉐보레 볼트\")\n",
        "        m_btn27 = BT(text = \"쉐보레 트레일블레이저\", callback_data = \"쉐보레 트레일블레이저\")\n",
        "        m_btn28 = BT(text = \"쉐보레 스파크\", callback_data = \"쉐보레 스파크\")\n",
        "        m_btn29 = BT(text = \"스파크\", callback_data = \"스파크\")\n",
        "        m_btn30 = BT(text = \"마티즈\", callback_data = \"마티즈\")\n",
        "        m_btn31 = BT(text = \"티코\", callback_data = \"티코\")\n",
        "        m_btn32 = BT(text = \"라보\", callback_data = \"라보\")\n",
        "        m_btn33 = BT(text = \"다마스\", callback_data = \"다마스\")\n",
        "        mu = MU(inline_keyboard = [[m_btn1, m_btn2], [m_btn3, m_btn4], [m_btn5, m_btn6], [m_btn7, m_btn8],\n",
        "                                   [m_btn9, m_btn10], [m_btn11, m_btn12], [m_btn13, m_btn14], [m_btn15, m_btn16],\n",
        "                                   [m_btn17, m_btn18], [m_btn19, m_btn20], [m_btn21, m_btn22], [m_btn23, m_btn24],\n",
        "                                   [m_btn25, m_btn26], [m_btn27, m_btn28], [m_btn29, m_btn30], [m_btn31, m_btn32, m_btn33]])\n",
        "        bot.sendMessage(id, \"한국GM차 모델을 선택해주세요\", reply_markup = mu)\n",
        "\n",
        "    elif btn_data == '르노삼성':\n",
        "        r_btn1 = BT(text = \"QM6\", callback_data = \"QM6\")\n",
        "        r_btn2 = BT(text = \"QM5\", callback_data = \"QM5\")\n",
        "        r_btn3 = BT(text = \"QM3\", callback_data = \"QM3\")\n",
        "        r_btn4 = BT(text = \"SM7\", callback_data = \"SM7\")\n",
        "        r_btn5 = BT(text = \"SM5\", callback_data = \"SM5\")\n",
        "        r_btn6 = BT(text = \"SM6\", callback_data = \"SM6\")\n",
        "        r_btn7 = BT(text = \"SM3\", callback_data = \"SM3\")\n",
        "        r_btn8 = BT(text = \"클리오\", callback_data = \"클리오\")\n",
        "        r_btn9 = BT(text = \"XM3\", callback_data = \"XM3\")\n",
        "        r_btn10 = BT(text = \"조에\", callback_data = \"조에\")\n",
        "        r_btn11 = BT(text = \"캡처\", callback_data = \"캡처\")\n",
        "        r_btn12 = BT(text = \"트위지\", callback_data = \"트위지\")\n",
        "        mu = MU(inline_keyboard = [[r_btn1, r_btn2], [r_btn3, r_btn4], [r_btn5, r_btn6], [r_btn7, r_btn8],\n",
        "                                   [r_btn9, r_btn10], [r_btn11, r_btn12]])\n",
        "        bot.sendMessage(id, \"르노삼성차 모델을 선택해주세요\", reply_markup = mu)\n",
        "\n",
        "  \n",
        "    elif btn_data in car_arr:\n",
        "        payinfo = carinfo(btn_data)\n",
        "        # bot.send_message(chat_id=id, text=f'{pricelist}')\n",
        "        bot.sendMessage(chat_id=id, text='찾으신 가격정보입니다' + '\\n' +\n",
        "                        '최고가 & 최저가 정보\\n------------------------------\\n' + \n",
        "                        '제조사, 모델, 차종, 가격(만원), 연식, 주행거리(km), 연료, 변속기, 연비(km), 배기량(cc)' + '\\n' + '\\n' +\n",
        "                        '평균가 정보\\n------------------------------\\n' +\n",
        "                        '가격(만원), 연식, 주행거리(km), 연비(km), 배기량(cc)' + '\\n' + '\\n' +\n",
        "                        payinfo)\n",
        "        bot.sendMessage(chat_id=id, text='차차봇을 이용해주셔서 감사합니다!\\n' + '다른 정보가 궁금하시면 *차차야*라고 불러주세요')\n"
      ],
      "execution_count": null,
      "outputs": []
    },
    {
      "cell_type": "code",
      "metadata": {
        "id": "70Xt17lthSVT"
      },
      "source": [
        "def query_ans(msg):\n",
        "    btn_data = msg[\"data\"]\n",
        "\n",
        "    if btn_data == '현대':\n",
        "        h_btn1 = BT(text = \"쿠페\", callback_data = \"쿠페\")\n",
        "        h_btn2 = BT(text = \"제네시스\", callback_data = \"제네시스\")\n",
        "        h_btn3 = BT(text = \"그랜저\", callback_data = \"그랜저\")\n",
        "        h_btn4 = BT(text = \"에쿠스\", callback_data = \"에쿠스\")\n",
        "        h_btn6 = BT(text = \"베라크루즈\", callback_data = \"베라크루즈\")\n",
        "        h_btn7 = BT(text = \"팰리세이드\", callback_data = \"팰리세이드\")\n",
        "        h_btn9 = BT(text = \"아슬란\", callback_data = \"아슬란\")\n",
        "        h_btn10 = BT(text = \"맥스크루즈\", callback_data = \"맥스크루즈\")\n",
        "        h_btn11 = BT(text = \"쏘나타\", callback_data = \"쏘나타\")\n",
        "        h_btn12 = BT(text = \"아반떼\", callback_data = \"아반떼\")\n",
        "        h_btn13 = BT(text = \"다이너스티\", callback_data = \"다이너스티\")\n",
        "        h_btn14 = BT(text = \"갤로퍼\", callback_data = \"갤로퍼\")\n",
        "        h_btn15 = BT(text = \"테라칸\", callback_data = \"테라칸\")\n",
        "        h_btn16 = BT(text = \"트라제XG\", callback_data = \"트라제XG\")\n",
        "        h_btn17 = BT(text = \"투스카니\", callback_data = \"투스카니\")\n",
        "        h_btn18 = BT(text = \"싼타페\", callback_data = \"싼타페\")\n",
        "        h_btn20 = BT(text = \"스타렉스\", callback_data = \"스타렉스\")\n",
        "        h_btn21 = BT(text = \"스타리아\", callback_data = \"스타리아\")\n",
        "        h_btn22 = BT(text = \"i30\", callback_data = \"i30\")\n",
        "        h_btn23 = BT(text = \"벨로스터\", callback_data = \"벨로스터\")\n",
        "        h_btn24 = BT(text = \"투싼\", callback_data = \"투싼\")\n",
        "        h_btn25 = BT(text = \"코나\", callback_data = \"코나\")\n",
        "        h_btn26 = BT(text = \"i40\", callback_data = \"i40\")\n",
        "        h_btn27 = BT(text = \"엘란트라\", callback_data = \"엘란트라\")\n",
        "        h_btn28 = BT(text = \"마르샤\", callback_data = \"마르샤\")\n",
        "        h_btn29 = BT(text = \"아이오닉\", callback_data = \"아이오닉\")\n",
        "        h_btn30 = BT(text = \"그라나다\", callback_data = \"그라나다\")\n",
        "        h_btn31 = BT(text = \"티뷰론\", callback_data = \"티뷰론\")\n",
        "        h_btn32 = BT(text = \"엑센트\", callback_data = \"엑센트\")\n",
        "        h_btn33 = BT(text = \"베르나\", callback_data = \"베르나\")\n",
        "        h_btn34 = BT(text = \"클릭\", callback_data = \"클릭\")\n",
        "        h_btn35 = BT(text = \"베뉴\", callback_data = \"베뉴\")\n",
        "        h_btn36 = BT(text = \"뉴엘란트라\", callback_data = \"뉴엘란트라\")\n",
        "        h_btn37 = BT(text = \"포니\", callback_data = \"포니\")\n",
        "        h_btn38 = BT(text = \"아이오닉5\", callback_data = \"아이오닉5\")\n",
        "        h_btn39 = BT(text = \"넥쏘\", callback_data = \"넥쏘\")\n",
        "        h_btn40 = BT(text = \"아토스\", callback_data = \"아토스\")\n",
        "        h_btn41 = BT(text = \"엑셀\", callback_data = \"엑셀\")\n",
        "        mu = MU(inline_keyboard = [[h_btn1, h_btn2], [h_btn3, h_btn4], [h_btn6, h_btn7],\n",
        "                                   [h_btn9, h_btn10], [h_btn11, h_btn12], [h_btn13, h_btn14], [h_btn15, h_btn16],\n",
        "                                   [h_btn17, h_btn18], [h_btn41, h_btn20], [h_btn21, h_btn22], [h_btn23, h_btn24],\n",
        "                                   [h_btn25, h_btn26], [h_btn27, h_btn28], [h_btn29, h_btn30], [h_btn31, h_btn32],\n",
        "                                   [h_btn33, h_btn34], [h_btn35, h_btn36], [h_btn37, h_btn38], [h_btn39, h_btn40]])\n",
        "        bot.sendMessage(id, \"현대차 모델을 선택해주세요\", reply_markup = mu)\n",
        "\n",
        "    elif btn_data == '기아':\n",
        "        k_btn1 = BT(text = \"모닝\", callback_data = \"모닝\")\n",
        "        k_btn2 = BT(text = \"K7\", callback_data = \"K7\")\n",
        "        k_btn3 = BT(text = \"K9\", callback_data = \"K9\")\n",
        "        k_btn4 = BT(text = \"프라이드\", callback_data = \"프라이드\")\n",
        "        k_btn5 = BT(text = \"모하비\", callback_data = \"모하비\")\n",
        "        k_btn6 = BT(text = \"카니발\", callback_data = \"카니발\")\n",
        "        k_btn7 = BT(text = \"오피러스\", callback_data = \"오피러스\")\n",
        "        k_btn8 = BT(text = \"아만티\", callback_data = \"아만티\")\n",
        "        k_btn9 = BT(text = \"K8\", callback_data = \"K8\")\n",
        "        k_btn10 = BT(text = \"K5\", callback_data = \"K5\")\n",
        "        k_btn11 = BT(text = \"로체\", callback_data = \"로체\")\n",
        "        k_btn12 = BT(text = \"스팅어\", callback_data = \"스팅어\")\n",
        "        k_btn13 = BT(text = \"쏘렌토\", callback_data = \"쏘렌토\")\n",
        "        k_btn14 = BT(text = \"엔터프라이즈\", callback_data = \"엔터프라이즈\")\n",
        "        k_btn15 = BT(text = \"쏘울\", callback_data = \"쏘울\")\n",
        "        k_btn16 = BT(text = \"포르테\", callback_data = \"포르테\")\n",
        "        k_btn17 = BT(text = \"K3\", callback_data = \"K3\")\n",
        "        k_btn18 = BT(text = \"포텐샤\", callback_data = \"포텐샤\")\n",
        "        k_btn19 = BT(text = \"카렌스\", callback_data = \"카렌스\")\n",
        "        k_btn20 = BT(text = \"크레도스\", callback_data = \"크레도스\")\n",
        "        k_btn21 = BT(text = \"스포티지\", callback_data = \"스포티지\")\n",
        "        k_btn22 = BT(text = \"옵티마\", callback_data = \"옵티마\")\n",
        "        k_btn23 = BT(text = \"레토나\", callback_data = \"레토나\")\n",
        "        k_btn24 = BT(text = \"콩코드\", callback_data = \"콩코드\")\n",
        "        k_btn25 = BT(text = \"엑스트렉\", callback_data = \"엑스트렉\")\n",
        "        k_btn26 = BT(text = \"엘란\", callback_data = \"엘란\")\n",
        "        k_btn27 = BT(text = \"쎄라토\", callback_data = \"쎄라토\")\n",
        "        k_btn28 = BT(text = \"스토닉\", callback_data = \"스토닉\")\n",
        "        k_btn29 = BT(text = \"셀토스\", callback_data = \"셀토스\")\n",
        "        k_btn30 = BT(text = \"니로\", callback_data = \"니로\")\n",
        "        k_btn31 = BT(text = \"세피아\", callback_data = \"세피아\")\n",
        "        k_btn32 = BT(text = \"스펙트라\", callback_data = \"스펙트라\")\n",
        "        k_btn33 = BT(text = \"레이\", callback_data = \"레이\")\n",
        "        k_btn34 = BT(text = \"모닝밴\", callback_data = \"모닝밴\")\n",
        "        k_btn35 = BT(text = \"레이밴\", callback_data = \"레이밴\")\n",
        "        k_btn36 = BT(text = \"비스토\", callback_data = \"비스토\")\n",
        "        k_btn37 = BT(text = \"카스타\", callback_data = \"카스타\")\n",
        "        k_btn38 = BT(text = \"캐피탈\", callback_data = \"캐피탈\")\n",
        "        mu = MU(inline_keyboard = [[k_btn1, k_btn2], [k_btn3, k_btn4], [k_btn5, k_btn6], [k_btn7, k_btn8],\n",
        "                                   [k_btn9, k_btn10], [k_btn11, k_btn12], [k_btn13, k_btn14], [k_btn15, k_btn16],\n",
        "                                   [k_btn17, k_btn18], [k_btn19, k_btn20], [k_btn21, k_btn22], [k_btn23, k_btn24],\n",
        "                                   [k_btn25, k_btn26], [k_btn27, k_btn28], [k_btn29, k_btn30], [k_btn31, k_btn32],\n",
        "                                   [k_btn33, k_btn34], [k_btn35, k_btn36], [k_btn37, k_btn38]])\n",
        "        bot.sendMessage(id, \"기아차 모델을 선택해주세요\", reply_markup = mu)\n",
        "\n",
        "    elif btn_data == '쌍용':\n",
        "        s_btn1 = BT(text = \"티볼리\", callback_data = \"티볼리\")\n",
        "        s_btn2 = BT(text = \"무쏘\", callback_data = \"무쏘\")\n",
        "        s_btn3 = BT(text = \"렉스턴\", callback_data = \"렉스턴\")\n",
        "        s_btn4 = BT(text = \"코란도\", callback_data = \"코란도\")\n",
        "        s_btn5 = BT(text = \"카이런\", callback_data = \"카이런\")\n",
        "        s_btn6 = BT(text = \"액티언\", callback_data = \"액티언\")\n",
        "        s_btn7 = BT(text = \"체어맨\", callback_data = \"체어맨\")\n",
        "        s_btn8 = BT(text = \"로디우스\", callback_data = \"로디우스\")\n",
        "        mu = MU(inline_keyboard = [[s_btn1, s_btn2], [s_btn3, s_btn4], [s_btn5, s_btn6], [s_btn7, s_btn8]])\n",
        "        bot.sendMessage(id, \"쌍용차 모델을 선택해주세요\", reply_markup = mu)\n",
        "\n",
        "    elif btn_data == '제네시스':\n",
        "        g_btn1 = BT(text = \"BH330\", callback_data = \"BH330\")\n",
        "        g_btn2 = BT(text = \"BH380\", callback_data = \"BH380\")\n",
        "        g_btn3 = BT(text = \"GP500\", callback_data = \"GP500\")\n",
        "        g_btn4 = BT(text = \"G330\", callback_data = \"G330\")\n",
        "        g_btn5 = BT(text = \"G380\", callback_data = \"G380\")\n",
        "        g_btn6 = BT(text = \"G90\", callback_data = \"G90\")\n",
        "        g_btn7 = BT(text = \"G80\", callback_data = \"G80\")\n",
        "        g_btn8 = BT(text = \"EQ900\", callback_data = \"EQ900\")\n",
        "        g_btn9 = BT(text = \"BH460\", callback_data = \"BH460\")\n",
        "        g_btn10 = BT(text = \"GP380\", callback_data = \"GP380\")\n",
        "        g_btn11 = BT(text = \"GV70\", callback_data = \"GV70\")\n",
        "        g_btn12 = BT(text = \"GV80\", callback_data = \"GV80\")\n",
        "        g_btn13 = BT(text = \"G70\", callback_data = \"G70\")\n",
        "        mu = MU(inline_keyboard = [[g_btn1, g_btn2], [g_btn3, g_btn4], [g_btn5, g_btn6], [g_btn7, g_btn8],\n",
        "                                   [g_btn9, g_btn10], [g_btn11, g_btn12, g_btn13]])\n",
        "        bot.sendMessage(id, \"제네시스차 모델을 선택해주세요\", reply_markup = mu)\n",
        "\n",
        "    elif btn_data == '한국GM':\n",
        "        m_btn1 = BT(text = \"토스카\", callback_data = \"토스카\")\n",
        "        m_btn2 = BT(text = \"말리부\", callback_data = \"말리부\")\n",
        "        m_btn3 = BT(text = \"카마로\", callback_data = \"카마로\")\n",
        "        m_btn4 = BT(text = \"콜벳\", callback_data = \"콜벳\")\n",
        "        m_btn5 = BT(text = \"트래버스\", callback_data = \"트래버스\")\n",
        "        m_btn6 = BT(text = \"임팔라\", callback_data = \"임팔라\")\n",
        "        m_btn7 = BT(text = \"스테이츠맨\", callback_data = \"스테이츠맨\")\n",
        "        m_btn8 = BT(text = \"베리타스\", callback_data = \"베리타스\")\n",
        "        m_btn9 = BT(text = \"아카디아\", callback_data = \"아카디아\")\n",
        "        m_btn10 = BT(text = \"알페온\", callback_data = \"알페온\")\n",
        "        m_btn11 = BT(text = \"윈스톰\", callback_data = \"윈스톰\")\n",
        "        m_btn12 = BT(text = \"캡티바\", callback_data = \"캡티바\")\n",
        "        m_btn13 = BT(text = \"올란도\", callback_data = \"올란도\")\n",
        "        m_btn14 = BT(text = \"라세티\", callback_data = \"라세티\")\n",
        "        m_btn15 = BT(text = \"크루즈\", callback_data = \"크루즈\")\n",
        "        m_btn16 = BT(text = \"레조\", callback_data = \"레조\")\n",
        "        m_btn17 = BT(text = \"G2X\", callback_data = \"G2X\")\n",
        "        m_btn18 = BT(text = \"프린스\", callback_data = \"프린스\")\n",
        "        m_btn19 = BT(text = \"아베오\", callback_data = \"아베오\")\n",
        "        m_btn20 = BT(text = \"트랙스\", callback_data = \"트랙스\")\n",
        "        m_btn21 = BT(text = \"이쿼녹스\", callback_data = \"이쿼녹스\")\n",
        "        m_btn22 = BT(text = \"젠트라\", callback_data = \"젠트라\")\n",
        "        m_btn23 = BT(text = \"볼트\", callback_data = \"볼트\")\n",
        "        m_btn24 = BT(text = \"트레일블레이저\", callback_data = \"트레일블레이저\")\n",
        "        m_btn25 = BT(text = \"스파크\", callback_data = \"스파크\")\n",
        "        m_btn26 = BT(text = \"마티즈\", callback_data = \"마티즈\")\n",
        "        m_btn27 = BT(text = \"티코\", callback_data = \"티코\")\n",
        "        m_btn28 = BT(text = \"라보\", callback_data = \"라보\")\n",
        "        m_btn29 = BT(text = \"다마스\", callback_data = \"다마스\")\n",
        "        mu = MU(inline_keyboard = [[m_btn1, m_btn2], [m_btn3, m_btn4], [m_btn5, m_btn6], [m_btn7, m_btn8],\n",
        "                                   [m_btn9, m_btn10], [m_btn11, m_btn12], [m_btn13, m_btn14], [m_btn15, m_btn16],\n",
        "                                   [m_btn17, m_btn18], [m_btn19, m_btn20], [m_btn21, m_btn22], [m_btn23, m_btn24],\n",
        "                                   [m_btn25, m_btn26], [m_btn27, m_btn28, m_btn29]])\n",
        "        bot.sendMessage(id, \"한국GM차 모델을 선택해주세요\", reply_markup = mu)\n",
        "\n",
        "    elif btn_data == '르노삼성':\n",
        "        r_btn1 = BT(text = \"QM6\", callback_data = \"QM6\")\n",
        "        r_btn2 = BT(text = \"QM5\", callback_data = \"QM5\")\n",
        "        r_btn3 = BT(text = \"QM3\", callback_data = \"QM3\")\n",
        "        r_btn4 = BT(text = \"SM7\", callback_data = \"SM7\")\n",
        "        r_btn5 = BT(text = \"SM5\", callback_data = \"SM5\")\n",
        "        r_btn6 = BT(text = \"SM6\", callback_data = \"SM6\")\n",
        "        r_btn7 = BT(text = \"SM3\", callback_data = \"SM3\")\n",
        "        r_btn8 = BT(text = \"클리오\", callback_data = \"클리오\")\n",
        "        r_btn9 = BT(text = \"XM3\", callback_data = \"XM3\")\n",
        "        r_btn10 = BT(text = \"조에\", callback_data = \"조에\")\n",
        "        r_btn11 = BT(text = \"캡처\", callback_data = \"캡처\")\n",
        "        r_btn12 = BT(text = \"트위지\", callback_data = \"트위지\")\n",
        "        mu = MU(inline_keyboard = [[r_btn1, r_btn2], [r_btn3, r_btn4], [r_btn5, r_btn6], [r_btn7, r_btn8],\n",
        "                                   [r_btn9, r_btn10], [r_btn11, r_btn12]])\n",
        "        bot.sendMessage(id, \"르노삼성차 모델을 선택해주세요\", reply_markup = mu)\n",
        "\n",
        "  \n",
        "    elif btn_data in car_arr:\n",
        "        payinfo = carinfo(btn_data)\n",
        "        # bot.send_message(chat_id=id, text=f'{pricelist}')\n",
        "        bot.sendMessage(chat_id=id, text='찾으신 가격정보입니다' + '\\n' +\n",
        "                        '최고가 & 최저가 정보\\n------------------------------\\n' + \n",
        "                        '제조사, 모델, 차종, 가격(만원), 연식, 주행거리(km), 연료, 변속기, 연비(km), 배기량(cc)' + '\\n' + '\\n' +\n",
        "                        '평균가 정보\\n------------------------------\\n' +\n",
        "                        '가격(만원), 연식, 주행거리(km), 연비(km), 배기량(cc)' + '\\n' + '\\n' +\n",
        "                        payinfo)\n",
        "        bot.sendMessage(chat_id=id, text='차차봇을 이용해주셔서 감사합니다!\\n' + '다른 정보가 궁금하시면 *차차야*라고 불러주세요')"
      ],
      "execution_count": null,
      "outputs": []
    },
    {
      "cell_type": "code",
      "metadata": {
        "id": "M3UOlnohBQxp"
      },
      "source": [
        "def predict(text):\n",
        "    user_values = text.split()\n",
        "    user_values = user_values[1:10]\n",
        "    bot.send_message(chat_id = id, text = f'입력해주신 \\n\\n{user_values}\\n\\n 정보를 토대로 가격 예측중 입니다 잠시만 기다려주세요')\n",
        "    \n",
        "    bot.send_animation(animation=open('./img.gif', 'rb'), chat_id = id, duration = 5).deleteLater()\n",
        "    \n",
        "    \n",
        "    # 제조사 모델 차종 연식 주행거리 연료 변속기 연비 배기량\n",
        "    user_df = df.drop(['가격(만원)'], axis = 1)\n",
        "    user_df.append(pd.Series(user_values, index=user_df.columns), ignore_index=True)\n",
        "    hot_incoder = pd.get_dummies(df)\n",
        "    hot_incoder1 = pd.get_dummies(user_df)\n",
        "    \n",
        "    features = hot_incoder1.loc[:, '연식':'변속기_오토']\n",
        "    X = features.values\n",
        "    y = hot_incoder['가격(만원)']\n",
        "    X_train, X_test, y_train, y_test = train_test_split(X, y, random_state = 0)\n",
        "    logreg = RandomForestRegressor(oob_score=True, n_jobs=-1, random_state=42)\n",
        "    logreg.fit(X_train, y_train)\n",
        "    train_pred = logreg.predict(X_test)\n",
        "    \n",
        "    bot.send_message(id, f'{round(accuracy_score(y_test, train_pred), 2) * 100}% 정확도의 머신러닝을 통한 중고차 예측 가격은 {round(train_pred[len(train_pred)-1])}만원 입니다.')"
      ],
      "execution_count": null,
      "outputs": []
    },
    {
      "cell_type": "code",
      "metadata": {
        "id": "6cjVO9_-H3SE"
      },
      "source": [
        "def predict(text):\n",
        "\n",
        "    user_values = text.split()\n",
        "    user_values = user_values[0:10]\n",
        "\n",
        "    # 제조사 모델 차종 연식 주행거리 연료 변속기 연비 배기량\n",
        "    user_df = df.drop(['가격(만원)'], axis = 1)\n",
        "    user_df.append(pd.Series(user_values, index=user_df.columns), ignore_index=True)\n",
        "    hot_incoder = pd.get_dummies(df)\n",
        "    hot_incoder1 = pd.get_dummies(user_df)\n",
        "    \n",
        "    features = hot_incoder1.loc[:, '연식':'변속기_오토']\n",
        "    X = features.values\n",
        "    y = hot_incoder['가격(만원)']\n",
        "    X_train, X_test, y_train, y_test = train_test_split(X, y, random_state = 0)\n",
        "    logreg = RandomForestRegressor(oob_score=True, n_jobs=-1, random_state=42)\n",
        "    logreg.fit(X_train, y_train)\n",
        "    train_pred = logreg.predict(X_test)\n",
        "    mess = f'{round(mean_squared_error(y_test, train_pred), 2) * 100}% 정확도로 자동차 예상 가격은 {round(train_pred[len(train_pred)-1])}만원 입니다.'\n",
        "\n",
        "    return mess"
      ],
      "execution_count": null,
      "outputs": []
    },
    {
      "cell_type": "code",
      "metadata": {
        "colab": {
          "base_uri": "https://localhost:8080/",
          "height": 35
        },
        "id": "GCCzmLS1LUWH",
        "outputId": "ef9c411d-fe55-4ec3-b88c-678be8348ba4"
      },
      "source": [
        "# 제조사 모델 차종 연식 주행거리 연료 변속기 연비 배기량\n",
        "predict('기아 K5 중형 2020 10382 가솔린 오토 13 0')"
      ],
      "execution_count": null,
      "outputs": [
        {
          "output_type": "execute_result",
          "data": {
            "application/vnd.google.colaboratory.intrinsic+json": {
              "type": "string"
            },
            "text/plain": [
              "'100.0% 정확도의 머신러닝을 통한 중고차 예측 가격은 3947만원 입니다.'"
            ]
          },
          "metadata": {},
          "execution_count": 24
        }
      ]
    },
    {
      "cell_type": "code",
      "metadata": {
        "colab": {
          "base_uri": "https://localhost:8080/",
          "height": 35
        },
        "id": "1urjhKLqLdNu",
        "outputId": "4c6c2a30-940c-4066-d275-e159eec71e41"
      },
      "source": [
        "predict('제네시스 G80 대형 2018 60000 디젤 오토 12 1000')"
      ],
      "execution_count": null,
      "outputs": [
        {
          "output_type": "execute_result",
          "data": {
            "application/vnd.google.colaboratory.intrinsic+json": {
              "type": "string"
            },
            "text/plain": [
              "'100.0% 정확도의 머신러닝을 통한 중고차 예측 가격은 2449만원 입니다.'"
            ]
          },
          "metadata": {},
          "execution_count": 23
        }
      ]
    },
    {
      "cell_type": "code",
      "metadata": {
        "id": "w8j3v3CpWYW-"
      },
      "source": [
        "# def predict(text):\n",
        "\n",
        "#     user_values = text.split()\n",
        "#     user_values = user_values[0:10]\n",
        "\n",
        "#     # 제조사 모델 차종 연식 주행거리 연료 변속기 연비 배기량\n",
        "#     user_df = df.drop(['가격(만원)'], axis = 1)\n",
        "#     hot_incoder = pd.get_dummies(df)\n",
        "#     hot_incoder1 = pd.get_dummies(user_df)\n",
        "    \n",
        "#     features = hot_incoder1.loc[:, '연식':'변속기_오토']\n",
        "#     X = features.values\n",
        "#     y = hot_incoder['가격(만원)']\n",
        "#     X_train, X_test, y_train, y_test = train_test_split(X, y, random_state = 0)\n",
        "#     logreg = RandomForestRegressor(oob_score=True, n_jobs=-1, random_state=42)\n",
        "#     logreg.fit(X_train, y_train)\n",
        "#     train_pred = logreg.predict(X_test)\n",
        "#     mess = f'{round(mean_squared_error(y_test, train_pred), 2) * 100}% 정확도로 자동차 예상 가격은 {round(train_pred[len(train_pred)-1])}만원 입니다.'\n",
        "\n",
        "#     return mess"
      ],
      "execution_count": null,
      "outputs": []
    },
    {
      "cell_type": "code",
      "metadata": {
        "id": "_RdtEbzqqT4z"
      },
      "source": [
        "def predict(text):\n",
        "    user_values = text.split()\n",
        "    user_values = user_values[0:10]\n",
        "\n",
        "        # 제조사 모델 차종 연식 주행거리 연료 변속기 연비 배기량\n",
        "    input_info = pd.DataFrame(user_values).transpose()\n",
        "    user_df = df.drop(['가격(만원)'], axis = 1)\n",
        "    input_info.columns = user_df.columns\n",
        "    user_df = pd.concat([user_df, input_info], ignore_index=True)\n",
        "    # 컬럼별 type을 df함수와 동일하게\n",
        "    user_df = user_df.astype({'연식': 'int'})\n",
        "    user_df = user_df.astype({'연비(km)' : 'float'})\n",
        "    user_df = user_df.astype({'주행거리(km)': 'int'})\n",
        "    user_df = user_df.astype({'배기량(cc)' : 'float'})\n",
        "    hot_incoder = pd.get_dummies(df)\n",
        "    hot_incoder1 = pd.get_dummies(user_df)\n",
        "    # 입력값 추출\n",
        "    my_car = hot_incoder1.tail(1)\n",
        "    \n",
        "    features = hot_incoder.drop(['가격(만원)'], axis=1)\n",
        "    X = features.values\n",
        "    y = hot_incoder['가격(만원)']\n",
        "\n",
        "    logreg = RandomForestRegressor(oob_score=True, n_jobs=-1, random_state=42)\n",
        "    logreg.fit(X, y)\n",
        "    train_pred = logreg.predict(my_car)\n",
        "    mess = f'{round(logreg.score(X, y), 2) * 100}% 정확도의 머신러닝을 통한 중고차 예측 가격은 {round(train_pred[0])}만원 입니다.'\n",
        "\n",
        "    return mess"
      ],
      "execution_count": null,
      "outputs": []
    },
    {
      "cell_type": "code",
      "metadata": {
        "colab": {
          "base_uri": "https://localhost:8080/",
          "height": 35
        },
        "id": "yEx2KdBq3bt6",
        "outputId": "8aba7b90-509e-4661-ce0d-e3af879bc1ad"
      },
      "source": [
        "predict('제네시스 G80 대형 2020 10000 가솔린 오토 18 3000')"
      ],
      "execution_count": null,
      "outputs": [
        {
          "output_type": "execute_result",
          "data": {
            "application/vnd.google.colaboratory.intrinsic+json": {
              "type": "string"
            },
            "text/plain": [
              "'100.0% 정확도의 머신러닝을 통한 중고차 예측 가격은 4443만원 입니다.'"
            ]
          },
          "metadata": {},
          "execution_count": 25
        }
      ]
    },
    {
      "cell_type": "code",
      "metadata": {
        "id": "wPBTyTecrEuT"
      },
      "source": [
        "# def predict(text):\n",
        "#     user_values = text.split()\n",
        "#     user_values = user_values[1:10]\n",
        "#     bot.send_message(chat_id = id, text = f'입력해주신 \\n\\n{user_values}\\n\\n 정보를 토대로 가격 예측중 입니다 잠시만 기다려주세요')\n",
        "#         # 제조사 모델 차종 연식 주행거리 연료 변속기 연비 배기량\n",
        "#     input_info = pd.DataFrame(user_values).transpose()\n",
        "#     user_df = df.drop(['가격(만원)'], axis = 1)\n",
        "#     input_info.columns = user_df.columns\n",
        "#     user_df = pd.concat([user_df, input_info], ignore_index=True)\n",
        "#     # 컬럼별 type을 df함수와 동일하게\n",
        "#     user_df = user_df.astype({'연식': 'int'})\n",
        "#     user_df = user_df.astype({'연비(km)' : 'float'})\n",
        "#     user_df = user_df.astype({'주행거리(km)': 'int'})\n",
        "#     user_df = user_df.astype({'배기량(cc)' : 'float'})\n",
        "#     hot_incoder = pd.get_dummies(df)\n",
        "#     hot_incoder1 = pd.get_dummies(user_df)\n",
        "#     # 입력값 추출\n",
        "#     my_car = hot_incoder1.tail(1)\n",
        "    \n",
        "#     features = hot_incoder.drop(['가격(만원)'], axis=1)\n",
        "#     X = features.values\n",
        "#     y = hot_incoder['가격(만원)']\n",
        "\n",
        "#     logreg = RandomForestRegressor(oob_score=True, n_jobs=-1, random_state=42)\n",
        "#     logreg.fit(X, y)\n",
        "#     train_pred = logreg.predict(my_car)\n",
        "#     bot.send_message(id, f'{round(logreg.score(X, y), 2) * 100}% 정확도의 머신러닝을 통한 중고차 예측 가격은 {round(train_pred[0])}만원 입니다.')"
      ],
      "execution_count": null,
      "outputs": []
    }
  ]
}