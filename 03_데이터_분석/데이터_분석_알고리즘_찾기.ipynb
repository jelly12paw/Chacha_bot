{
  "nbformat": 4,
  "nbformat_minor": 0,
  "metadata": {
    "colab": {
      "provenance": []
    },
    "kernelspec": {
      "name": "python3",
      "display_name": "Python 3"
    },
    "language_info": {
      "name": "python"
    }
  },
  "cells": [
    {
      "cell_type": "code",
      "metadata": {
        "id": "npE8hhYQLyV6"
      },
      "source": [
        "import numpy as np\n",
        "import pandas as pd\n",
        "import matplotlib.pyplot as plt\n",
        "import seaborn as sns\n",
        "\n",
        "from sklearn.model_selection import train_test_split\n",
        "from sklearn.neighbors import KNeighborsRegressor\n",
        "from sklearn.metrics import mean_absolute_error, mean_squared_error, r2_score\n",
        "from sklearn.linear_model import LinearRegression\n",
        "from sklearn.preprocessing import PolynomialFeatures\n",
        "from sklearn.preprocessing import StandardScaler\n",
        "from sklearn.pipeline import Pipeline\n",
        "from sklearn.preprocessing import LabelEncoder\n",
        "from sklearn.metrics import accuracy_score, confusion_matrix\n",
        "from sklearn import preprocessing\n",
        "from sklearn.linear_model import LogisticRegression, SGDClassifier\n",
        "from sklearn.metrics import plot_roc_curve"
      ],
      "execution_count": null,
      "outputs": []
    },
    {
      "cell_type": "code",
      "metadata": {
        "id": "pV1OE8PvHVnW"
      },
      "source": [
        "from sklearn.linear_model import SGDRegressor\n",
        "from sklearn.linear_model import Ridge\n",
        "from sklearn.model_selection import cross_validate, cross_val_score\n",
        "from sklearn.neighbors import KNeighborsClassifier\n",
        "from sklearn.tree import DecisionTreeClassifier\n",
        "from sklearn.svm import SVC \n",
        "from sklearn.ensemble import VotingClassifier, BaggingClassifier, RandomForestClassifier\n",
        "from sklearn.ensemble import ExtraTreesClassifier, GradientBoostingClassifier\n",
        "from xgboost import XGBClassifier\n",
        "from lightgbm import LGBMClassifier"
      ],
      "execution_count": null,
      "outputs": []
    },
    {
      "cell_type": "code",
      "metadata": {
        "id": "NXsWK3UBML2l"
      },
      "source": [
        "file_path = '/content/drive/MyDrive/kb차차차/KB_보배_총데이터_찐.csv'"
      ],
      "execution_count": null,
      "outputs": []
    },
    {
      "cell_type": "code",
      "metadata": {
        "colab": {
          "base_uri": "https://localhost:8080/"
        },
        "id": "gmmXh5IxMUQI",
        "outputId": "d4c8eb67-6a30-4562-f820-9ceb68fc0e6f"
      },
      "source": [
        "cars = pd.read_csv(file_path, encoding='cp949')"
      ],
      "execution_count": null,
      "outputs": [
        {
          "output_type": "stream",
          "name": "stderr",
          "text": [
            "/usr/local/lib/python3.7/dist-packages/IPython/core/interactiveshell.py:2718: DtypeWarning: Columns (10,11,12,13,14,15,16,17,18) have mixed types.Specify dtype option on import or set low_memory=False.\n",
            "  interactivity=interactivity, compiler=compiler, result=result)\n"
          ]
        }
      ]
    },
    {
      "cell_type": "code",
      "metadata": {
        "id": "AtT7imVTMYsy"
      },
      "source": [
        "cars = cars[['제조사', '모델', '차종', '가격(만원)', '연식', '주행거리(km)', '연료', '변속기', '연비', '배기량(cc)']]"
      ],
      "execution_count": null,
      "outputs": []
    },
    {
      "cell_type": "code",
      "metadata": {
        "colab": {
          "base_uri": "https://localhost:8080/"
        },
        "id": "1vk4_f5Ob6QO",
        "outputId": "6b9ba293-45db-42a7-b50f-1a9bc126c7ea"
      },
      "source": [
        "cars['모델'].value_counts()"
      ],
      "execution_count": null,
      "outputs": [
        {
          "output_type": "execute_result",
          "data": {
            "text/plain": [
              "그랜저      5892\n",
              "쏘나타      4113\n",
              "카니발      3513\n",
              "모닝       3330\n",
              "아반떼      3202\n",
              "         ... \n",
              "GP380       1\n",
              "토스카         1\n",
              "포니          1\n",
              "엑셀          1\n",
              "크레도스        1\n",
              "Name: 모델, Length: 151, dtype: int64"
            ]
          },
          "metadata": {},
          "execution_count": 41
        }
      ]
    },
    {
      "cell_type": "markdown",
      "metadata": {
        "id": "9fKX20fReGYn"
      },
      "source": [
        "## 현대 그랜저 가솔린"
      ]
    },
    {
      "cell_type": "code",
      "metadata": {
        "id": "9lE_C6nhMf6m"
      },
      "source": [
        "hyundai = cars[cars['제조사'] == '현대']"
      ],
      "execution_count": null,
      "outputs": []
    },
    {
      "cell_type": "code",
      "metadata": {
        "id": "FzVFOZo0RFpL"
      },
      "source": [
        "grandeur = hyundai[hyundai['모델'] == '그랜저']"
      ],
      "execution_count": null,
      "outputs": []
    },
    {
      "cell_type": "code",
      "metadata": {
        "colab": {
          "base_uri": "https://localhost:8080/",
          "height": 142
        },
        "id": "cco6y47aNiGs",
        "outputId": "85e55d6d-f28e-441b-c806-dafba1722a86"
      },
      "source": [
        "grandeur_oil = grandeur[grandeur['연료'] == '가솔린']\n",
        "grandeur_oil.head(3)"
      ],
      "execution_count": null,
      "outputs": [
        {
          "output_type": "execute_result",
          "data": {
            "text/html": [
              "<div>\n",
              "<style scoped>\n",
              "    .dataframe tbody tr th:only-of-type {\n",
              "        vertical-align: middle;\n",
              "    }\n",
              "\n",
              "    .dataframe tbody tr th {\n",
              "        vertical-align: top;\n",
              "    }\n",
              "\n",
              "    .dataframe thead th {\n",
              "        text-align: right;\n",
              "    }\n",
              "</style>\n",
              "<table border=\"1\" class=\"dataframe\">\n",
              "  <thead>\n",
              "    <tr style=\"text-align: right;\">\n",
              "      <th></th>\n",
              "      <th>제조사</th>\n",
              "      <th>모델</th>\n",
              "      <th>차종</th>\n",
              "      <th>가격(만원)</th>\n",
              "      <th>연식</th>\n",
              "      <th>주행거리(km)</th>\n",
              "      <th>연료</th>\n",
              "      <th>변속기</th>\n",
              "      <th>연비</th>\n",
              "      <th>배기량(cc)</th>\n",
              "    </tr>\n",
              "  </thead>\n",
              "  <tbody>\n",
              "    <tr>\n",
              "      <th>14928</th>\n",
              "      <td>현대</td>\n",
              "      <td>그랜저</td>\n",
              "      <td>대형</td>\n",
              "      <td>2395</td>\n",
              "      <td>2019</td>\n",
              "      <td>36096</td>\n",
              "      <td>가솔린</td>\n",
              "      <td>오토</td>\n",
              "      <td>0.0</td>\n",
              "      <td>2359</td>\n",
              "    </tr>\n",
              "    <tr>\n",
              "      <th>14932</th>\n",
              "      <td>현대</td>\n",
              "      <td>그랜저</td>\n",
              "      <td>대형</td>\n",
              "      <td>770</td>\n",
              "      <td>2011</td>\n",
              "      <td>153000</td>\n",
              "      <td>가솔린</td>\n",
              "      <td>오토</td>\n",
              "      <td>0.0</td>\n",
              "      <td>2999</td>\n",
              "    </tr>\n",
              "    <tr>\n",
              "      <th>14933</th>\n",
              "      <td>현대</td>\n",
              "      <td>그랜저</td>\n",
              "      <td>대형</td>\n",
              "      <td>3590</td>\n",
              "      <td>2020</td>\n",
              "      <td>17500</td>\n",
              "      <td>가솔린</td>\n",
              "      <td>오토</td>\n",
              "      <td>11.0</td>\n",
              "      <td>2497</td>\n",
              "    </tr>\n",
              "  </tbody>\n",
              "</table>\n",
              "</div>"
            ],
            "text/plain": [
              "      제조사   모델  차종  가격(만원)    연식  주행거리(km)   연료 변속기    연비  배기량(cc)\n",
              "14928  현대  그랜저  대형    2395  2019     36096  가솔린  오토   0.0     2359\n",
              "14932  현대  그랜저  대형     770  2011    153000  가솔린  오토   0.0     2999\n",
              "14933  현대  그랜저  대형    3590  2020     17500  가솔린  오토  11.0     2497"
            ]
          },
          "metadata": {},
          "execution_count": 25
        }
      ]
    },
    {
      "cell_type": "code",
      "metadata": {
        "colab": {
          "base_uri": "https://localhost:8080/",
          "height": 1000
        },
        "id": "280bIte7Qmuv",
        "outputId": "7013e439-2c7e-4789-ceaf-7501c9de8a8a"
      },
      "source": [
        "sns.pairplot(data=grandeur_oil, x_vars=['연식', '주행거리(km)', '연비', '배기량(cc)'], y_vars='가격(만원)', size=3)"
      ],
      "execution_count": null,
      "outputs": [
        {
          "output_type": "stream",
          "name": "stderr",
          "text": [
            "/usr/local/lib/python3.7/dist-packages/seaborn/axisgrid.py:1969: UserWarning: The `size` parameter has been renamed to `height`; please update your code.\n",
            "  warnings.warn(msg, UserWarning)\n",
            "/usr/local/lib/python3.7/dist-packages/matplotlib/backends/backend_agg.py:214: RuntimeWarning: Glyph 50672 missing from current font.\n",
            "  font.set_text(s, 0.0, flags=flags)\n",
            "/usr/local/lib/python3.7/dist-packages/matplotlib/backends/backend_agg.py:214: RuntimeWarning: Glyph 49885 missing from current font.\n",
            "  font.set_text(s, 0.0, flags=flags)\n",
            "/usr/local/lib/python3.7/dist-packages/matplotlib/backends/backend_agg.py:214: RuntimeWarning: Glyph 44032 missing from current font.\n",
            "  font.set_text(s, 0.0, flags=flags)\n",
            "/usr/local/lib/python3.7/dist-packages/matplotlib/backends/backend_agg.py:214: RuntimeWarning: Glyph 44201 missing from current font.\n",
            "  font.set_text(s, 0.0, flags=flags)\n",
            "/usr/local/lib/python3.7/dist-packages/matplotlib/backends/backend_agg.py:214: RuntimeWarning: Glyph 47564 missing from current font.\n",
            "  font.set_text(s, 0.0, flags=flags)\n",
            "/usr/local/lib/python3.7/dist-packages/matplotlib/backends/backend_agg.py:214: RuntimeWarning: Glyph 50896 missing from current font.\n",
            "  font.set_text(s, 0.0, flags=flags)\n",
            "/usr/local/lib/python3.7/dist-packages/matplotlib/backends/backend_agg.py:214: RuntimeWarning: Glyph 51452 missing from current font.\n",
            "  font.set_text(s, 0.0, flags=flags)\n",
            "/usr/local/lib/python3.7/dist-packages/matplotlib/backends/backend_agg.py:214: RuntimeWarning: Glyph 54665 missing from current font.\n",
            "  font.set_text(s, 0.0, flags=flags)\n",
            "/usr/local/lib/python3.7/dist-packages/matplotlib/backends/backend_agg.py:214: RuntimeWarning: Glyph 44144 missing from current font.\n",
            "  font.set_text(s, 0.0, flags=flags)\n",
            "/usr/local/lib/python3.7/dist-packages/matplotlib/backends/backend_agg.py:214: RuntimeWarning: Glyph 47532 missing from current font.\n",
            "  font.set_text(s, 0.0, flags=flags)\n",
            "/usr/local/lib/python3.7/dist-packages/matplotlib/backends/backend_agg.py:214: RuntimeWarning: Glyph 48708 missing from current font.\n",
            "  font.set_text(s, 0.0, flags=flags)\n",
            "/usr/local/lib/python3.7/dist-packages/matplotlib/backends/backend_agg.py:214: RuntimeWarning: Glyph 48176 missing from current font.\n",
            "  font.set_text(s, 0.0, flags=flags)\n",
            "/usr/local/lib/python3.7/dist-packages/matplotlib/backends/backend_agg.py:214: RuntimeWarning: Glyph 44592 missing from current font.\n",
            "  font.set_text(s, 0.0, flags=flags)\n",
            "/usr/local/lib/python3.7/dist-packages/matplotlib/backends/backend_agg.py:214: RuntimeWarning: Glyph 47049 missing from current font.\n",
            "  font.set_text(s, 0.0, flags=flags)\n",
            "/usr/local/lib/python3.7/dist-packages/matplotlib/backends/backend_agg.py:214: RuntimeWarning: Glyph 50672 missing from current font.\n",
            "  font.set_text(s, 0.0, flags=flags)\n",
            "/usr/local/lib/python3.7/dist-packages/matplotlib/backends/backend_agg.py:214: RuntimeWarning: Glyph 49885 missing from current font.\n",
            "  font.set_text(s, 0.0, flags=flags)\n",
            "/usr/local/lib/python3.7/dist-packages/matplotlib/backends/backend_agg.py:214: RuntimeWarning: Glyph 44032 missing from current font.\n",
            "  font.set_text(s, 0.0, flags=flags)\n",
            "/usr/local/lib/python3.7/dist-packages/matplotlib/backends/backend_agg.py:214: RuntimeWarning: Glyph 44201 missing from current font.\n",
            "  font.set_text(s, 0.0, flags=flags)\n",
            "/usr/local/lib/python3.7/dist-packages/matplotlib/backends/backend_agg.py:214: RuntimeWarning: Glyph 47564 missing from current font.\n",
            "  font.set_text(s, 0.0, flags=flags)\n",
            "/usr/local/lib/python3.7/dist-packages/matplotlib/backends/backend_agg.py:214: RuntimeWarning: Glyph 50896 missing from current font.\n",
            "  font.set_text(s, 0.0, flags=flags)\n",
            "/usr/local/lib/python3.7/dist-packages/matplotlib/backends/backend_agg.py:214: RuntimeWarning: Glyph 51452 missing from current font.\n",
            "  font.set_text(s, 0.0, flags=flags)\n",
            "/usr/local/lib/python3.7/dist-packages/matplotlib/backends/backend_agg.py:214: RuntimeWarning: Glyph 54665 missing from current font.\n",
            "  font.set_text(s, 0.0, flags=flags)\n",
            "/usr/local/lib/python3.7/dist-packages/matplotlib/backends/backend_agg.py:214: RuntimeWarning: Glyph 44144 missing from current font.\n",
            "  font.set_text(s, 0.0, flags=flags)\n",
            "/usr/local/lib/python3.7/dist-packages/matplotlib/backends/backend_agg.py:214: RuntimeWarning: Glyph 47532 missing from current font.\n",
            "  font.set_text(s, 0.0, flags=flags)\n",
            "/usr/local/lib/python3.7/dist-packages/matplotlib/backends/backend_agg.py:214: RuntimeWarning: Glyph 48708 missing from current font.\n",
            "  font.set_text(s, 0.0, flags=flags)\n",
            "/usr/local/lib/python3.7/dist-packages/matplotlib/backends/backend_agg.py:214: RuntimeWarning: Glyph 48176 missing from current font.\n",
            "  font.set_text(s, 0.0, flags=flags)\n",
            "/usr/local/lib/python3.7/dist-packages/matplotlib/backends/backend_agg.py:214: RuntimeWarning: Glyph 44592 missing from current font.\n",
            "  font.set_text(s, 0.0, flags=flags)\n",
            "/usr/local/lib/python3.7/dist-packages/matplotlib/backends/backend_agg.py:214: RuntimeWarning: Glyph 47049 missing from current font.\n",
            "  font.set_text(s, 0.0, flags=flags)\n"
          ]
        },
        {
          "output_type": "execute_result",
          "data": {
            "text/plain": [
              "<seaborn.axisgrid.PairGrid at 0x7f0fa1da7f50>"
            ]
          },
          "metadata": {},
          "execution_count": 26
        },
        {
          "output_type": "stream",
          "name": "stderr",
          "text": [
            "/usr/local/lib/python3.7/dist-packages/matplotlib/backends/backend_agg.py:183: RuntimeWarning: Glyph 50672 missing from current font.\n",
            "  font.set_text(s, 0, flags=flags)\n",
            "/usr/local/lib/python3.7/dist-packages/matplotlib/backends/backend_agg.py:183: RuntimeWarning: Glyph 49885 missing from current font.\n",
            "  font.set_text(s, 0, flags=flags)\n",
            "/usr/local/lib/python3.7/dist-packages/matplotlib/backends/backend_agg.py:183: RuntimeWarning: Glyph 44032 missing from current font.\n",
            "  font.set_text(s, 0, flags=flags)\n",
            "/usr/local/lib/python3.7/dist-packages/matplotlib/backends/backend_agg.py:183: RuntimeWarning: Glyph 44201 missing from current font.\n",
            "  font.set_text(s, 0, flags=flags)\n",
            "/usr/local/lib/python3.7/dist-packages/matplotlib/backends/backend_agg.py:183: RuntimeWarning: Glyph 47564 missing from current font.\n",
            "  font.set_text(s, 0, flags=flags)\n",
            "/usr/local/lib/python3.7/dist-packages/matplotlib/backends/backend_agg.py:183: RuntimeWarning: Glyph 50896 missing from current font.\n",
            "  font.set_text(s, 0, flags=flags)\n",
            "/usr/local/lib/python3.7/dist-packages/matplotlib/backends/backend_agg.py:183: RuntimeWarning: Glyph 51452 missing from current font.\n",
            "  font.set_text(s, 0, flags=flags)\n",
            "/usr/local/lib/python3.7/dist-packages/matplotlib/backends/backend_agg.py:183: RuntimeWarning: Glyph 54665 missing from current font.\n",
            "  font.set_text(s, 0, flags=flags)\n",
            "/usr/local/lib/python3.7/dist-packages/matplotlib/backends/backend_agg.py:183: RuntimeWarning: Glyph 44144 missing from current font.\n",
            "  font.set_text(s, 0, flags=flags)\n",
            "/usr/local/lib/python3.7/dist-packages/matplotlib/backends/backend_agg.py:183: RuntimeWarning: Glyph 47532 missing from current font.\n",
            "  font.set_text(s, 0, flags=flags)\n",
            "/usr/local/lib/python3.7/dist-packages/matplotlib/backends/backend_agg.py:183: RuntimeWarning: Glyph 48708 missing from current font.\n",
            "  font.set_text(s, 0, flags=flags)\n",
            "/usr/local/lib/python3.7/dist-packages/matplotlib/backends/backend_agg.py:183: RuntimeWarning: Glyph 48176 missing from current font.\n",
            "  font.set_text(s, 0, flags=flags)\n",
            "/usr/local/lib/python3.7/dist-packages/matplotlib/backends/backend_agg.py:183: RuntimeWarning: Glyph 44592 missing from current font.\n",
            "  font.set_text(s, 0, flags=flags)\n",
            "/usr/local/lib/python3.7/dist-packages/matplotlib/backends/backend_agg.py:183: RuntimeWarning: Glyph 47049 missing from current font.\n",
            "  font.set_text(s, 0, flags=flags)\n"
          ]
        },
        {
          "output_type": "display_data",
          "data": {
            "image/png": "[encoded data removed]",
            "text/plain": [
              "<Figure size 864x216 with 4 Axes>"
            ]
          },
          "metadata": {
            "needs_background": "light"
          }
        }
      ]
    },
    {
      "cell_type": "code",
      "metadata": {
        "colab": {
          "base_uri": "https://localhost:8080/"
        },
        "id": "X6bd1_p7elGy",
        "outputId": "9e742fec-26cf-467c-f68f-abf6ccc7dec8"
      },
      "source": [
        "X = grandeur_oil[['연식', '주행거리(km)', '연비', '배기량(cc)']].values\n",
        "X[:5]"
      ],
      "execution_count": null,
      "outputs": [
        {
          "output_type": "execute_result",
          "data": {
            "text/plain": [
              "array([[2.01900e+03, 3.60960e+04, 0.00000e+00, 2.35900e+03],\n",
              "       [2.01100e+03, 1.53000e+05, 0.00000e+00, 2.99900e+03],\n",
              "       [2.02000e+03, 1.75000e+04, 1.10000e+01, 2.49700e+03],\n",
              "       [2.01200e+03, 1.77779e+05, 1.00000e+01, 2.99900e+03],\n",
              "       [2.01700e+03, 8.66230e+04, 1.00000e+01, 2.99900e+03]])"
            ]
          },
          "metadata": {},
          "execution_count": 27
        }
      ]
    },
    {
      "cell_type": "code",
      "metadata": {
        "colab": {
          "base_uri": "https://localhost:8080/"
        },
        "id": "PKfmBm843ips",
        "outputId": "fe007ed2-6192-4b74-b12e-33b4decb0e87"
      },
      "source": [
        "y = grandeur_oil['가격(만원)'].values\n",
        "y[:5]"
      ],
      "execution_count": null,
      "outputs": [
        {
          "output_type": "execute_result",
          "data": {
            "text/plain": [
              "array([2395,  770, 3590,  720, 1960])"
            ]
          },
          "metadata": {},
          "execution_count": 28
        }
      ]
    },
    {
      "cell_type": "code",
      "metadata": {
        "colab": {
          "base_uri": "https://localhost:8080/"
        },
        "id": "UNbnd3bp3yI5",
        "outputId": "05c04584-6758-46a8-9c1d-5e7e3e1c074a"
      },
      "source": [
        "X.shape, y.shape"
      ],
      "execution_count": null,
      "outputs": [
        {
          "output_type": "execute_result",
          "data": {
            "text/plain": [
              "((4077, 4), (4077,))"
            ]
          },
          "metadata": {},
          "execution_count": 29
        }
      ]
    },
    {
      "cell_type": "code",
      "metadata": {
        "id": "Ux-UnNl631jT"
      },
      "source": [
        "X_train, X_test, y_train, y_test = train_test_split(X, y,\n",
        "                                                    test_size=0.3,\n",
        "                                                    random_state=1)"
      ],
      "execution_count": null,
      "outputs": []
    },
    {
      "cell_type": "code",
      "metadata": {
        "colab": {
          "base_uri": "https://localhost:8080/"
        },
        "id": "xRnIjvXh4ug2",
        "outputId": "e351c892-5a8c-4fa2-bb1e-2392644b9c6a"
      },
      "source": [
        "X_train.shape, X_test.shape, y_train.shape, y_test.shape"
      ],
      "execution_count": null,
      "outputs": [
        {
          "output_type": "execute_result",
          "data": {
            "text/plain": [
              "((2853, 4), (1224, 4), (2853,), (1224,))"
            ]
          },
          "metadata": {},
          "execution_count": 31
        }
      ]
    },
    {
      "cell_type": "markdown",
      "metadata": {
        "id": "vQSyuKeg403J"
      },
      "source": [
        "# 선형회귀 (1차항)"
      ]
    },
    {
      "cell_type": "code",
      "metadata": {
        "id": "iJKG3lon40UM"
      },
      "source": [
        "lin_reg = LinearRegression()"
      ],
      "execution_count": null,
      "outputs": []
    },
    {
      "cell_type": "code",
      "metadata": {
        "colab": {
          "base_uri": "https://localhost:8080/"
        },
        "id": "QeHtEPEy4wvA",
        "outputId": "760479c1-cbf8-40e9-827d-c36fa2166c28"
      },
      "source": [
        "lin_reg.fit(X_train, y_train)"
      ],
      "execution_count": null,
      "outputs": [
        {
          "output_type": "execute_result",
          "data": {
            "text/plain": [
              "LinearRegression(copy_X=True, fit_intercept=True, n_jobs=None, normalize=False)"
            ]
          },
          "metadata": {},
          "execution_count": 33
        }
      ]
    },
    {
      "cell_type": "code",
      "metadata": {
        "colab": {
          "base_uri": "https://localhost:8080/"
        },
        "id": "h_ndrOZn5IAQ",
        "outputId": "54a9014f-0d65-43aa-ae9d-094dd58a61f8"
      },
      "source": [
        "train_pred = lin_reg.predict(X_train)\n",
        "train_pred[:5]"
      ],
      "execution_count": null,
      "outputs": [
        {
          "output_type": "execute_result",
          "data": {
            "text/plain": [
              "array([1293.46042559, 1077.11761759, 1183.94309472, 1263.58837482,\n",
              "       1727.40425372])"
            ]
          },
          "metadata": {},
          "execution_count": 34
        }
      ]
    },
    {
      "cell_type": "code",
      "metadata": {
        "colab": {
          "base_uri": "https://localhost:8080/"
        },
        "id": "LuaEvP0S5PAO",
        "outputId": "4a2d5c52-01f3-43e8-e7fb-93ba503a0a8d"
      },
      "source": [
        "y_train[:5]"
      ],
      "execution_count": null,
      "outputs": [
        {
          "output_type": "execute_result",
          "data": {
            "text/plain": [
              "array([1200,  340,  860, 1850, 2350])"
            ]
          },
          "metadata": {},
          "execution_count": 35
        }
      ]
    },
    {
      "cell_type": "code",
      "metadata": {
        "colab": {
          "base_uri": "https://localhost:8080/"
        },
        "id": "cyyFWBbr5QhA",
        "outputId": "cbc81dca-84d4-4e52-9e22-8287900c8991"
      },
      "source": [
        "r2_score(y_train, train_pred)"
      ],
      "execution_count": null,
      "outputs": [
        {
          "output_type": "execute_result",
          "data": {
            "text/plain": [
              "0.4051202551285943"
            ]
          },
          "metadata": {},
          "execution_count": 36
        }
      ]
    },
    {
      "cell_type": "code",
      "metadata": {
        "colab": {
          "base_uri": "https://localhost:8080/"
        },
        "id": "KrLivJWh5aMn",
        "outputId": "606eb58f-0863-4830-d490-83ed82e05c34"
      },
      "source": [
        "test_pred = lin_reg.predict(X_test)\n",
        "test_pred[:5]"
      ],
      "execution_count": null,
      "outputs": [
        {
          "output_type": "execute_result",
          "data": {
            "text/plain": [
              "array([1596.78194502, 1236.70937015, 1837.23908494, 2051.0507076 ,\n",
              "       1658.66963269])"
            ]
          },
          "metadata": {},
          "execution_count": 37
        }
      ]
    },
    {
      "cell_type": "code",
      "metadata": {
        "colab": {
          "base_uri": "https://localhost:8080/"
        },
        "id": "qLqwOIMs5XVv",
        "outputId": "548d867b-6e5f-4486-eb2a-ffbf45202205"
      },
      "source": [
        "y_test[:5]"
      ],
      "execution_count": null,
      "outputs": [
        {
          "output_type": "execute_result",
          "data": {
            "text/plain": [
              "array([1650, 1170, 1990, 3850, 1250])"
            ]
          },
          "metadata": {},
          "execution_count": 38
        }
      ]
    },
    {
      "cell_type": "code",
      "metadata": {
        "colab": {
          "base_uri": "https://localhost:8080/"
        },
        "id": "2oev5B7k5he4",
        "outputId": "027bb2bd-8e64-41c1-bf8d-a43619a6555e"
      },
      "source": [
        "r2_score(y_test, test_pred)"
      ],
      "execution_count": null,
      "outputs": [
        {
          "output_type": "execute_result",
          "data": {
            "text/plain": [
              "0.5128335064153923"
            ]
          },
          "metadata": {},
          "execution_count": 39
        }
      ]
    },
    {
      "cell_type": "markdown",
      "metadata": {
        "id": "Px6JwyTI5pYr"
      },
      "source": [
        "# 선형회귀 (2차항)"
      ]
    },
    {
      "cell_type": "code",
      "metadata": {
        "id": "lg2ZnSJ55mO5"
      },
      "source": [
        "poly = PolynomialFeatures(include_bias=False)"
      ],
      "execution_count": null,
      "outputs": []
    },
    {
      "cell_type": "code",
      "metadata": {
        "colab": {
          "base_uri": "https://localhost:8080/"
        },
        "id": "t8_HizIV57jv",
        "outputId": "76703bc2-f9e0-4780-da78-8249a9274eb1"
      },
      "source": [
        "poly.fit_transform(X_train)[:2]"
      ],
      "execution_count": null,
      "outputs": [
        {
          "output_type": "execute_result",
          "data": {
            "text/plain": [
              "array([[2.014000e+03, 1.420000e+05, 1.100000e+01, 2.359000e+03,\n",
              "        4.056196e+06, 2.859880e+08, 2.215400e+04, 4.751026e+06,\n",
              "        2.016400e+10, 1.562000e+06, 3.349780e+08, 1.210000e+02,\n",
              "        2.594900e+04, 5.564881e+06],\n",
              "       [2.009000e+03, 1.700000e+05, 1.100000e+01, 2.359000e+03,\n",
              "        4.036081e+06, 3.415300e+08, 2.209900e+04, 4.739231e+06,\n",
              "        2.890000e+10, 1.870000e+06, 4.010300e+08, 1.210000e+02,\n",
              "        2.594900e+04, 5.564881e+06]])"
            ]
          },
          "metadata": {},
          "execution_count": 41
        }
      ]
    },
    {
      "cell_type": "code",
      "metadata": {
        "id": "vmEdY8_7595z"
      },
      "source": [
        "scaler = StandardScaler() \n",
        "lin_reg = LinearRegression()"
      ],
      "execution_count": null,
      "outputs": []
    },
    {
      "cell_type": "code",
      "metadata": {
        "id": "UdV09ttz6DkY"
      },
      "source": [
        "model = Pipeline(steps=[('poly', poly),\n",
        "                        ('scaler', scaler),\n",
        "                        ('lin_reg', lin_reg)])"
      ],
      "execution_count": null,
      "outputs": []
    },
    {
      "cell_type": "code",
      "metadata": {
        "colab": {
          "base_uri": "https://localhost:8080/"
        },
        "id": "K82U7Rsg6FQ5",
        "outputId": "e006f461-fbfc-4076-ff1d-442e54d11969"
      },
      "source": [
        "model.fit(X_train, y_train)"
      ],
      "execution_count": null,
      "outputs": [
        {
          "output_type": "execute_result",
          "data": {
            "text/plain": [
              "Pipeline(memory=None,\n",
              "         steps=[('poly',\n",
              "                 PolynomialFeatures(degree=2, include_bias=False,\n",
              "                                    interaction_only=False, order='C')),\n",
              "                ('scaler',\n",
              "                 StandardScaler(copy=True, with_mean=True, with_std=True)),\n",
              "                ('lin_reg',\n",
              "                 LinearRegression(copy_X=True, fit_intercept=True, n_jobs=None,\n",
              "                                  normalize=False))],\n",
              "         verbose=False)"
            ]
          },
          "metadata": {},
          "execution_count": 44
        }
      ]
    },
    {
      "cell_type": "code",
      "metadata": {
        "colab": {
          "base_uri": "https://localhost:8080/"
        },
        "id": "vVbKzJjS6JFP",
        "outputId": "21fa0276-6c28-47c8-ca7c-f389cb68a85e"
      },
      "source": [
        "train_pred = model.predict(X_train)\n",
        "train_pred[:5]"
      ],
      "execution_count": null,
      "outputs": [
        {
          "output_type": "execute_result",
          "data": {
            "text/plain": [
              "array([1194.35698945,  248.85935551, 1035.01435339, 1658.76323319,\n",
              "       2370.73884218])"
            ]
          },
          "metadata": {},
          "execution_count": 45
        }
      ]
    },
    {
      "cell_type": "code",
      "metadata": {
        "colab": {
          "base_uri": "https://localhost:8080/"
        },
        "id": "V-EdBdaq6SpV",
        "outputId": "4339b71f-4722-47d2-c418-ad1a267c0189"
      },
      "source": [
        "y_train[:5]"
      ],
      "execution_count": null,
      "outputs": [
        {
          "output_type": "execute_result",
          "data": {
            "text/plain": [
              "array([1200,  340,  860, 1850, 2350])"
            ]
          },
          "metadata": {},
          "execution_count": 46
        }
      ]
    },
    {
      "cell_type": "code",
      "metadata": {
        "colab": {
          "base_uri": "https://localhost:8080/"
        },
        "id": "n59h6Lvv6URq",
        "outputId": "6d9e0fb7-d754-48a5-879e-1c4556e7c6d5"
      },
      "source": [
        "r2_score(y_train, train_pred)"
      ],
      "execution_count": null,
      "outputs": [
        {
          "output_type": "execute_result",
          "data": {
            "text/plain": [
              "0.7885870553273788"
            ]
          },
          "metadata": {},
          "execution_count": 47
        }
      ]
    },
    {
      "cell_type": "code",
      "metadata": {
        "colab": {
          "base_uri": "https://localhost:8080/"
        },
        "id": "0FPLU9A56db9",
        "outputId": "be2dbc3b-d9d7-4466-c11f-4652cd3b24f4"
      },
      "source": [
        "test_pred = model.predict(X_test)\n",
        "test_pred[:5]"
      ],
      "execution_count": null,
      "outputs": [
        {
          "output_type": "execute_result",
          "data": {
            "text/plain": [
              "array([1561.96035408, 1299.85462971, 2083.71837111, 2824.23864363,\n",
              "       1480.46257913])"
            ]
          },
          "metadata": {},
          "execution_count": 48
        }
      ]
    },
    {
      "cell_type": "code",
      "metadata": {
        "colab": {
          "base_uri": "https://localhost:8080/"
        },
        "id": "zJu2pKYl6kgp",
        "outputId": "1383102c-7890-4ac8-83a5-3d5f086bb441"
      },
      "source": [
        "y_test[:5]"
      ],
      "execution_count": null,
      "outputs": [
        {
          "output_type": "execute_result",
          "data": {
            "text/plain": [
              "array([1650, 1170, 1990, 3850, 1250])"
            ]
          },
          "metadata": {},
          "execution_count": 49
        }
      ]
    },
    {
      "cell_type": "code",
      "metadata": {
        "colab": {
          "base_uri": "https://localhost:8080/"
        },
        "id": "jxZVZAD06mEJ",
        "outputId": "c896deb5-5fda-4194-81bf-be0464dd63cb"
      },
      "source": [
        "r2_score(y_test, test_pred)"
      ],
      "execution_count": null,
      "outputs": [
        {
          "output_type": "execute_result",
          "data": {
            "text/plain": [
              "0.8195301298322277"
            ]
          },
          "metadata": {},
          "execution_count": 50
        }
      ]
    },
    {
      "cell_type": "markdown",
      "metadata": {
        "id": "-oXhRsEz9yoc"
      },
      "source": [
        "# ★ PolynomialFeatures(degree=3) + StandardScaler (지금까지 제일 좋음) ★"
      ]
    },
    {
      "cell_type": "code",
      "metadata": {
        "id": "XmK1LU0c90Qu"
      },
      "source": [
        "poly = PolynomialFeatures(degree=3, include_bias=False)"
      ],
      "execution_count": null,
      "outputs": []
    },
    {
      "cell_type": "code",
      "metadata": {
        "colab": {
          "base_uri": "https://localhost:8080/"
        },
        "id": "AB9cQIUA99rk",
        "outputId": "0e6a80ee-9122-484c-b462-acf8b14f8534"
      },
      "source": [
        "X_train_poly = poly.fit_transform(X_train)\n",
        "X_train_poly[:5]"
      ],
      "execution_count": null,
      "outputs": [
        {
          "output_type": "execute_result",
          "data": {
            "text/plain": [
              "array([[2.01400000e+03, 1.42000000e+05, 1.10000000e+01, 2.35900000e+03,\n",
              "        4.05619600e+06, 2.85988000e+08, 2.21540000e+04, 4.75102600e+06,\n",
              "        2.01640000e+10, 1.56200000e+06, 3.34978000e+08, 1.21000000e+02,\n",
              "        2.59490000e+04, 5.56488100e+06, 8.16917874e+09, 5.75979832e+11,\n",
              "        4.46181560e+07, 9.56856636e+09, 4.06102960e+13, 3.14586800e+09,\n",
              "        6.74645692e+11, 2.43694000e+05, 5.22612860e+07, 1.12076703e+10,\n",
              "        2.86328800e+15, 2.21804000e+11, 4.75668760e+13, 1.71820000e+07,\n",
              "        3.68475800e+09, 7.90213102e+11, 1.33100000e+03, 2.85439000e+05,\n",
              "        6.12136910e+07, 1.31275543e+10],\n",
              "       [2.00900000e+03, 1.70000000e+05, 1.10000000e+01, 2.35900000e+03,\n",
              "        4.03608100e+06, 3.41530000e+08, 2.20990000e+04, 4.73923100e+06,\n",
              "        2.89000000e+10, 1.87000000e+06, 4.01030000e+08, 1.21000000e+02,\n",
              "        2.59490000e+04, 5.56488100e+06, 8.10848673e+09, 6.86133770e+11,\n",
              "        4.43968910e+07, 9.52111508e+09, 5.80601000e+13, 3.75683000e+09,\n",
              "        8.05669270e+11, 2.43089000e+05, 5.21315410e+07, 1.11798459e+10,\n",
              "        4.91300000e+15, 3.17900000e+11, 6.81751000e+13, 2.05700000e+07,\n",
              "        4.41133000e+09, 9.46029770e+11, 1.33100000e+03, 2.85439000e+05,\n",
              "        6.12136910e+07, 1.31275543e+10],\n",
              "       [2.01100000e+03, 1.21411000e+05, 0.00000000e+00, 0.00000000e+00,\n",
              "        4.04412100e+06, 2.44157521e+08, 0.00000000e+00, 0.00000000e+00,\n",
              "        1.47406309e+10, 0.00000000e+00, 0.00000000e+00, 0.00000000e+00,\n",
              "        0.00000000e+00, 0.00000000e+00, 8.13272733e+09, 4.91000775e+11,\n",
              "        0.00000000e+00, 0.00000000e+00, 2.96434088e+13, 0.00000000e+00,\n",
              "        0.00000000e+00, 0.00000000e+00, 0.00000000e+00, 0.00000000e+00,\n",
              "        1.78967474e+15, 0.00000000e+00, 0.00000000e+00, 0.00000000e+00,\n",
              "        0.00000000e+00, 0.00000000e+00, 0.00000000e+00, 0.00000000e+00,\n",
              "        0.00000000e+00, 0.00000000e+00],\n",
              "       [2.01700000e+03, 1.46003000e+05, 1.10000000e+01, 2.35900000e+03,\n",
              "        4.06828900e+06, 2.94488051e+08, 2.21870000e+04, 4.75810300e+06,\n",
              "        2.13168760e+10, 1.60603300e+06, 3.44421077e+08, 1.21000000e+02,\n",
              "        2.59490000e+04, 5.56488100e+06, 8.20573891e+09, 5.93982399e+11,\n",
              "        4.47511790e+07, 9.59709375e+09, 4.29961389e+13, 3.23936856e+09,\n",
              "        6.94697312e+11, 2.44057000e+05, 5.23391330e+07, 1.12243650e+10,\n",
              "        3.11232785e+15, 2.34485636e+11, 5.02865105e+13, 1.76663630e+07,\n",
              "        3.78863185e+09, 8.12489321e+11, 1.33100000e+03, 2.85439000e+05,\n",
              "        6.12136910e+07, 1.31275543e+10],\n",
              "       [2.01900000e+03, 5.37400000e+04, 0.00000000e+00, 2.35900000e+03,\n",
              "        4.07636100e+06, 1.08501060e+08, 0.00000000e+00, 4.76282100e+06,\n",
              "        2.88798760e+09, 0.00000000e+00, 1.26772660e+08, 0.00000000e+00,\n",
              "        0.00000000e+00, 5.56488100e+06, 8.23017286e+09, 2.19063640e+11,\n",
              "        0.00000000e+00, 9.61613560e+09, 5.83084696e+12, 0.00000000e+00,\n",
              "        2.55954001e+11, 0.00000000e+00, 0.00000000e+00, 1.12354947e+10,\n",
              "        1.55200454e+14, 0.00000000e+00, 6.81276275e+12, 0.00000000e+00,\n",
              "        0.00000000e+00, 2.99056705e+11, 0.00000000e+00, 0.00000000e+00,\n",
              "        0.00000000e+00, 1.31275543e+10]])"
            ]
          },
          "metadata": {},
          "execution_count": 59
        }
      ]
    },
    {
      "cell_type": "code",
      "metadata": {
        "id": "CBxeYcP_-dZX"
      },
      "source": [
        "std_scaler = StandardScaler()"
      ],
      "execution_count": null,
      "outputs": []
    },
    {
      "cell_type": "code",
      "metadata": {
        "colab": {
          "base_uri": "https://localhost:8080/"
        },
        "id": "ir_6GJPz-gLV",
        "outputId": "2b425133-18d4-4769-a4ae-6ba0ae1d0c31"
      },
      "source": [
        "X_train_poly_scaled = std_scaler.fit_transform(X_train_poly)\n",
        "X_train_poly_scaled[:5]"
      ],
      "execution_count": null,
      "outputs": [
        {
          "output_type": "execute_result",
          "data": {
            "text/plain": [
              "array([[ 0.05634062,  0.56783609,  0.84282497,  0.36498958,  0.05627439,\n",
              "         0.57387832,  0.84178648,  0.36794768,  0.06040661,  1.23100276,\n",
              "         0.64515277,  0.90541432,  0.86766284,  0.00879038,  0.05605803,\n",
              "         0.5769068 ,  0.84073829,  0.36790246,  0.06145714,  1.23277879,\n",
              "         0.64920678,  0.90430271,  0.86696459,  0.00940875, -0.01697604,\n",
              "         0.19324276,  0.06664874,  1.34120699,  1.19914307,  0.17956533,\n",
              "         0.92128139,  0.94102444,  0.11055713, -0.02506072],\n",
              "       [ 0.01209869,  0.96992202,  0.84282497,  0.36498958, -0.03192089,\n",
              "         0.97019588,  0.83640182,  0.3638076 ,  0.16995564,  1.64651364,\n",
              "         0.93606198,  0.90541432,  0.86766284,  0.00879038, -0.07562866,\n",
              "         0.9684651 ,  0.82998779,  0.35963252,  0.1705675 ,  1.64259445,\n",
              "         0.93634567,  0.89887071,  0.86280075,  0.00870153, -0.00352751,\n",
              "         0.33955797,  0.1457978 ,  1.7806225 ,  1.55346066,  0.29005073,\n",
              "         0.92128139,  0.94102444,  0.11055713, -0.02506072],\n",
              "       [ 0.02979546,  0.27217369, -1.32719522, -1.30528495,  0.00333092,\n",
              "         0.27539873, -1.32715344, -1.2996788 , -0.00760218, -0.87623094,\n",
              "        -0.83017251, -1.28380068, -0.81017049, -0.27620742, -0.02303254,\n",
              "         0.27483629, -1.32710362, -1.29973442, -0.00711675, -0.87737855,\n",
              "        -0.829283  , -1.28370383, -0.81023022, -0.27545896, -0.02402022,\n",
              "        -0.14447473, -0.11603918, -0.88725739, -0.59775329, -0.38075349,\n",
              "        -1.20522595, -0.802347  , -0.18039782, -0.04908277],\n",
              "       [ 0.08288578,  0.62532002,  0.84282497,  0.36498958,  0.10929679,\n",
              "         0.63453007,  0.84501728,  0.37043173,  0.07486362,  1.29040598,\n",
              "         0.68674239,  0.90541432,  0.86766284,  0.00879038,  0.13538458,\n",
              "         0.64089956,  0.84720141,  0.3728743 ,  0.07637537,  1.29549627,\n",
              "         0.69315001,  0.9075619 ,  0.86946289,  0.00983308, -0.01534205,\n",
              "         0.21255174,  0.07709391,  1.40402772,  1.24979783,  0.19536079,\n",
              "         0.92128139,  0.94102444,  0.11055713, -0.02506072],\n",
              "       [ 0.10058256, -0.6995962 , -1.32719522,  0.36498958,  0.1446889 ,\n",
              "        -0.69257212, -1.32715344,  0.37208777, -0.15623377, -0.87623094,\n",
              "        -0.27183462, -1.28380068, -0.81017049,  0.00879038,  0.18840021,\n",
              "        -0.69180407, -1.32710362,  0.37619296, -0.15601225, -0.87737855,\n",
              "        -0.26835839, -1.28370383, -0.81023022,  0.01011597, -0.0347443 ,\n",
              "        -0.14447473, -0.08987371, -0.88725739, -0.59775329, -0.16870044,\n",
              "        -1.20522595, -0.802347  , -0.18039782, -0.02506072]])"
            ]
          },
          "metadata": {},
          "execution_count": 62
        }
      ]
    },
    {
      "cell_type": "code",
      "metadata": {
        "colab": {
          "base_uri": "https://localhost:8080/"
        },
        "id": "VthReJa199io",
        "outputId": "e62a0697-9c55-498f-944e-bc4d7bb24f40"
      },
      "source": [
        "X_test_poly = poly.transform(X_test)\n",
        "X_test_poly[:5]"
      ],
      "execution_count": null,
      "outputs": [
        {
          "output_type": "execute_result",
          "data": {
            "text/plain": [
              "array([[2.01500000e+03, 1.02520000e+05, 1.10000000e+01, 2.35900000e+03,\n",
              "        4.06022500e+06, 2.06577800e+08, 2.21650000e+04, 4.75338500e+06,\n",
              "        1.05103504e+10, 1.12772000e+06, 2.41844680e+08, 1.21000000e+02,\n",
              "        2.59490000e+04, 5.56488100e+06, 8.18135338e+09, 4.16254267e+11,\n",
              "        4.46624750e+07, 9.57807078e+09, 2.11783561e+13, 2.27235580e+09,\n",
              "        4.87317030e+11, 2.43815000e+05, 5.22872350e+07, 1.12132352e+10,\n",
              "        1.07752112e+15, 1.15613854e+11, 2.47939166e+13, 1.24049200e+07,\n",
              "        2.66029148e+09, 5.70511600e+11, 1.33100000e+03, 2.85439000e+05,\n",
              "        6.12136910e+07, 1.31275543e+10],\n",
              "       [2.01300000e+03, 1.18215000e+05, 0.00000000e+00, 2.99900000e+03,\n",
              "        4.05216900e+06, 2.37966795e+08, 0.00000000e+00, 6.03698700e+06,\n",
              "        1.39747862e+10, 0.00000000e+00, 3.54526785e+08, 0.00000000e+00,\n",
              "        0.00000000e+00, 8.99400100e+06, 8.15701620e+09, 4.79027158e+11,\n",
              "        0.00000000e+00, 1.21524548e+10, 2.81312447e+13, 0.00000000e+00,\n",
              "        7.13662418e+11, 0.00000000e+00, 0.00000000e+00, 1.81049240e+10,\n",
              "        1.65202935e+15, 0.00000000e+00, 4.19103839e+13, 0.00000000e+00,\n",
              "        0.00000000e+00, 1.06322583e+12, 0.00000000e+00, 0.00000000e+00,\n",
              "        0.00000000e+00, 2.69730090e+10],\n",
              "       [2.01700000e+03, 6.84320000e+04, 1.10000000e+01, 0.00000000e+00,\n",
              "        4.06828900e+06, 1.38027344e+08, 2.21870000e+04, 0.00000000e+00,\n",
              "        4.68293862e+09, 7.52752000e+05, 0.00000000e+00, 1.21000000e+02,\n",
              "        0.00000000e+00, 0.00000000e+00, 8.20573891e+09, 2.78401153e+11,\n",
              "        4.47511790e+07, 0.00000000e+00, 9.44548720e+12, 1.51830078e+09,\n",
              "        0.00000000e+00, 2.44057000e+05, 0.00000000e+00, 0.00000000e+00,\n",
              "        3.20462856e+14, 5.15123249e+10, 0.00000000e+00, 8.28027200e+06,\n",
              "        0.00000000e+00, 0.00000000e+00, 1.33100000e+03, 0.00000000e+00,\n",
              "        0.00000000e+00, 0.00000000e+00],\n",
              "       [2.02100000e+03, 8.81400000e+03, 0.00000000e+00, 0.00000000e+00,\n",
              "        4.08444100e+06, 1.78130940e+07, 0.00000000e+00, 0.00000000e+00,\n",
              "        7.76865960e+07, 0.00000000e+00, 0.00000000e+00, 0.00000000e+00,\n",
              "        0.00000000e+00, 0.00000000e+00, 8.25465526e+09, 3.60002630e+10,\n",
              "        0.00000000e+00, 0.00000000e+00, 1.57004611e+11, 0.00000000e+00,\n",
              "        0.00000000e+00, 0.00000000e+00, 0.00000000e+00, 0.00000000e+00,\n",
              "        6.84729657e+11, 0.00000000e+00, 0.00000000e+00, 0.00000000e+00,\n",
              "        0.00000000e+00, 0.00000000e+00, 0.00000000e+00, 0.00000000e+00,\n",
              "        0.00000000e+00, 0.00000000e+00],\n",
              "       [2.01400000e+03, 9.15850000e+04, 1.10000000e+01, 0.00000000e+00,\n",
              "        4.05619600e+06, 1.84452190e+08, 2.21540000e+04, 0.00000000e+00,\n",
              "        8.38781222e+09, 1.00743500e+06, 0.00000000e+00, 1.21000000e+02,\n",
              "        0.00000000e+00, 0.00000000e+00, 8.16917874e+09, 3.71486711e+11,\n",
              "        4.46181560e+07, 0.00000000e+00, 1.68930538e+13, 2.02897409e+09,\n",
              "        0.00000000e+00, 2.43694000e+05, 0.00000000e+00, 0.00000000e+00,\n",
              "        7.68197783e+14, 9.22659345e+10, 0.00000000e+00, 1.10817850e+07,\n",
              "        0.00000000e+00, 0.00000000e+00, 1.33100000e+03, 0.00000000e+00,\n",
              "        0.00000000e+00, 0.00000000e+00]])"
            ]
          },
          "metadata": {},
          "execution_count": 60
        }
      ]
    },
    {
      "cell_type": "code",
      "metadata": {
        "colab": {
          "base_uri": "https://localhost:8080/"
        },
        "id": "JVN7-Nbn-pra",
        "outputId": "25297166-301e-4f4d-a4f0-8a851eab80b3"
      },
      "source": [
        "X_test_poly_scaled = std_scaler.transform(X_test_poly) \n",
        "X_test_poly_scaled[:5]"
      ],
      "execution_count": null,
      "outputs": [
        {
          "output_type": "execute_result",
          "data": {
            "text/plain": [
              "array([[ 6.51890094e-02,  8.94933631e-04,  8.42824971e-01,\n",
              "         3.64989581e-01,  7.39397576e-02,  7.25024884e-03,\n",
              "         8.42863412e-01,  3.68775699e-01, -6.06497021e-02,\n",
              "         6.45132436e-01,  2.34970780e-01,  9.05414320e-01,\n",
              "         8.67662840e-01,  8.79037948e-03,  8.24739774e-02,\n",
              "         9.13888737e-03,  8.42891594e-01,  3.69558918e-01,\n",
              "        -6.00471453e-02,  6.46852054e-01,  2.38674973e-01,\n",
              "         9.05389104e-01,  8.67797355e-01,  9.55019137e-03,\n",
              "        -2.86927864e-02,  3.15582565e-02, -2.08143210e-02,\n",
              "         7.21631120e-01,  6.99555263e-01,  2.37809128e-02,\n",
              "         9.21281387e-01,  9.41024436e-01,  1.10557132e-01,\n",
              "        -2.50607184e-02],\n",
              "       [ 4.74922356e-02,  2.26278457e-01, -1.32719522e+00,\n",
              "         8.18137398e-01,  3.86177998e-02,  2.31225074e-01,\n",
              "        -1.32715344e+00,  8.19324419e-01, -1.72058393e-02,\n",
              "        -8.76230938e-01,  7.31250410e-01, -1.28380068e+00,\n",
              "        -8.10170488e-01,  1.84408091e-01,  2.96683076e-02,\n",
              "         2.32274322e-01, -1.32710362e+00,  8.18229872e-01,\n",
              "        -1.65720336e-02, -8.77378548e-01,  7.34712148e-01,\n",
              "        -1.28370383e+00, -8.10230217e-01,  1.84717694e-01,\n",
              "        -2.49233326e-02, -1.44474730e-01,  4.49241078e-02,\n",
              "        -8.87257390e-01, -5.97753293e-01,  3.73151296e-01,\n",
              "        -1.20522595e+00, -8.02347000e-01, -1.80397815e-01,\n",
              "         2.75013897e-04],\n",
              "       [ 8.28857831e-02, -4.88615965e-01,  8.42824971e-01,\n",
              "        -1.30528495e+00,  1.09296792e-01, -4.81888586e-01,\n",
              "         8.45017275e-01, -1.29967880e+00, -1.33725173e-01,\n",
              "         1.39277630e-01, -8.30172512e-01,  9.05414320e-01,\n",
              "        -8.10170488e-01, -2.76207424e-01,  1.35384576e-01,\n",
              "        -4.80880194e-01,  8.47201415e-01, -1.29973442e+00,\n",
              "        -1.33410579e-01,  1.41053741e-01, -8.29283004e-01,\n",
              "         9.07561901e-01, -8.10230217e-01, -2.75458964e-01,\n",
              "        -3.36599845e-02, -6.60423621e-02, -1.16039176e-01,\n",
              "         1.86674121e-01, -5.97753293e-01, -3.80753491e-01,\n",
              "         9.21281387e-01, -8.02347000e-01, -1.80397815e-01,\n",
              "        -4.90827681e-02],\n",
              "       [ 1.18279331e-01, -1.34474307e+00, -1.32719522e+00,\n",
              "        -1.30528495e+00,  1.80116089e-01, -1.33967220e+00,\n",
              "        -1.32715344e+00, -1.29967880e+00, -1.91474817e-01,\n",
              "        -8.76230938e-01, -8.30172512e-01, -1.28380068e+00,\n",
              "        -8.10170488e-01, -2.76207424e-01,  2.41520979e-01,\n",
              "        -1.34252965e+00, -1.32710362e+00, -1.29973442e+00,\n",
              "        -1.91489723e-01, -8.77378548e-01, -8.29283004e-01,\n",
              "        -1.28370383e+00, -8.10230217e-01, -2.75458964e-01,\n",
              "        -3.57581074e-02, -1.44474730e-01, -1.16039176e-01,\n",
              "        -8.87257390e-01, -5.97753293e-01, -3.80753491e-01,\n",
              "        -1.20522595e+00, -8.02347000e-01, -1.80397815e-01,\n",
              "        -4.90827681e-02],\n",
              "       [ 5.63406225e-02, -1.56133982e-01,  8.42824971e-01,\n",
              "        -1.30528495e+00,  5.62743942e-02, -1.50626091e-01,\n",
              "         8.41786481e-01, -1.29967880e+00, -8.72662313e-02,\n",
              "         4.82860601e-01, -8.30172512e-01,  9.05414320e-01,\n",
              "        -8.10170488e-01, -2.76207424e-01,  5.60580328e-02,\n",
              "        -1.49993947e-01,  8.40738287e-01, -1.29973442e+00,\n",
              "        -8.68423384e-02,  4.83598636e-01, -8.29283004e-01,\n",
              "         9.04302706e-01, -8.10230217e-01, -2.75458964e-01,\n",
              "        -3.07223136e-02, -3.99115151e-03, -1.16039176e-01,\n",
              "         5.50023669e-01, -5.97753293e-01, -3.80753491e-01,\n",
              "         9.21281387e-01, -8.02347000e-01, -1.80397815e-01,\n",
              "        -4.90827681e-02]])"
            ]
          },
          "metadata": {},
          "execution_count": 63
        }
      ]
    },
    {
      "cell_type": "code",
      "metadata": {
        "colab": {
          "base_uri": "https://localhost:8080/"
        },
        "id": "ONntqFPG-xIx",
        "outputId": "8c248bc9-801c-4aaf-f274-f7bf68195e7b"
      },
      "source": [
        "lin_reg3 = LinearRegression()  \n",
        "\n",
        "lin_reg3.fit(X_train_poly_scaled, y_train)\n",
        "\n",
        "train_pred = lin_reg3.predict(X_train_poly_scaled)\n",
        "\n",
        "r2_score(y_train, train_pred)"
      ],
      "execution_count": null,
      "outputs": [
        {
          "output_type": "execute_result",
          "data": {
            "text/plain": [
              "0.8664188200274847"
            ]
          },
          "metadata": {},
          "execution_count": 64
        }
      ]
    },
    {
      "cell_type": "code",
      "metadata": {
        "colab": {
          "base_uri": "https://localhost:8080/"
        },
        "id": "qUQvwfaE-9v_",
        "outputId": "e1627f1d-5990-472b-edc6-1af62c114d3e"
      },
      "source": [
        "test_pred = lin_reg3.predict(X_test_poly_scaled)\n",
        "\n",
        "r2_score(y_test, test_pred)"
      ],
      "execution_count": null,
      "outputs": [
        {
          "output_type": "execute_result",
          "data": {
            "text/plain": [
              "0.8791892398510257"
            ]
          },
          "metadata": {},
          "execution_count": 65
        }
      ]
    },
    {
      "cell_type": "markdown",
      "metadata": {
        "id": "RsM3wWkJBg-L"
      },
      "source": [
        "# poly(degree=2,4,5) + standardscaler + linearregression 과대적합"
      ]
    },
    {
      "cell_type": "code",
      "metadata": {
        "id": "H1GhQ-YFBvjX"
      },
      "source": [
        "poly = PolynomialFeatures(degree=5, include_bias=False) \n",
        "std_scaler = StandardScaler()\n",
        "lin_reg = LinearRegression()"
      ],
      "execution_count": null,
      "outputs": []
    },
    {
      "cell_type": "code",
      "metadata": {
        "id": "EfTJqK_NB1zM"
      },
      "source": [
        "model = Pipeline(steps=[('deg_2_poly', poly),\n",
        "                        ('scaler', std_scaler),\n",
        "                        ('reg', lin_reg)])"
      ],
      "execution_count": null,
      "outputs": []
    },
    {
      "cell_type": "code",
      "metadata": {
        "colab": {
          "base_uri": "https://localhost:8080/"
        },
        "id": "Gv0NPX9jB4JJ",
        "outputId": "c5aeeae6-cb0c-4df7-cc9a-2f39aee97559"
      },
      "source": [
        "model.fit(X_train, y_train)"
      ],
      "execution_count": null,
      "outputs": [
        {
          "output_type": "execute_result",
          "data": {
            "text/plain": [
              "Pipeline(memory=None,\n",
              "         steps=[('deg_2_poly',\n",
              "                 PolynomialFeatures(degree=5, include_bias=False,\n",
              "                                    interaction_only=False, order='C')),\n",
              "                ('scaler',\n",
              "                 StandardScaler(copy=True, with_mean=True, with_std=True)),\n",
              "                ('reg',\n",
              "                 LinearRegression(copy_X=True, fit_intercept=True, n_jobs=None,\n",
              "                                  normalize=False))],\n",
              "         verbose=False)"
            ]
          },
          "metadata": {},
          "execution_count": 91
        }
      ]
    },
    {
      "cell_type": "code",
      "metadata": {
        "colab": {
          "base_uri": "https://localhost:8080/"
        },
        "id": "LY16wetgB6sG",
        "outputId": "8cf5c52e-40eb-48f9-ffe2-98e620cbc112"
      },
      "source": [
        "train_pred = model.predict(X_train)\n",
        "train_pred[:5]"
      ],
      "execution_count": null,
      "outputs": [
        {
          "output_type": "execute_result",
          "data": {
            "text/plain": [
              "array([1112.86197875,  422.35187743,  766.24125591, 1579.24027465,\n",
              "       2452.08802245])"
            ]
          },
          "metadata": {},
          "execution_count": 92
        }
      ]
    },
    {
      "cell_type": "code",
      "metadata": {
        "colab": {
          "base_uri": "https://localhost:8080/"
        },
        "id": "s81B1UqVCFJ8",
        "outputId": "5a9698d5-6a7b-426c-b8eb-afb648b9b1c7"
      },
      "source": [
        "r2_score(y_train, train_pred)"
      ],
      "execution_count": null,
      "outputs": [
        {
          "output_type": "execute_result",
          "data": {
            "text/plain": [
              "0.8854012030316147"
            ]
          },
          "metadata": {},
          "execution_count": 93
        }
      ]
    },
    {
      "cell_type": "code",
      "metadata": {
        "colab": {
          "base_uri": "https://localhost:8080/"
        },
        "id": "a43xRL0UCGfB",
        "outputId": "df39249f-8f71-4d22-b8e3-e283ac74cdd7"
      },
      "source": [
        "test_pred = model.predict(X_test)\n",
        "test_pred[:5]"
      ],
      "execution_count": null,
      "outputs": [
        {
          "output_type": "execute_result",
          "data": {
            "text/plain": [
              "array([1432.22741149, 1197.18581371, 2041.38918987, 3525.29209819,\n",
              "       1351.7776939 ])"
            ]
          },
          "metadata": {},
          "execution_count": 94
        }
      ]
    },
    {
      "cell_type": "code",
      "metadata": {
        "colab": {
          "base_uri": "https://localhost:8080/"
        },
        "id": "n8wtwNocCJiN",
        "outputId": "12d39dce-3a51-4d0c-e9bf-f9cc7dfacab3"
      },
      "source": [
        "r2_score(y_test, test_pred)"
      ],
      "execution_count": null,
      "outputs": [
        {
          "output_type": "execute_result",
          "data": {
            "text/plain": [
              "-60246.27598572645"
            ]
          },
          "metadata": {},
          "execution_count": 95
        }
      ]
    },
    {
      "cell_type": "markdown",
      "metadata": {
        "id": "rPUzf1JD60fA"
      },
      "source": [
        "# 로지스틱"
      ]
    },
    {
      "cell_type": "code",
      "metadata": {
        "id": "WS6jSQJN6tBU"
      },
      "source": [
        "logit_model = Pipeline(steps=[('scaler', StandardScaler()),\n",
        "                              ('clf', LogisticRegression(random_state=42))])"
      ],
      "execution_count": null,
      "outputs": []
    },
    {
      "cell_type": "code",
      "metadata": {
        "colab": {
          "base_uri": "https://localhost:8080/"
        },
        "id": "zA4khIF769Lx",
        "outputId": "9b19bfd6-9226-4156-f2bf-1eabe8faae83"
      },
      "source": [
        "logit_model.fit(X_train, y_train)"
      ],
      "execution_count": null,
      "outputs": [
        {
          "output_type": "stream",
          "name": "stderr",
          "text": [
            "/usr/local/lib/python3.7/dist-packages/sklearn/linear_model/_logistic.py:940: ConvergenceWarning: lbfgs failed to converge (status=1):\n",
            "STOP: TOTAL NO. of ITERATIONS REACHED LIMIT.\n",
            "\n",
            "Increase the number of iterations (max_iter) or scale the data as shown in:\n",
            "    https://scikit-learn.org/stable/modules/preprocessing.html\n",
            "Please also refer to the documentation for alternative solver options:\n",
            "    https://scikit-learn.org/stable/modules/linear_model.html#logistic-regression\n",
            "  extra_warning_msg=_LOGISTIC_SOLVER_CONVERGENCE_MSG)\n"
          ]
        },
        {
          "output_type": "execute_result",
          "data": {
            "text/plain": [
              "Pipeline(memory=None,\n",
              "         steps=[('scaler',\n",
              "                 StandardScaler(copy=True, with_mean=True, with_std=True)),\n",
              "                ('clf',\n",
              "                 LogisticRegression(C=1.0, class_weight=None, dual=False,\n",
              "                                    fit_intercept=True, intercept_scaling=1,\n",
              "                                    l1_ratio=None, max_iter=100,\n",
              "                                    multi_class='auto', n_jobs=None,\n",
              "                                    penalty='l2', random_state=42,\n",
              "                                    solver='lbfgs', tol=0.0001, verbose=0,\n",
              "                                    warm_start=False))],\n",
              "         verbose=False)"
            ]
          },
          "metadata": {},
          "execution_count": 55
        }
      ]
    },
    {
      "cell_type": "code",
      "metadata": {
        "colab": {
          "base_uri": "https://localhost:8080/"
        },
        "id": "LfEaEJcV7OY3",
        "outputId": "1ae33675-a529-416d-dbc8-98bf6ec5d35c"
      },
      "source": [
        "train_pred = logit_model.predict(X_train)\n",
        "accuracy_score(y_train, train_pred)"
      ],
      "execution_count": null,
      "outputs": [
        {
          "output_type": "execute_result",
          "data": {
            "text/plain": [
              "0.03399929898352611"
            ]
          },
          "metadata": {},
          "execution_count": 56
        }
      ]
    },
    {
      "cell_type": "code",
      "metadata": {
        "colab": {
          "base_uri": "https://localhost:8080/"
        },
        "id": "DvuZHPL37ZUt",
        "outputId": "103d8e55-99f8-49e2-e45d-4e210d78118a"
      },
      "source": [
        "test_pred = logit_model.predict(X_test)\n",
        "accuracy_score(y_test, test_pred)"
      ],
      "execution_count": null,
      "outputs": [
        {
          "output_type": "execute_result",
          "data": {
            "text/plain": [
              "0.015522875816993464"
            ]
          },
          "metadata": {},
          "execution_count": 57
        }
      ]
    },
    {
      "cell_type": "markdown",
      "metadata": {
        "id": "SqL_hef_HnKn"
      },
      "source": [
        "# SGD"
      ]
    },
    {
      "cell_type": "code",
      "metadata": {
        "id": "q9syw1_17dq4"
      },
      "source": [
        "scaler = StandardScaler()\n",
        "reg = SGDRegressor()\n",
        "model = Pipeline(steps=[('scaler', scaler),\n",
        "                        ('reg', reg)])"
      ],
      "execution_count": null,
      "outputs": []
    },
    {
      "cell_type": "code",
      "metadata": {
        "colab": {
          "base_uri": "https://localhost:8080/"
        },
        "id": "v-I6hNjKHwNb",
        "outputId": "9a64ac43-fc33-4665-83f1-ffc2f33d7f7d"
      },
      "source": [
        "model.fit(X_train, y_train)"
      ],
      "execution_count": null,
      "outputs": [
        {
          "output_type": "execute_result",
          "data": {
            "text/plain": [
              "Pipeline(memory=None,\n",
              "         steps=[('scaler',\n",
              "                 StandardScaler(copy=True, with_mean=True, with_std=True)),\n",
              "                ('reg',\n",
              "                 SGDRegressor(alpha=0.0001, average=False, early_stopping=False,\n",
              "                              epsilon=0.1, eta0=0.01, fit_intercept=True,\n",
              "                              l1_ratio=0.15, learning_rate='invscaling',\n",
              "                              loss='squared_loss', max_iter=1000,\n",
              "                              n_iter_no_change=5, penalty='l2', power_t=0.25,\n",
              "                              random_state=None, shuffle=True, tol=0.001,\n",
              "                              validation_fraction=0.1, verbose=0,\n",
              "                              warm_start=False))],\n",
              "         verbose=False)"
            ]
          },
          "metadata": {},
          "execution_count": 104
        }
      ]
    },
    {
      "cell_type": "code",
      "metadata": {
        "colab": {
          "base_uri": "https://localhost:8080/"
        },
        "id": "qzMtk05-HxwQ",
        "outputId": "476447a3-d860-4336-c9e6-347fb6217d14"
      },
      "source": [
        "train_pred  = model.predict(X_train)\n",
        "train_pred[:5]"
      ],
      "execution_count": null,
      "outputs": [
        {
          "output_type": "execute_result",
          "data": {
            "text/plain": [
              "array([1353.03613541, 1167.21057062, 1191.48508223, 1327.64733231,\n",
              "       1647.87435357])"
            ]
          },
          "metadata": {},
          "execution_count": 105
        }
      ]
    },
    {
      "cell_type": "code",
      "metadata": {
        "colab": {
          "base_uri": "https://localhost:8080/"
        },
        "id": "t_JQEsTXH27g",
        "outputId": "2f5dce24-3c1c-4f67-8999-254970c00520"
      },
      "source": [
        "mean_squared_error(y_train, train_pred)"
      ],
      "execution_count": null,
      "outputs": [
        {
          "output_type": "execute_result",
          "data": {
            "text/plain": [
              "467882.80417359975"
            ]
          },
          "metadata": {},
          "execution_count": 106
        }
      ]
    },
    {
      "cell_type": "code",
      "metadata": {
        "colab": {
          "base_uri": "https://localhost:8080/",
          "height": 279
        },
        "id": "PN7z8DiRH59t",
        "outputId": "f5920868-ea58-4f97-d61c-941b17a9e217"
      },
      "source": [
        "plt.scatter(y_train, train_pred, alpha=0.5)\n",
        "plt.xlabel('actual')\n",
        "plt.ylabel('prediction')\n",
        "plt.grid()\n",
        "plt.show()"
      ],
      "execution_count": null,
      "outputs": [
        {
          "output_type": "display_data",
          "data": {
            "image/png": "[encoded data removed]",
            "text/plain": [
              "<Figure size 432x288 with 1 Axes>"
            ]
          },
          "metadata": {
            "needs_background": "light"
          }
        }
      ]
    },
    {
      "cell_type": "code",
      "metadata": {
        "colab": {
          "base_uri": "https://localhost:8080/"
        },
        "id": "D0FiIAJyH_zg",
        "outputId": "580f14e1-705a-4c3e-8b5d-c578f061f33f"
      },
      "source": [
        "r2_score(y_train, train_pred)"
      ],
      "execution_count": null,
      "outputs": [
        {
          "output_type": "execute_result",
          "data": {
            "text/plain": [
              "0.39745540584756"
            ]
          },
          "metadata": {},
          "execution_count": 108
        }
      ]
    },
    {
      "cell_type": "code",
      "metadata": {
        "colab": {
          "base_uri": "https://localhost:8080/"
        },
        "id": "bNnOk-wBIMys",
        "outputId": "29dc0573-1e9b-43ee-fe85-9675ecacc942"
      },
      "source": [
        "test_pred  = model.predict(X_test)\n",
        "test_pred[:5]"
      ],
      "execution_count": null,
      "outputs": [
        {
          "output_type": "execute_result",
          "data": {
            "text/plain": [
              "array([1613.13230301, 1224.05246237, 1829.48926542, 1935.5455654 ,\n",
              "       1676.1910638 ])"
            ]
          },
          "metadata": {},
          "execution_count": 109
        }
      ]
    },
    {
      "cell_type": "code",
      "metadata": {
        "colab": {
          "base_uri": "https://localhost:8080/"
        },
        "id": "R2vTl8MIIVk1",
        "outputId": "58469f8a-cdcd-4c6d-c2a3-60f00cfee946"
      },
      "source": [
        "r2_score(y_test, test_pred)"
      ],
      "execution_count": null,
      "outputs": [
        {
          "output_type": "execute_result",
          "data": {
            "text/plain": [
              "0.4753717256157287"
            ]
          },
          "metadata": {},
          "execution_count": 110
        }
      ]
    },
    {
      "cell_type": "markdown",
      "metadata": {
        "id": "330GasV-IoP0"
      },
      "source": [
        "# Ridge(l2)"
      ]
    },
    {
      "cell_type": "code",
      "metadata": {
        "id": "j5fRi902IYdX"
      },
      "source": [
        "scaler = StandardScaler()\n",
        "reg = Ridge(alpha=0.0001)  \n",
        "model3 = Pipeline(steps=[('scaler', scaler),\n",
        "                         ('reg', reg)])"
      ],
      "execution_count": null,
      "outputs": []
    },
    {
      "cell_type": "code",
      "metadata": {
        "colab": {
          "base_uri": "https://localhost:8080/"
        },
        "id": "0vpKqCgMIu_m",
        "outputId": "466845d2-e7af-4926-b3cc-6122a706f548"
      },
      "source": [
        "model3.fit(X_train, y_train)"
      ],
      "execution_count": null,
      "outputs": [
        {
          "output_type": "execute_result",
          "data": {
            "text/plain": [
              "Pipeline(memory=None,\n",
              "         steps=[('scaler',\n",
              "                 StandardScaler(copy=True, with_mean=True, with_std=True)),\n",
              "                ('reg',\n",
              "                 Ridge(alpha=0.0001, copy_X=True, fit_intercept=True,\n",
              "                       max_iter=None, normalize=False, random_state=None,\n",
              "                       solver='auto', tol=0.001))],\n",
              "         verbose=False)"
            ]
          },
          "metadata": {},
          "execution_count": 114
        }
      ]
    },
    {
      "cell_type": "code",
      "metadata": {
        "colab": {
          "base_uri": "https://localhost:8080/"
        },
        "id": "tfuNdM0iI6JG",
        "outputId": "0a628de2-adec-4aa5-9583-e38964c16d0b"
      },
      "source": [
        "train_pred = model3.predict(X_train)\n",
        "r2_score(y_train, train_pred)"
      ],
      "execution_count": null,
      "outputs": [
        {
          "output_type": "execute_result",
          "data": {
            "text/plain": [
              "0.40512025512859395"
            ]
          },
          "metadata": {},
          "execution_count": 115
        }
      ]
    },
    {
      "cell_type": "code",
      "metadata": {
        "colab": {
          "base_uri": "https://localhost:8080/"
        },
        "id": "NKxugVR1JCP0",
        "outputId": "c9f68c43-2a96-49d5-9744-210da2b690a2"
      },
      "source": [
        "test_pred = model3.predict(X_test)\n",
        "r2_score(y_test, test_pred)"
      ],
      "execution_count": null,
      "outputs": [
        {
          "output_type": "execute_result",
          "data": {
            "text/plain": [
              "0.5128334979865432"
            ]
          },
          "metadata": {},
          "execution_count": 116
        }
      ]
    },
    {
      "cell_type": "markdown",
      "metadata": {
        "id": "cONx2QxfLSY-"
      },
      "source": [
        "## 앙상블 학습"
      ]
    },
    {
      "cell_type": "markdown",
      "metadata": {
        "id": "IJYOSUW2Lavx"
      },
      "source": [
        "# 머신 러닝 비교"
      ]
    },
    {
      "cell_type": "code",
      "metadata": {
        "id": "fRRRRqT5JMYw"
      },
      "source": [
        "knn_clf = KNeighborsClassifier(n_jobs=-1)\n",
        "log_clf = LogisticRegression(random_state=42, n_jobs=-1)\n",
        "sgd_clf = SGDClassifier(loss='log', n_jobs=-1, random_state=42) \n",
        "tree_clf = DecisionTreeClassifier(random_state=42)\n",
        "svm_clf = SVC(probability=True, random_state=42)"
      ],
      "execution_count": null,
      "outputs": []
    },
    {
      "cell_type": "code",
      "metadata": {
        "colab": {
          "base_uri": "https://localhost:8080/"
        },
        "id": "jheKs07RLmrp",
        "outputId": "dba7748f-f2ac-4061-a8e8-2af05fbe6ba0"
      },
      "source": [
        "classifiers = [knn_clf, log_clf, sgd_clf, tree_clf, svm_clf]\n",
        "for clf in classifiers:\n",
        "    clf.fit(X_train, y_train)  # 모델 훈련\n",
        "    acc = clf.score(X_test, y_test)  # 테스트 셋 평가 점수(정확도) 계산\n",
        "    print(clf.__class__.__name__, 'accuracy:', acc)"
      ],
      "execution_count": null,
      "outputs": [
        {
          "output_type": "stream",
          "name": "stdout",
          "text": [
            "KNeighborsClassifier accuracy: 0.049019607843137254\n",
            "LogisticRegression accuracy: 0.0196078431372549\n",
            "SGDClassifier accuracy: 0.0032679738562091504\n",
            "DecisionTreeClassifier accuracy: 0.15441176470588236\n",
            "SVC accuracy: 0.02042483660130719\n"
          ]
        }
      ]
    },
    {
      "cell_type": "markdown",
      "metadata": {
        "id": "b8Fjyo5aMBmt"
      },
      "source": [
        "# voting 앙상블"
      ]
    },
    {
      "cell_type": "code",
      "metadata": {
        "id": "7nFkhSqVLr2S"
      },
      "source": [
        "vote_clf = VotingClassifier(estimators=[('knn', knn_clf),\n",
        "                                        ('log', log_clf),\n",
        "                                        ('sgd', sgd_clf),\n",
        "                                        ('tree', tree_clf),\n",
        "                                        ('svm', svm_clf)],\n",
        "                            voting='soft', n_jobs=-1)"
      ],
      "execution_count": null,
      "outputs": []
    },
    {
      "cell_type": "code",
      "metadata": {
        "colab": {
          "base_uri": "https://localhost:8080/"
        },
        "id": "eCyIOmbfMG7q",
        "outputId": "97ca0ae3-69ec-42a7-b2b7-36355a28b7af"
      },
      "source": [
        "vote_clf.fit(X_train, y_train)"
      ],
      "execution_count": null,
      "outputs": [
        {
          "output_type": "execute_result",
          "data": {
            "text/plain": [
              "VotingClassifier(estimators=[('knn',\n",
              "                              KNeighborsClassifier(algorithm='auto',\n",
              "                                                   leaf_size=30,\n",
              "                                                   metric='minkowski',\n",
              "                                                   metric_params=None,\n",
              "                                                   n_jobs=-1, n_neighbors=5,\n",
              "                                                   p=2, weights='uniform')),\n",
              "                             ('log',\n",
              "                              LogisticRegression(C=1.0, class_weight=None,\n",
              "                                                 dual=False, fit_intercept=True,\n",
              "                                                 intercept_scaling=1,\n",
              "                                                 l1_ratio=None, max_iter=100,\n",
              "                                                 multi_class='auto', n_jobs=-1,\n",
              "                                                 penalty='l2', random_s...\n",
              "                                                     min_weight_fraction_leaf=0.0,\n",
              "                                                     presort='deprecated',\n",
              "                                                     random_state=42,\n",
              "                                                     splitter='best')),\n",
              "                             ('svm',\n",
              "                              SVC(C=1.0, break_ties=False, cache_size=200,\n",
              "                                  class_weight=None, coef0=0.0,\n",
              "                                  decision_function_shape='ovr', degree=3,\n",
              "                                  gamma='scale', kernel='rbf', max_iter=-1,\n",
              "                                  probability=True, random_state=42,\n",
              "                                  shrinking=True, tol=0.001, verbose=False))],\n",
              "                 flatten_transform=True, n_jobs=-1, voting='soft',\n",
              "                 weights=None)"
            ]
          },
          "metadata": {},
          "execution_count": 121
        }
      ]
    },
    {
      "cell_type": "code",
      "metadata": {
        "colab": {
          "base_uri": "https://localhost:8080/"
        },
        "id": "K6s6wXgpMIzI",
        "outputId": "b30401fb-1983-4258-88e3-99fc8c6fddd5"
      },
      "source": [
        "vote_clf.score(X_test, y_test)"
      ],
      "execution_count": null,
      "outputs": [
        {
          "output_type": "execute_result",
          "data": {
            "text/plain": [
              "0.14787581699346405"
            ]
          },
          "metadata": {},
          "execution_count": 122
        }
      ]
    },
    {
      "cell_type": "markdown",
      "metadata": {
        "id": "3lPuWOkCMdPX"
      },
      "source": [
        "# bagging 앙상블"
      ]
    },
    {
      "cell_type": "code",
      "metadata": {
        "id": "_tOfeyrvMRWa"
      },
      "source": [
        "bagging_clf = BaggingClassifier(base_estimator=DecisionTreeClassifier(random_state=42),\n",
        "                                n_estimators=50,\n",
        "                                max_samples=100,\n",
        "                                bootstrap=True,\n",
        "                                oob_score=True,\n",
        "                                n_jobs=-1,\n",
        "                                random_state=42)"
      ],
      "execution_count": null,
      "outputs": []
    },
    {
      "cell_type": "code",
      "metadata": {
        "colab": {
          "base_uri": "https://localhost:8080/"
        },
        "id": "rWXQZ1gOMhJx",
        "outputId": "45f039f9-d830-4c5a-c498-b79e803382ce"
      },
      "source": [
        "bagging_clf.fit(X_train, y_train)"
      ],
      "execution_count": null,
      "outputs": [
        {
          "output_type": "execute_result",
          "data": {
            "text/plain": [
              "BaggingClassifier(base_estimator=DecisionTreeClassifier(ccp_alpha=0.0,\n",
              "                                                        class_weight=None,\n",
              "                                                        criterion='gini',\n",
              "                                                        max_depth=None,\n",
              "                                                        max_features=None,\n",
              "                                                        max_leaf_nodes=None,\n",
              "                                                        min_impurity_decrease=0.0,\n",
              "                                                        min_impurity_split=None,\n",
              "                                                        min_samples_leaf=1,\n",
              "                                                        min_samples_split=2,\n",
              "                                                        min_weight_fraction_leaf=0.0,\n",
              "                                                        presort='deprecated',\n",
              "                                                        random_state=42,\n",
              "                                                        splitter='best'),\n",
              "                  bootstrap=True, bootstrap_features=False, max_features=1.0,\n",
              "                  max_samples=100, n_estimators=50, n_jobs=-1, oob_score=True,\n",
              "                  random_state=42, verbose=0, warm_start=False)"
            ]
          },
          "metadata": {},
          "execution_count": 124
        }
      ]
    },
    {
      "cell_type": "code",
      "metadata": {
        "colab": {
          "base_uri": "https://localhost:8080/"
        },
        "id": "2L6V8-6ZMkuX",
        "outputId": "ac743afe-e9f7-4c14-f572-b7f4aad89a3c"
      },
      "source": [
        "bagging_clf.oob_score_"
      ],
      "execution_count": null,
      "outputs": [
        {
          "output_type": "execute_result",
          "data": {
            "text/plain": [
              "0.050473186119873815"
            ]
          },
          "metadata": {},
          "execution_count": 125
        }
      ]
    },
    {
      "cell_type": "code",
      "metadata": {
        "colab": {
          "base_uri": "https://localhost:8080/"
        },
        "id": "qrS_pJM8MrYq",
        "outputId": "fe717462-d113-470e-e3d0-4a15f28f3625"
      },
      "source": [
        "bagging_clf.score(X_test, y_test)"
      ],
      "execution_count": null,
      "outputs": [
        {
          "output_type": "execute_result",
          "data": {
            "text/plain": [
              "0.05800653594771242"
            ]
          },
          "metadata": {},
          "execution_count": 126
        }
      ]
    },
    {
      "cell_type": "markdown",
      "metadata": {
        "id": "W2O-B1_OMvg2"
      },
      "source": [
        "# random forest"
      ]
    },
    {
      "cell_type": "code",
      "metadata": {
        "id": "pgngo-VEMtof"
      },
      "source": [
        "forest_clf = RandomForestClassifier(n_estimators=50, max_samples=100, oob_score=True,\n",
        "                                    n_jobs=-1, random_state=42)"
      ],
      "execution_count": null,
      "outputs": []
    },
    {
      "cell_type": "code",
      "metadata": {
        "colab": {
          "base_uri": "https://localhost:8080/"
        },
        "id": "PIS97-4rM0Nh",
        "outputId": "09d3fc4a-8060-476b-fbec-a84f783d1466"
      },
      "source": [
        "forest_clf.fit(X_train, y_train)"
      ],
      "execution_count": null,
      "outputs": [
        {
          "output_type": "execute_result",
          "data": {
            "text/plain": [
              "RandomForestClassifier(bootstrap=True, ccp_alpha=0.0, class_weight=None,\n",
              "                       criterion='gini', max_depth=None, max_features='auto',\n",
              "                       max_leaf_nodes=None, max_samples=100,\n",
              "                       min_impurity_decrease=0.0, min_impurity_split=None,\n",
              "                       min_samples_leaf=1, min_samples_split=2,\n",
              "                       min_weight_fraction_leaf=0.0, n_estimators=50, n_jobs=-1,\n",
              "                       oob_score=True, random_state=42, verbose=0,\n",
              "                       warm_start=False)"
            ]
          },
          "metadata": {},
          "execution_count": 128
        }
      ]
    },
    {
      "cell_type": "code",
      "metadata": {
        "colab": {
          "base_uri": "https://localhost:8080/"
        },
        "id": "ApWwFgBlM27m",
        "outputId": "65326fae-ca0a-4741-b7f8-fdf1531bf1f3"
      },
      "source": [
        "forest_clf.oob_score_"
      ],
      "execution_count": null,
      "outputs": [
        {
          "output_type": "execute_result",
          "data": {
            "text/plain": [
              "0.04977216964598668"
            ]
          },
          "metadata": {},
          "execution_count": 129
        }
      ]
    },
    {
      "cell_type": "code",
      "metadata": {
        "colab": {
          "base_uri": "https://localhost:8080/"
        },
        "id": "W0OoJhR4M5ks",
        "outputId": "1a25c848-7296-4184-c53f-384bb0484a5c"
      },
      "source": [
        "forest_clf.score(X_test, y_test)"
      ],
      "execution_count": null,
      "outputs": [
        {
          "output_type": "execute_result",
          "data": {
            "text/plain": [
              "0.061274509803921566"
            ]
          },
          "metadata": {},
          "execution_count": 130
        }
      ]
    },
    {
      "cell_type": "markdown",
      "metadata": {
        "id": "iIfUbTnQNEyl"
      },
      "source": [
        "# random forest 1"
      ]
    },
    {
      "cell_type": "code",
      "metadata": {
        "id": "vKu3DbM4M7nC"
      },
      "source": [
        "forest_clf = RandomForestClassifier(oob_score=True, n_jobs=-1, random_state=42)"
      ],
      "execution_count": null,
      "outputs": []
    },
    {
      "cell_type": "code",
      "metadata": {
        "colab": {
          "base_uri": "https://localhost:8080/"
        },
        "id": "5tPgo7oYNIk2",
        "outputId": "b8204121-5da8-4ae1-8b35-0b72abd1d7a9"
      },
      "source": [
        "forest_clf.fit(X_train, y_train)"
      ],
      "execution_count": null,
      "outputs": [
        {
          "output_type": "execute_result",
          "data": {
            "text/plain": [
              "RandomForestClassifier(bootstrap=True, ccp_alpha=0.0, class_weight=None,\n",
              "                       criterion='gini', max_depth=None, max_features='auto',\n",
              "                       max_leaf_nodes=None, max_samples=None,\n",
              "                       min_impurity_decrease=0.0, min_impurity_split=None,\n",
              "                       min_samples_leaf=1, min_samples_split=2,\n",
              "                       min_weight_fraction_leaf=0.0, n_estimators=100,\n",
              "                       n_jobs=-1, oob_score=True, random_state=42, verbose=0,\n",
              "                       warm_start=False)"
            ]
          },
          "metadata": {},
          "execution_count": 132
        }
      ]
    },
    {
      "cell_type": "code",
      "metadata": {
        "colab": {
          "base_uri": "https://localhost:8080/"
        },
        "id": "yN3LsGTGNK6K",
        "outputId": "5edfd68a-a387-4dfb-f308-f3087237c6c8"
      },
      "source": [
        "forest_clf.score(X_train, y_train)"
      ],
      "execution_count": null,
      "outputs": [
        {
          "output_type": "execute_result",
          "data": {
            "text/plain": [
              "0.9730108657553452"
            ]
          },
          "metadata": {},
          "execution_count": 133
        }
      ]
    },
    {
      "cell_type": "code",
      "metadata": {
        "colab": {
          "base_uri": "https://localhost:8080/"
        },
        "id": "k7ZiIF9UNOYi",
        "outputId": "fb8d6333-83cc-4530-8cc6-01664444dbed"
      },
      "source": [
        "forest_clf.oob_score_"
      ],
      "execution_count": null,
      "outputs": [
        {
          "output_type": "execute_result",
          "data": {
            "text/plain": [
              "0.1563266736768314"
            ]
          },
          "metadata": {},
          "execution_count": 134
        }
      ]
    },
    {
      "cell_type": "code",
      "metadata": {
        "colab": {
          "base_uri": "https://localhost:8080/"
        },
        "id": "DYtQg6baNRb1",
        "outputId": "9d351334-3867-4ea2-921f-133d2c4f64a1"
      },
      "source": [
        "forest_clf.score(X_test, y_test)"
      ],
      "execution_count": null,
      "outputs": [
        {
          "output_type": "execute_result",
          "data": {
            "text/plain": [
              "0.16013071895424835"
            ]
          },
          "metadata": {},
          "execution_count": 135
        }
      ]
    },
    {
      "cell_type": "markdown",
      "metadata": {
        "id": "Sji5jZ21TbUH"
      },
      "source": [
        "# extra tree"
      ]
    },
    {
      "cell_type": "code",
      "metadata": {
        "colab": {
          "base_uri": "https://localhost:8080/"
        },
        "id": "jVeiQEmuNVMR",
        "outputId": "61d33990-a804-47ff-ac5e-0010c752fa52"
      },
      "source": [
        "extra_tree = ExtraTreesClassifier(n_jobs=-1, random_state=42)\n",
        "cv = cross_validate(estimator=extra_tree, X=X_train, y=y_train, n_jobs=-1, \n",
        "                    return_train_score=True)\n",
        "cv"
      ],
      "execution_count": null,
      "outputs": [
        {
          "output_type": "stream",
          "name": "stderr",
          "text": [
            "/usr/local/lib/python3.7/dist-packages/sklearn/model_selection/_split.py:667: UserWarning: The least populated class in y has only 1 members, which is less than n_splits=5.\n",
            "  % (min_groups, self.n_splits)), UserWarning)\n",
            "/usr/local/lib/python3.7/dist-packages/joblib/externals/loky/process_executor.py:691: UserWarning: A worker stopped while some jobs were given to the executor. This can be caused by a too short worker timeout or by a memory leak.\n",
            "  \"timeout or by a memory leak.\", UserWarning\n"
          ]
        },
        {
          "output_type": "execute_result",
          "data": {
            "text/plain": [
              "{'fit_time': array([9.41665769, 9.31023216, 6.8695507 , 6.41220093, 3.44681215]),\n",
              " 'score_time': array([0.41387701, 0.40873766, 0.32710314, 0.31963873, 0.20401406]),\n",
              " 'test_score': array([0.16112084, 0.14360771, 0.15411559, 0.14035088, 0.14035088]),\n",
              " 'train_score': array([0.97677476, 0.9745837 , 0.97896582, 0.97590889, 0.97897503])}"
            ]
          },
          "metadata": {},
          "execution_count": 136
        }
      ]
    },
    {
      "cell_type": "code",
      "metadata": {
        "colab": {
          "base_uri": "https://localhost:8080/"
        },
        "id": "Em6tWlRtTgdo",
        "outputId": "711e5001-e02a-414e-adf2-e39560cd4a46"
      },
      "source": [
        "np.mean(cv['train_score'])"
      ],
      "execution_count": null,
      "outputs": [
        {
          "output_type": "execute_result",
          "data": {
            "text/plain": [
              "0.9770416403221157"
            ]
          },
          "metadata": {},
          "execution_count": 137
        }
      ]
    },
    {
      "cell_type": "code",
      "metadata": {
        "colab": {
          "base_uri": "https://localhost:8080/"
        },
        "id": "Ld3812IfUUDg",
        "outputId": "fc71e9e9-85d9-44f2-c396-e888f4a663a7"
      },
      "source": [
        "np.mean(cv['test_score'])"
      ],
      "execution_count": null,
      "outputs": [
        {
          "output_type": "execute_result",
          "data": {
            "text/plain": [
              "0.14790917749715796"
            ]
          },
          "metadata": {},
          "execution_count": 138
        }
      ]
    },
    {
      "cell_type": "code",
      "metadata": {
        "colab": {
          "base_uri": "https://localhost:8080/"
        },
        "id": "dRb4UT9XUXU1",
        "outputId": "ae3f7519-78f9-4015-c737-05f220202eba"
      },
      "source": [
        "cross_val_score(estimator=extra_tree, X=X_train, y=y_train, n_jobs=-1)"
      ],
      "execution_count": null,
      "outputs": [
        {
          "output_type": "stream",
          "name": "stderr",
          "text": [
            "/usr/local/lib/python3.7/dist-packages/sklearn/model_selection/_split.py:667: UserWarning: The least populated class in y has only 1 members, which is less than n_splits=5.\n",
            "  % (min_groups, self.n_splits)), UserWarning)\n"
          ]
        },
        {
          "output_type": "execute_result",
          "data": {
            "text/plain": [
              "array([0.16112084, 0.14360771, 0.15411559, 0.14035088, 0.14035088])"
            ]
          },
          "metadata": {},
          "execution_count": 139
        }
      ]
    },
    {
      "cell_type": "markdown",
      "metadata": {
        "id": "4gPxPmwvVApv"
      },
      "source": [
        "# Gradient Boosting"
      ]
    },
    {
      "cell_type": "code",
      "metadata": {
        "id": "N2cPPWq1Um_W"
      },
      "source": [
        "grad_boost  = GradientBoostingClassifier(random_state=42)"
      ],
      "execution_count": null,
      "outputs": []
    },
    {
      "cell_type": "code",
      "metadata": {
        "colab": {
          "base_uri": "https://localhost:8080/",
          "height": 391
        },
        "id": "ic97A2wVVF63",
        "outputId": "7c9c79c4-973e-431c-deac-e4588d97d18f"
      },
      "source": [
        "# 1시간 넘게 했는데 안나옴... 핵오래걸림....\n",
        "cv = cross_validate(estimator=grad_boost, X=X_train, y=y_train, n_jobs=-1, \n",
        "                    return_train_score=True)\n",
        "cv"
      ],
      "execution_count": null,
      "outputs": [
        {
          "output_type": "stream",
          "name": "stderr",
          "text": [
            "/usr/local/lib/python3.7/dist-packages/sklearn/model_selection/_split.py:667: UserWarning: The least populated class in y has only 1 members, which is less than n_splits=5.\n",
            "  % (min_groups, self.n_splits)), UserWarning)\n"
          ]
        },
        {
          "output_type": "error",
          "ename": "KeyboardInterrupt",
          "evalue": "ignored",
          "traceback": [
            "\u001b[0;31m---------------------------------------------------------------------------\u001b[0m",
            "\u001b[0;31mKeyboardInterrupt\u001b[0m                         Traceback (most recent call last)",
            "\u001b[0;32m<ipython-input-141-1dd28bba73c4>\u001b[0m in \u001b[0;36m<module>\u001b[0;34m()\u001b[0m\n\u001b[1;32m      1\u001b[0m cv = cross_validate(estimator=grad_boost, X=X_train, y=y_train, n_jobs=-1, \n\u001b[0;32m----> 2\u001b[0;31m                     return_train_score=True)\n\u001b[0m\u001b[1;32m      3\u001b[0m \u001b[0mcv\u001b[0m\u001b[0;34m\u001b[0m\u001b[0;34m\u001b[0m\u001b[0m\n",
            "\u001b[0;32m/usr/local/lib/python3.7/dist-packages/sklearn/model_selection/_validation.py\u001b[0m in \u001b[0;36mcross_validate\u001b[0;34m(estimator, X, y, groups, scoring, cv, n_jobs, verbose, fit_params, pre_dispatch, return_train_score, return_estimator, error_score)\u001b[0m\n\u001b[1;32m    234\u001b[0m             \u001b[0mreturn_times\u001b[0m\u001b[0;34m=\u001b[0m\u001b[0;32mTrue\u001b[0m\u001b[0;34m,\u001b[0m \u001b[0mreturn_estimator\u001b[0m\u001b[0;34m=\u001b[0m\u001b[0mreturn_estimator\u001b[0m\u001b[0;34m,\u001b[0m\u001b[0;34m\u001b[0m\u001b[0;34m\u001b[0m\u001b[0m\n\u001b[1;32m    235\u001b[0m             error_score=error_score)\n\u001b[0;32m--> 236\u001b[0;31m         for train, test in cv.split(X, y, groups))\n\u001b[0m\u001b[1;32m    237\u001b[0m \u001b[0;34m\u001b[0m\u001b[0m\n\u001b[1;32m    238\u001b[0m     \u001b[0mzipped_scores\u001b[0m \u001b[0;34m=\u001b[0m \u001b[0mlist\u001b[0m\u001b[0;34m(\u001b[0m\u001b[0mzip\u001b[0m\u001b[0;34m(\u001b[0m\u001b[0;34m*\u001b[0m\u001b[0mscores\u001b[0m\u001b[0;34m)\u001b[0m\u001b[0;34m)\u001b[0m\u001b[0;34m\u001b[0m\u001b[0;34m\u001b[0m\u001b[0m\n",
            "\u001b[0;32m/usr/local/lib/python3.7/dist-packages/joblib/parallel.py\u001b[0m in \u001b[0;36m__call__\u001b[0;34m(self, iterable)\u001b[0m\n\u001b[1;32m   1052\u001b[0m \u001b[0;34m\u001b[0m\u001b[0m\n\u001b[1;32m   1053\u001b[0m             \u001b[0;32mwith\u001b[0m \u001b[0mself\u001b[0m\u001b[0;34m.\u001b[0m\u001b[0m_backend\u001b[0m\u001b[0;34m.\u001b[0m\u001b[0mretrieval_context\u001b[0m\u001b[0;34m(\u001b[0m\u001b[0;34m)\u001b[0m\u001b[0;34m:\u001b[0m\u001b[0;34m\u001b[0m\u001b[0;34m\u001b[0m\u001b[0m\n\u001b[0;32m-> 1054\u001b[0;31m                 \u001b[0mself\u001b[0m\u001b[0;34m.\u001b[0m\u001b[0mretrieve\u001b[0m\u001b[0;34m(\u001b[0m\u001b[0;34m)\u001b[0m\u001b[0;34m\u001b[0m\u001b[0;34m\u001b[0m\u001b[0m\n\u001b[0m\u001b[1;32m   1055\u001b[0m             \u001b[0;31m# Make sure that we get a last message telling us we are done\u001b[0m\u001b[0;34m\u001b[0m\u001b[0;34m\u001b[0m\u001b[0;34m\u001b[0m\u001b[0m\n\u001b[1;32m   1056\u001b[0m             \u001b[0melapsed_time\u001b[0m \u001b[0;34m=\u001b[0m \u001b[0mtime\u001b[0m\u001b[0;34m.\u001b[0m\u001b[0mtime\u001b[0m\u001b[0;34m(\u001b[0m\u001b[0;34m)\u001b[0m \u001b[0;34m-\u001b[0m \u001b[0mself\u001b[0m\u001b[0;34m.\u001b[0m\u001b[0m_start_time\u001b[0m\u001b[0;34m\u001b[0m\u001b[0;34m\u001b[0m\u001b[0m\n",
            "\u001b[0;32m/usr/local/lib/python3.7/dist-packages/joblib/parallel.py\u001b[0m in \u001b[0;36mretrieve\u001b[0;34m(self)\u001b[0m\n\u001b[1;32m    931\u001b[0m             \u001b[0;32mtry\u001b[0m\u001b[0;34m:\u001b[0m\u001b[0;34m\u001b[0m\u001b[0;34m\u001b[0m\u001b[0m\n\u001b[1;32m    932\u001b[0m                 \u001b[0;32mif\u001b[0m \u001b[0mgetattr\u001b[0m\u001b[0;34m(\u001b[0m\u001b[0mself\u001b[0m\u001b[0;34m.\u001b[0m\u001b[0m_backend\u001b[0m\u001b[0;34m,\u001b[0m \u001b[0;34m'supports_timeout'\u001b[0m\u001b[0;34m,\u001b[0m \u001b[0;32mFalse\u001b[0m\u001b[0;34m)\u001b[0m\u001b[0;34m:\u001b[0m\u001b[0;34m\u001b[0m\u001b[0;34m\u001b[0m\u001b[0m\n\u001b[0;32m--> 933\u001b[0;31m                     \u001b[0mself\u001b[0m\u001b[0;34m.\u001b[0m\u001b[0m_output\u001b[0m\u001b[0;34m.\u001b[0m\u001b[0mextend\u001b[0m\u001b[0;34m(\u001b[0m\u001b[0mjob\u001b[0m\u001b[0;34m.\u001b[0m\u001b[0mget\u001b[0m\u001b[0;34m(\u001b[0m\u001b[0mtimeout\u001b[0m\u001b[0;34m=\u001b[0m\u001b[0mself\u001b[0m\u001b[0;34m.\u001b[0m\u001b[0mtimeout\u001b[0m\u001b[0;34m)\u001b[0m\u001b[0;34m)\u001b[0m\u001b[0;34m\u001b[0m\u001b[0;34m\u001b[0m\u001b[0m\n\u001b[0m\u001b[1;32m    934\u001b[0m                 \u001b[0;32melse\u001b[0m\u001b[0;34m:\u001b[0m\u001b[0;34m\u001b[0m\u001b[0;34m\u001b[0m\u001b[0m\n\u001b[1;32m    935\u001b[0m                     \u001b[0mself\u001b[0m\u001b[0;34m.\u001b[0m\u001b[0m_output\u001b[0m\u001b[0;34m.\u001b[0m\u001b[0mextend\u001b[0m\u001b[0;34m(\u001b[0m\u001b[0mjob\u001b[0m\u001b[0;34m.\u001b[0m\u001b[0mget\u001b[0m\u001b[0;34m(\u001b[0m\u001b[0;34m)\u001b[0m\u001b[0;34m)\u001b[0m\u001b[0;34m\u001b[0m\u001b[0;34m\u001b[0m\u001b[0m\n",
            "\u001b[0;32m/usr/local/lib/python3.7/dist-packages/joblib/_parallel_backends.py\u001b[0m in \u001b[0;36mwrap_future_result\u001b[0;34m(future, timeout)\u001b[0m\n\u001b[1;32m    540\u001b[0m         AsyncResults.get from multiprocessing.\"\"\"\n\u001b[1;32m    541\u001b[0m         \u001b[0;32mtry\u001b[0m\u001b[0;34m:\u001b[0m\u001b[0;34m\u001b[0m\u001b[0;34m\u001b[0m\u001b[0m\n\u001b[0;32m--> 542\u001b[0;31m             \u001b[0;32mreturn\u001b[0m \u001b[0mfuture\u001b[0m\u001b[0;34m.\u001b[0m\u001b[0mresult\u001b[0m\u001b[0;34m(\u001b[0m\u001b[0mtimeout\u001b[0m\u001b[0;34m=\u001b[0m\u001b[0mtimeout\u001b[0m\u001b[0;34m)\u001b[0m\u001b[0;34m\u001b[0m\u001b[0;34m\u001b[0m\u001b[0m\n\u001b[0m\u001b[1;32m    543\u001b[0m         \u001b[0;32mexcept\u001b[0m \u001b[0mCfTimeoutError\u001b[0m \u001b[0;32mas\u001b[0m \u001b[0me\u001b[0m\u001b[0;34m:\u001b[0m\u001b[0;34m\u001b[0m\u001b[0;34m\u001b[0m\u001b[0m\n\u001b[1;32m    544\u001b[0m             \u001b[0;32mraise\u001b[0m \u001b[0mTimeoutError\u001b[0m \u001b[0;32mfrom\u001b[0m \u001b[0me\u001b[0m\u001b[0;34m\u001b[0m\u001b[0;34m\u001b[0m\u001b[0m\n",
            "\u001b[0;32m/usr/lib/python3.7/concurrent/futures/_base.py\u001b[0m in \u001b[0;36mresult\u001b[0;34m(self, timeout)\u001b[0m\n\u001b[1;32m    428\u001b[0m                 \u001b[0;32mreturn\u001b[0m \u001b[0mself\u001b[0m\u001b[0;34m.\u001b[0m\u001b[0m__get_result\u001b[0m\u001b[0;34m(\u001b[0m\u001b[0;34m)\u001b[0m\u001b[0;34m\u001b[0m\u001b[0;34m\u001b[0m\u001b[0m\n\u001b[1;32m    429\u001b[0m \u001b[0;34m\u001b[0m\u001b[0m\n\u001b[0;32m--> 430\u001b[0;31m             \u001b[0mself\u001b[0m\u001b[0;34m.\u001b[0m\u001b[0m_condition\u001b[0m\u001b[0;34m.\u001b[0m\u001b[0mwait\u001b[0m\u001b[0;34m(\u001b[0m\u001b[0mtimeout\u001b[0m\u001b[0;34m)\u001b[0m\u001b[0;34m\u001b[0m\u001b[0;34m\u001b[0m\u001b[0m\n\u001b[0m\u001b[1;32m    431\u001b[0m \u001b[0;34m\u001b[0m\u001b[0m\n\u001b[1;32m    432\u001b[0m             \u001b[0;32mif\u001b[0m \u001b[0mself\u001b[0m\u001b[0;34m.\u001b[0m\u001b[0m_state\u001b[0m \u001b[0;32min\u001b[0m \u001b[0;34m[\u001b[0m\u001b[0mCANCELLED\u001b[0m\u001b[0;34m,\u001b[0m \u001b[0mCANCELLED_AND_NOTIFIED\u001b[0m\u001b[0;34m]\u001b[0m\u001b[0;34m:\u001b[0m\u001b[0;34m\u001b[0m\u001b[0;34m\u001b[0m\u001b[0m\n",
            "\u001b[0;32m/usr/lib/python3.7/threading.py\u001b[0m in \u001b[0;36mwait\u001b[0;34m(self, timeout)\u001b[0m\n\u001b[1;32m    294\u001b[0m         \u001b[0;32mtry\u001b[0m\u001b[0;34m:\u001b[0m    \u001b[0;31m# restore state no matter what (e.g., KeyboardInterrupt)\u001b[0m\u001b[0;34m\u001b[0m\u001b[0;34m\u001b[0m\u001b[0m\n\u001b[1;32m    295\u001b[0m             \u001b[0;32mif\u001b[0m \u001b[0mtimeout\u001b[0m \u001b[0;32mis\u001b[0m \u001b[0;32mNone\u001b[0m\u001b[0;34m:\u001b[0m\u001b[0;34m\u001b[0m\u001b[0;34m\u001b[0m\u001b[0m\n\u001b[0;32m--> 296\u001b[0;31m                 \u001b[0mwaiter\u001b[0m\u001b[0;34m.\u001b[0m\u001b[0macquire\u001b[0m\u001b[0;34m(\u001b[0m\u001b[0;34m)\u001b[0m\u001b[0;34m\u001b[0m\u001b[0;34m\u001b[0m\u001b[0m\n\u001b[0m\u001b[1;32m    297\u001b[0m                 \u001b[0mgotit\u001b[0m \u001b[0;34m=\u001b[0m \u001b[0;32mTrue\u001b[0m\u001b[0;34m\u001b[0m\u001b[0;34m\u001b[0m\u001b[0m\n\u001b[1;32m    298\u001b[0m             \u001b[0;32melse\u001b[0m\u001b[0;34m:\u001b[0m\u001b[0;34m\u001b[0m\u001b[0;34m\u001b[0m\u001b[0m\n",
            "\u001b[0;31mKeyboardInterrupt\u001b[0m: "
          ]
        }
      ]
    },
    {
      "cell_type": "code",
      "metadata": {
        "colab": {
          "base_uri": "https://localhost:8080/"
        },
        "id": "LrFYwntgVHzq",
        "outputId": "65a6e2ee-e0ac-40a8-b2c2-ef28d8e4238a"
      },
      "source": [
        "grad_boost.fit(X_train, y_train)"
      ],
      "execution_count": null,
      "outputs": [
        {
          "output_type": "execute_result",
          "data": {
            "text/plain": [
              "GradientBoostingClassifier(ccp_alpha=0.0, criterion='friedman_mse', init=None,\n",
              "                           learning_rate=0.1, loss='deviance', max_depth=3,\n",
              "                           max_features=None, max_leaf_nodes=None,\n",
              "                           min_impurity_decrease=0.0, min_impurity_split=None,\n",
              "                           min_samples_leaf=1, min_samples_split=2,\n",
              "                           min_weight_fraction_leaf=0.0, n_estimators=100,\n",
              "                           n_iter_no_change=None, presort='deprecated',\n",
              "                           random_state=42, subsample=1.0, tol=0.0001,\n",
              "                           validation_fraction=0.1, verbose=0,\n",
              "                           warm_start=False)"
            ]
          },
          "metadata": {},
          "execution_count": 142
        }
      ]
    },
    {
      "cell_type": "code",
      "metadata": {
        "colab": {
          "base_uri": "https://localhost:8080/"
        },
        "id": "BznpQOUljVyl",
        "outputId": "4a905811-23e5-4840-bb70-d70e6b772a2d"
      },
      "source": [
        "train_pred = grad_boost.predict(X_train)\n",
        "r2_score(y_train, train_pred)"
      ],
      "execution_count": null,
      "outputs": [
        {
          "output_type": "execute_result",
          "data": {
            "text/plain": [
              "0.44175699112795075"
            ]
          },
          "metadata": {},
          "execution_count": 143
        }
      ]
    },
    {
      "cell_type": "code",
      "metadata": {
        "colab": {
          "base_uri": "https://localhost:8080/"
        },
        "id": "svmgbQJap57g",
        "outputId": "d6e9ab06-e71b-45d1-fe15-4d2dca0b6c52"
      },
      "source": [
        "test_pred = grad_boost.predict(X_test)\n",
        "r2_score(y_test, test_pred)"
      ],
      "execution_count": null,
      "outputs": [
        {
          "output_type": "execute_result",
          "data": {
            "text/plain": [
              "0.4335443901513296"
            ]
          },
          "metadata": {},
          "execution_count": 144
        }
      ]
    },
    {
      "cell_type": "code",
      "metadata": {
        "colab": {
          "base_uri": "https://localhost:8080/"
        },
        "id": "3ZriZM4oqDcW",
        "outputId": "4831cda2-7946-4136-9719-a4f79f3c962c"
      },
      "source": [
        "score_train = grad_boost.score(X_train, y_train)\n",
        "score_train"
      ],
      "execution_count": null,
      "outputs": [
        {
          "output_type": "execute_result",
          "data": {
            "text/plain": [
              "0.008412197686645636"
            ]
          },
          "metadata": {},
          "execution_count": 146
        }
      ]
    },
    {
      "cell_type": "code",
      "metadata": {
        "id": "D9tou6DkqkRP"
      },
      "source": [
        "score_test = grad_boost.score(X_test, y_test)"
      ],
      "execution_count": null,
      "outputs": []
    },
    {
      "cell_type": "code",
      "metadata": {
        "colab": {
          "base_uri": "https://localhost:8080/"
        },
        "id": "hljpvlhjrB8D",
        "outputId": "2175823c-0457-4406-d840-571ef2b0428c"
      },
      "source": [
        "score_test"
      ],
      "execution_count": null,
      "outputs": [
        {
          "output_type": "execute_result",
          "data": {
            "text/plain": [
              "0.004084967320261438"
            ]
          },
          "metadata": {},
          "execution_count": 148
        }
      ]
    },
    {
      "cell_type": "code",
      "metadata": {
        "id": "4Z3i5DKorC8-"
      },
      "source": [],
      "execution_count": null,
      "outputs": []
    }
  ]
}