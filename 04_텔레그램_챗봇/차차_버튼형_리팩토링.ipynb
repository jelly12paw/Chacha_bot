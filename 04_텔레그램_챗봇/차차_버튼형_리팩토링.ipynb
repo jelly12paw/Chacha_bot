{
  "nbformat": 4,
  "nbformat_minor": 0,
  "metadata": {
    "colab": {
      "provenance": [],
      "authorship_tag": "ABX9TyNuKi74vFQUyeJsxmcyclcj",
      "include_colab_link": true
    },
    "kernelspec": {
      "name": "python3",
      "display_name": "Python 3"
    },
    "language_info": {
      "name": "python"
    }
  },
  "cells": [
    {
      "cell_type": "markdown",
      "metadata": {
        "id": "view-in-github",
        "colab_type": "text"
      },
      "source": [
        "<a href=\"https://colab.research.google.com/github/jelly12paw/Chacha_bot/blob/main/04_%ED%85%94%EB%A0%88%EA%B7%B8%EB%9E%A8_%EC%B1%97%EB%B4%87/%EC%B0%A8%EC%B0%A8_%EB%B2%84%ED%8A%BC%ED%98%95_%EB%A6%AC%ED%8C%A9%ED%86%A0%EB%A7%81.ipynb\" target=\"_parent\"><img src=\"https://colab.research.google.com/assets/colab-badge.svg\" alt=\"Open In Colab\"/></a>"
      ]
    },
    {
      "cell_type": "markdown",
      "source": [
        "# **중고차 리스트 리팩토링**\n",
        "\n",
        "### 기존의 중고차 리스트를 브랜드 별로 나누어 리스트를 다시 만듦\n",
        "\n",
        "<br>\n",
        "\n",
        "## 이유\n",
        "\n",
        "#### 브랜드 별로 데이터를 관리하기 용이함\n",
        "\n",
        "#### 버튼 구현 시 브랜드 리스트를 활용하여 버튼 생성"
      ],
      "metadata": {
        "id": "GdxtP65icHV4"
      }
    },
    {
      "cell_type": "code",
      "execution_count": null,
      "metadata": {
        "id": "9WLjEb77b3Ey"
      },
      "outputs": [],
      "source": [
        "# 현대\n",
        "hyundai_arr = ['쿠페', '제네시스', '그랜저', '에쿠스', '베라크루즈', '팰리세이드', '아슬란', '맥스크루즈', '쏘나타', '아반떼', \n",
        "           '다이너스티', '갤로퍼', '테라칸', '트라제XG', '싼타페', '투스카니', '스타렉스', '스타리아', 'i30', \n",
        "           '벨로스터', '투싼', '코나', 'i40', '엘란트라', '마르샤', '아이오닉', '그라나다', '티뷰론', '엑센트', \n",
        "           '베르나', '클릭', '베뉴', '뉴엘란트라', '포니', '아이오닉5', '넥쏘', '아토스', '엑셀']\n",
        "\n",
        "# 기아\n",
        "kia_arr = ['모닝', 'K7', '프라이드', 'K9', '모하비', '카니발', '오피러스', '아만티', 'K8', 'K5', '로체', \n",
        "           '스팅어', '쏘렌토', '엔터프라이즈', '쏘울', '포르테', 'K3', '포텐샤', '카렌스', '크레도스', '스포티지', \n",
        "           '옵티마', '레토나', '콩코드', '엑스트렉', '엘란', '쎄라토', '스토닉', '셀토스', '니로', '세피아', \n",
        "           '스펙트라', '레이', '모닝밴', '레이밴', '비스토', '카스타', '캐피탈']\n",
        "\n",
        "# 쌍용\n",
        "ssangyong_arr = ['티볼리', '무쏘', '렉스턴', '코란도', '카이런', '코란도', '액티언', '체어맨', '렉스턴', '로디우스']\n",
        "\n",
        "# 제네시스\n",
        "genesis_arr = ['BH330', 'BH380', 'GP500', 'G330', 'G380', 'G90', 'EQ900', 'G80', 'BH460', 'GV70', 'GV80', 'G70', 'GP380']\n",
        "\n",
        "# 한국GM\n",
        "gm_arr = ['말리부', '카마로', '콜벳', '트래버스', '임팔라', '스테이츠맨', '베리타스', '아카디아', '알페온', '윈스톰', \n",
        "           '캡티바', '올란도', '라세티', '크루즈', '레조', 'G2X', '토스카', '프린스', '아베오', '트랙스', \n",
        "           '이쿼녹스', '젠트라', '볼트', '트레일블레이저', '마티즈', '스파크', '티코', '라보', '다마스']\n",
        "\n",
        "# 르노삼성\n",
        "samsung_arr = ['QM6', 'SM7', 'SM5', 'QM5', 'SM3', 'SM6', 'QM3', '클리오', 'XM3', '캡처', '조에', '트위지']\n",
        "\n",
        "# 국내차 브랜드\n",
        "brand_arr = ['현대', '기아', '쌍용', '제네시스', '한국GM', '르노삼성']"
      ]
    },
    {
      "cell_type": "markdown",
      "source": [
        "# **중고차 버튼 구현화면 리팩토링**\n",
        "\n",
        "### 버튼 변수를 하나씩 지정해준 것에서 **globals()**를 이용해 각각의 브랜드 리스트의 값을 하나씩 꺼내와 반복문으로 변수를 생성\n",
        "\n",
        "### 코드가 간결해져 가독성이 좋고 각 브랜드 별로 차종이 추가/삭제 될 때 리스트에서 데이터를 수정하면 되기 때문에 버튼 생성/삭제하기 용이함"
      ],
      "metadata": {
        "id": "M-84itxDc3Sh"
      }
    },
    {
      "cell_type": "code",
      "source": [
        "def query_ans(msg):\n",
        "    query_data = msg[\"data\"]\n",
        "    \n",
        "    # 중고차 버튼\n",
        "    if query_data == \"1\":\n",
        "        for i in range(1, len(brand_arr) + 1):\n",
        "          globals()['brand{}'.format(i)] = BT(text = brand_arr[i], callback_data = brand_arr[i])\n",
        "        \n",
        "        mu = MU(inline_keyboard = [[brand1, brand2, brand3], [brand4, brand5, brand6]])\n",
        "        bot.sendMessage(id, \"제조사를 선택해주세요^0^\", reply_markup = mu)\n",
        "\n",
        "    # 내 차 버튼\n",
        "    elif query_data == \"2\":\n",
        "        bot.sendMessage(id, text = \"내 차 정보를 입력해주세요\"+ '\\n' + '\\n' +\n",
        "                        '입력 방법\\n------------------------------\\n' + \n",
        "                        '제조사 모델 차종 연식 주행거리(km) 연료 변속기 연비(km) 배기량(cc)' + '\\n' + '\\n' +\n",
        "                        '입력 방법 예시)\\n 기아 K5 중형 2020 10382 가솔린 오토 12 0' + '\\n' + '\\n' +\n",
        "                        '연비(km)와 배기량(cc)을 모르신다면 *숫자 0*을 기입해주세요')"
      ],
      "metadata": {
        "id": "v3RHCaXvcjr9"
      },
      "execution_count": null,
      "outputs": []
    },
    {
      "cell_type": "code",
      "source": [
        "def brand_ans(msg):\n",
        "    btn_data = msg[\"data\"]\n",
        "\n",
        "    if btn_data == '현대':\n",
        "        for i in range(1, len(hyundai_arr) + 1):\n",
        "          globals()['h_btn{}'.format(i)] = BT(text = hyundai_arr[i-1], callback_data = hyundai_arr[i-1])\n",
        "        \n",
        "        mu = MU(inline_keyboard = [[h_btn1, h_btn2], [h_btn3, h_btn4], [h_btn6, h_btn7],\n",
        "                                   [h_btn9, h_btn10], [h_btn11, h_btn12], [h_btn13, h_btn14], [h_btn15, h_btn16],\n",
        "                                   [h_btn17, h_btn18], [h_btn41, h_btn20], [h_btn21, h_btn22], [h_btn23, h_btn24],\n",
        "                                   [h_btn25, h_btn26], [h_btn27, h_btn28], [h_btn29, h_btn30], [h_btn31, h_btn32],\n",
        "                                   [h_btn33, h_btn34], [h_btn35, h_btn36], [h_btn37, h_btn38], [h_btn39, h_btn40]])\n",
        "        bot.sendMessage(id, \"현대차 모델을 선택해주세요\", reply_markup = mu)\n",
        "\n",
        "    elif btn_data == '기아':\n",
        "        for i in range(1, len(kia_arr) + 1):\n",
        "          globals()['k_btn{}'.format(i)] = BT(text = kia_arr[i-1], callback_data = kia_arr[i-1])\n",
        "        \n",
        "        mu = MU(inline_keyboard = [[k_btn1, k_btn2], [k_btn3, k_btn4], [k_btn5, k_btn6], [k_btn7, k_btn8],\n",
        "                                   [k_btn9, k_btn10], [k_btn11, k_btn12], [k_btn13, k_btn14], [k_btn15, k_btn16],\n",
        "                                   [k_btn17, k_btn18], [k_btn19, k_btn20], [k_btn21, k_btn22], [k_btn23, k_btn24],\n",
        "                                   [k_btn25, k_btn26], [k_btn27, k_btn28], [k_btn29, k_btn30], [k_btn31, k_btn32],\n",
        "                                   [k_btn33, k_btn34], [k_btn35, k_btn36], [k_btn37, k_btn38]])\n",
        "        bot.sendMessage(id, \"기아차 모델을 선택해주세요\", reply_markup = mu)\n",
        "\n",
        "    elif btn_data == '쌍용':\n",
        "        for i in range(1, len(ssangyong_arr) + 1):\n",
        "          globals()['s_btn{}'.format(i)] = BT(text = ssangyong_arr[i-1], callback_data = ssangyong_arr[i-1])\n",
        "        \n",
        "        mu = MU(inline_keyboard = [[s_btn1, s_btn2], [s_btn3, s_btn4], [s_btn5, s_btn6], [s_btn7, s_btn8]])\n",
        "        bot.sendMessage(id, \"쌍용차 모델을 선택해주세요\", reply_markup = mu)\n",
        "\n",
        "    elif btn_data == '제네시스':\n",
        "        for i in range(1, len(genesis_arr) + 1):\n",
        "          globals()['g_btn{}'.format(i)] = BT(text = genesis_arr[i-1], callback_data = genesis_arr[i-1])\n",
        "        \n",
        "        mu = MU(inline_keyboard = [[g_btn1, g_btn2], [g_btn3, g_btn4], [g_btn5, g_btn6], [g_btn7, g_btn8],\n",
        "                                   [g_btn9, g_btn10], [g_btn11, g_btn12, g_btn13]])\n",
        "        bot.sendMessage(id, \"제네시스차 모델을 선택해주세요\", reply_markup = mu)\n",
        "\n",
        "    elif btn_data == '한국GM':\n",
        "        for i in range(1, len(gm_arr) + 1):\n",
        "          globals()['m_btn{}'.format(i)] = BT(text = gm_arr[i-1], callback_data = gm_arr[i-1])\n",
        "        \n",
        "        mu = MU(inline_keyboard = [[m_btn1, m_btn2], [m_btn3, m_btn4], [m_btn5, m_btn6], [m_btn7, m_btn8],\n",
        "                                   [m_btn9, m_btn10], [m_btn11, m_btn12], [m_btn13, m_btn14], [m_btn15, m_btn16],\n",
        "                                   [m_btn17, m_btn18], [m_btn19, m_btn20], [m_btn21, m_btn22], [m_btn23, m_btn24],\n",
        "                                   [m_btn25, m_btn26], [m_btn27, m_btn28, m_btn29]])\n",
        "        bot.sendMessage(id, \"한국GM차 모델을 선택해주세요\", reply_markup = mu)\n",
        "\n",
        "    elif btn_data == '르노삼성':\n",
        "        for i in range(1, len(samsung_arr) + 1):\n",
        "          globals()['r_btn{}'.format(i)] = BT(text = samsung_arr[i-1], callback_data = samsung_arr[i-1])\n",
        "        \n",
        "        mu = MU(inline_keyboard = [[r_btn1, r_btn2], [r_btn3, r_btn4], [r_btn5, r_btn6], [r_btn7, r_btn8],\n",
        "                                   [r_btn9, r_btn10], [r_btn11, r_btn12]])\n",
        "        bot.sendMessage(id, \"르노삼성차 모델을 선택해주세요\", reply_markup = mu)\n",
        "\n",
        "  \n",
        "    elif btn_data:\n",
        "        payinfo = carinfo(btn_data)\n",
        "        bot.sendMessage(chat_id=id, text='찾으신 가격정보입니다' + '\\n' + '\\n' +\n",
        "                        '최고가 & 최저가 정보\\n------------------------------\\n' + \n",
        "                        '제조사, 모델, 차종, 가격(만원), 연식, 주행거리(km), 연료, 변속기, 연비(km), 배기량(cc)' + '\\n' + '\\n' +\n",
        "                        '평균가 정보\\n------------------------------\\n' +\n",
        "                        '가격(만원), 연식, 주행거리(km), 연비(km), 배기량(cc)' + '\\n' + '\\n' +\n",
        "                        payinfo)\n",
        "        bot.sendMessage(chat_id=id, text='차차봇을 이용해주셔서 감사합니다>ㅁ<!\\n' + '다른 정보가 궁금하시면 *차차야*라고 불러주세요')"
      ],
      "metadata": {
        "id": "NOk-6Ar0lc7T"
      },
      "execution_count": null,
      "outputs": []
    }
  ]
}