{
  "nbformat": 4,
  "nbformat_minor": 0,
  "metadata": {
    "colab": {
      "provenance": []
    },
    "kernelspec": {
      "name": "python3",
      "display_name": "Python 3"
    },
    "language_info": {
      "name": "python"
    }
  },
  "cells": [
    {
      "cell_type": "markdown",
      "metadata": {
        "id": "aJRyQCe4vhGL"
      },
      "source": [
        "# Install"
      ]
    },
    {
      "cell_type": "code",
      "metadata": {
        "colab": {
          "base_uri": "https://localhost:8080/"
        },
        "id": "FI3N0MU9vXjO",
        "outputId": "7eec1138-f73a-45b6-dc3c-b52a17c63824"
      },
      "source": [
        "!pip install python-telegram-bot\n",
        "!pip install telepot"
      ],
      "execution_count": null,
      "outputs": [
        {
          "output_type": "stream",
          "name": "stdout",
          "text": [
            "Requirement already satisfied: python-telegram-bot in /usr/local/lib/python3.7/dist-packages (13.7)\n",
            "Requirement already satisfied: cachetools==4.2.2 in /usr/local/lib/python3.7/dist-packages (from python-telegram-bot) (4.2.2)\n",
            "Requirement already satisfied: APScheduler==3.6.3 in /usr/local/lib/python3.7/dist-packages (from python-telegram-bot) (3.6.3)\n",
            "Requirement already satisfied: pytz>=2018.6 in /usr/local/lib/python3.7/dist-packages (from python-telegram-bot) (2018.9)\n",
            "Requirement already satisfied: certifi in /usr/local/lib/python3.7/dist-packages (from python-telegram-bot) (2021.5.30)\n",
            "Requirement already satisfied: tornado>=6.1 in /usr/local/lib/python3.7/dist-packages (from python-telegram-bot) (6.1)\n",
            "Requirement already satisfied: six>=1.4.0 in /usr/local/lib/python3.7/dist-packages (from APScheduler==3.6.3->python-telegram-bot) (1.15.0)\n",
            "Requirement already satisfied: tzlocal>=1.2 in /usr/local/lib/python3.7/dist-packages (from APScheduler==3.6.3->python-telegram-bot) (1.5.1)\n",
            "Requirement already satisfied: setuptools>=0.7 in /usr/local/lib/python3.7/dist-packages (from APScheduler==3.6.3->python-telegram-bot) (57.4.0)\n",
            "Requirement already satisfied: telepot in /usr/local/lib/python3.7/dist-packages (12.7)\n",
            "Requirement already satisfied: urllib3>=1.9.1 in /usr/local/lib/python3.7/dist-packages (from telepot) (1.24.3)\n",
            "Requirement already satisfied: aiohttp>=3.0.0 in /usr/local/lib/python3.7/dist-packages (from telepot) (3.7.4.post0)\n",
            "Requirement already satisfied: typing-extensions>=3.6.5 in /usr/local/lib/python3.7/dist-packages (from aiohttp>=3.0.0->telepot) (3.7.4.3)\n",
            "Requirement already satisfied: async-timeout<4.0,>=3.0 in /usr/local/lib/python3.7/dist-packages (from aiohttp>=3.0.0->telepot) (3.0.1)\n",
            "Requirement already satisfied: chardet<5.0,>=2.0 in /usr/local/lib/python3.7/dist-packages (from aiohttp>=3.0.0->telepot) (3.0.4)\n",
            "Requirement already satisfied: attrs>=17.3.0 in /usr/local/lib/python3.7/dist-packages (from aiohttp>=3.0.0->telepot) (21.2.0)\n",
            "Requirement already satisfied: yarl<2.0,>=1.0 in /usr/local/lib/python3.7/dist-packages (from aiohttp>=3.0.0->telepot) (1.6.3)\n",
            "Requirement already satisfied: multidict<7.0,>=4.5 in /usr/local/lib/python3.7/dist-packages (from aiohttp>=3.0.0->telepot) (5.2.0)\n",
            "Requirement already satisfied: idna>=2.0 in /usr/local/lib/python3.7/dist-packages (from yarl<2.0,>=1.0->aiohttp>=3.0.0->telepot) (2.10)\n"
          ]
        }
      ]
    },
    {
      "cell_type": "markdown",
      "metadata": {
        "id": "LXI714WVvplf"
      },
      "source": [
        "# Import"
      ]
    },
    {
      "cell_type": "code",
      "metadata": {
        "id": "lFcoPnf7vjz1"
      },
      "source": [
        "import telegram\n",
        "import telepot\n",
        "from telepot.loop import MessageLoop # 봇 구동\n",
        "from telepot.namedtuple import InlineKeyboardMarkup as MU # 마크업\n",
        "from telepot.namedtuple import InlineKeyboardButton as BT # 버튼\n",
        "\n",
        "\n",
        "import pandas as pd\n",
        "import numpy as np\n",
        "import math\n",
        "import matplotlib.pyplot as plt\n",
        "import seaborn as sns\n",
        "\n",
        "from sklearn.linear_model import LogisticRegression\n",
        "from sklearn.model_selection import train_test_split, cross_validate, cross_val_score\n",
        "from sklearn.metrics import mean_absolute_error, mean_squared_error, r2_score\n",
        "from sklearn.linear_model import LinearRegression\n",
        "from sklearn.preprocessing import PolynomialFeatures\n",
        "from sklearn.preprocessing import StandardScaler\n",
        "from sklearn.pipeline import Pipeline\n",
        "from sklearn.preprocessing import LabelEncoder\n",
        "from sklearn.metrics import accuracy_score, confusion_matrix\n",
        "from sklearn import preprocessing\n",
        "from sklearn.linear_model import SGDRegressor\n",
        "from sklearn.ensemble import RandomForestRegressor\n",
        "from sklearn.ensemble import ExtraTreesClassifier, GradientBoostingRegressor\n",
        "from sklearn.svm import SVC"
      ],
      "execution_count": null,
      "outputs": []
    },
    {
      "cell_type": "markdown",
      "metadata": {
        "id": "qyHEZFGsvwUW"
      },
      "source": [
        "# 중고차 데이터"
      ]
    },
    {
      "cell_type": "code",
      "metadata": {
        "id": "Srd2UHUMvsf5"
      },
      "source": [
        "file_path = '/content/drive/MyDrive/kb차차차/최종 데이터.csv'"
      ],
      "execution_count": null,
      "outputs": []
    },
    {
      "cell_type": "code",
      "metadata": {
        "id": "XRYJL361vyql"
      },
      "source": [
        "df = pd.read_csv(file_path, engine = 'python', encoding = 'cp949')"
      ],
      "execution_count": null,
      "outputs": []
    },
    {
      "cell_type": "code",
      "metadata": {
        "id": "2GbEm8o0v0gx"
      },
      "source": [
        "df = df.drop(columns = ['Unnamed: 10', 'Unnamed: 11', 'Unnamed: 12', 'Unnamed: 13', 'Unnamed: 14', 'Unnamed: 15', 'Unnamed: 16', 'Unnamed: 17', 'Unnamed: 18'])"
      ],
      "execution_count": null,
      "outputs": []
    },
    {
      "cell_type": "code",
      "metadata": {
        "id": "sYliC0eyv3W_"
      },
      "source": [
        "df['제조사'] = df['제조사'].replace('쌍용 ', '쌍용')"
      ],
      "execution_count": null,
      "outputs": []
    },
    {
      "cell_type": "code",
      "metadata": {
        "id": "baUmcSK7v4P9"
      },
      "source": [
        "df['모델'] = df['모델'].replace('코란도 ', '코란도')\n",
        "df['모델'] = df['모델'].replace('렉스턴 ', '렉스턴')\n",
        "df['모델'] = df['모델'].replace('3.8', 'G90')\n",
        "df['모델'] = df['모델'].replace('쉐보레 말리부', '말리부')\n",
        "df['모델'] = df['모델'].replace(' 쉐보레 말리부', '말리부')\n",
        "df['모델'] = df['모델'].replace('쉐보레 카마로', '카마로')\n",
        "df['모델'] = df['모델'].replace('토스카 ', '토스카')\n",
        "df['모델'] = df['모델'].replace('쉐보레 콜벳', '콜벳')\n",
        "df['모델'] = df['모델'].replace('쉐보레 트래버스', '트래버스')\n",
        "df['모델'] = df['모델'].replace('쉐보레 임팔라', '임팔라')\n",
        "df['모델'] = df['모델'].replace('쉐보레 캡티바', '캡티바')\n",
        "df['모델'] = df['모델'].replace('쉐보레 올란도', '올란도')\n",
        "df['모델'] = df['모델'].replace('쉐보레 크루즈', '크루즈')\n",
        "df['모델'] = df['모델'].replace('쉐보레 아베오', '아베오')\n",
        "df['모델'] = df['모델'].replace('쉐보레 트랙스', '트랙스')\n",
        "df['모델'] = df['모델'].replace('쉐보레 이쿼녹스', '이쿼녹스')\n",
        "df['모델'] = df['모델'].replace('쉐보레 트레일블레이저', '트레일블레이저')\n",
        "df['모델'] = df['모델'].replace('쉐보레 스파크', '스파크')\n",
        "df['모델'] = df['모델'].replace('쉐보레 볼트', '볼트')\n",
        "df['모델'] = df['모델'].replace('제네시스 쿠페', '쿠페')\n",
        "df['모델'] = df['모델'].replace('펠리세이드', '팰리세이드')\n",
        "df['모델'] = df['모델'].replace('투', '투스카니')\n",
        "df['모델'] = df['모델'].replace('베라쉐보레 크루즈', '베라크루즈')"
      ],
      "execution_count": null,
      "outputs": []
    },
    {
      "cell_type": "markdown",
      "metadata": {
        "id": "OXlCLkWlwA9q"
      },
      "source": [
        "# 중고차 가격정보"
      ]
    },
    {
      "cell_type": "code",
      "metadata": {
        "id": "X0iWEAZ4v-42"
      },
      "source": [
        "car_arr = ['쿠페', '제네시스', '그랜저', '에쿠스', '베라크루즈', '팰리세이드', '아슬란', '맥스크루즈', '쏘나타', '아반떼', \n",
        "           '다이너스티', '갤로퍼', '테라칸', '트라제XG', '싼타페', '투스카니', '스타렉스', '스타리아', 'i30', \n",
        "           '벨로스터', '투싼', '코나', 'i40', '엘란트라', '마르샤', '아이오닉', '그라나다', '티뷰론', '엑센트', \n",
        "           '베르나', '클릭', '베뉴', '뉴엘란트라', '포니', '아이오닉5', '넥쏘', '아토스', '엑셀', '모닝', \n",
        "           'K7', '프라이드', 'K9', '모하비', '카니발', '오피러스', '아만티', 'K8', 'K5', '로체', \n",
        "           '스팅어', '쏘렌토', '엔터프라이즈', '쏘울', '포르테', 'K3', '포텐샤', '카렌스', '크레도스', '스포티지', \n",
        "           '옵티마', '레토나', '콩코드', '엑스트렉', '엘란', '쎄라토', '스토닉', '셀토스', '니로', '세피아', \n",
        "           '스펙트라', '레이', '모닝밴', '레이밴', '비스토', '카스타', '캐피탈', '티볼리', '무쏘', '렉스턴',\n",
        "           '코란도', '카이런', '코란도', '액티언', '체어맨', '렉스턴', '로디우스', 'BH330', 'BH380', 'GP500', \n",
        "           'G330', 'G380', 'G90', 'EQ900', 'G80', 'BH460', 'GV70', 'GV80', 'G70', 'GP380', \n",
        "           '말리부', '카마로', '콜벳', '트래버스', '임팔라', '스테이츠맨', '베리타스', '아카디아', '알페온', '윈스톰', \n",
        "           '캡티바', '올란도', '라세티', '크루즈', '레조', 'G2X', '토스카', '프린스', '아베오', '트랙스', \n",
        "           '이쿼녹스', '젠트라', '볼트', '트레일블레이저', '마티즈', '스파크', '티코', '라보', '다마스', 'QM6', \n",
        "           'SM7', 'SM5', 'QM5', 'SM3', 'SM6', 'QM3', '클리오', 'XM3', '캡처', '조에', '트위지']\n",
        "\n",
        "brand_arr = ['현대', '기아', '쌍용', '제네시스', '한국GM', '르노삼성']"
      ],
      "execution_count": null,
      "outputs": []
    },
    {
      "cell_type": "code",
      "metadata": {
        "id": "UFuTE260wLSn"
      },
      "source": [
        "def carinfo(models) :\n",
        "    ms = df[df['모델'] == models].min().values\n",
        "    mn = df[df['모델'] == models].max().values\n",
        "    ma = [round(df[df['모델'] == models].mean()).iloc[0], round(df[df['모델'] == models].mean()).iloc[1],\n",
        "          round(df[df['모델'] == models].mean()).iloc[2], round(df[df['모델'] == models].mean()).iloc[3],\n",
        "          round(df[df['모델'] == models].mean()).iloc[4]]\n",
        "    infos = '최고가 정보 : ' + '\\n' + str(mn) + '\\n' + '\\n' + '최저가 정보 : ' + '\\n' + str(ms) + '\\n' + '\\n' + '평균가 정보 : ' + '\\n' + str(ma)\n",
        "    return infos"
      ],
      "execution_count": null,
      "outputs": []
    },
    {
      "cell_type": "markdown",
      "metadata": {
        "id": "xqk8ZL-KwOhX"
      },
      "source": [
        "# 챗봇 토큰 및 ID"
      ]
    },
    {
      "cell_type": "code",
      "metadata": {
        "id": "gL-v_gXbwOSd"
      },
      "source": [
        "token = '토큰값'\n",
        "id = 'id값'\n",
        "bot = telegram.Bot(token = token)\n",
        "updates = bot.getUpdates()"
      ],
      "execution_count": null,
      "outputs": []
    },
    {
      "cell_type": "markdown",
      "metadata": {
        "id": "W0Bd5SS3wcHl"
      },
      "source": [
        "# 챗봇 시작 화면"
      ]
    },
    {
      "cell_type": "code",
      "metadata": {
        "id": "xEZOir0RwY3_"
      },
      "source": [
        "def btn_show(msg):\n",
        "    input_chat = msg['text']\n",
        "\n",
        "    if input_chat == '차차야' :\n",
        "        btn1 = BT(text = \"중고차\", callback_data = \"1\")\n",
        "        btn2 = BT(text = \"내 차\", callback_data = \"2\")\n",
        "        mu = MU(inline_keyboard = [[btn1, btn2]])\n",
        "        bot.sendMessage(id, \"찾으시는 가격 정보를 선택해주세요^0^\", reply_markup = mu)\n",
        "    elif input_chat.split()[0] in brand_arr:\n",
        "       predict(input_chat)\n",
        "    else:\n",
        "       bot.sendMessage(id, \"안녕하세요 중고차 가격 알리미 차차입니다!\\n차차야라고 불러주세요^0^\")"
      ],
      "execution_count": null,
      "outputs": []
    },
    {
      "cell_type": "markdown",
      "metadata": {
        "id": "NC4XJDchw8y3"
      },
      "source": [
        "# '중고차' 버튼 구현 화면"
      ]
    },
    {
      "cell_type": "code",
      "metadata": {
        "id": "3uvIrJmywiOS"
      },
      "source": [
        "def query_ans(msg):\n",
        "    query_data = msg[\"data\"]\n",
        "        \n",
        "    if query_data == \"1\":\n",
        "        btn1 = BT(text = \"현대\", callback_data = \"현대\")\n",
        "        btn2 = BT(text = \"기아\", callback_data = \"기아\")\n",
        "        btn3 = BT(text = \"쌍용\", callback_data = \"쌍용\")\n",
        "        btn4 = BT(text = \"제네시스\", callback_data = \"제네시스\")\n",
        "        btn5 = BT(text = \"한국GM\", callback_data = \"한국GM\")\n",
        "        btn6 = BT(text = \"르노삼성\", callback_data = \"르노삼성\")\n",
        "        mu = MU(inline_keyboard = [[btn1, btn2, btn3], [btn4, btn5, btn6]])\n",
        "        bot.sendMessage(id, \"제조사를 선택해주세요^0^\", reply_markup = mu)\n",
        "\n",
        "    elif query_data == \"2\":\n",
        "        bot.sendMessage(id, text = \"내 차 정보를 입력해주세요\"+ '\\n' + '\\n' +\n",
        "                        '입력 방법\\n------------------------------\\n' + \n",
        "                        '제조사 모델 차종 연식 주행거리(km) 연료 변속기 연비(km) 배기량(cc)' + '\\n' + '\\n' +\n",
        "                        '입력 방법 예시)\\n 기아 K5 중형 2020 10382 가솔린 오토 12 0' + '\\n' + '\\n' +\n",
        "                        '연비(km)와 배기량(cc)을 모르신다면 *숫자 0*을 기입해주세요')"
      ],
      "execution_count": null,
      "outputs": []
    },
    {
      "cell_type": "code",
      "metadata": {
        "id": "xfR1ZWcnxB4-"
      },
      "source": [
        "def query_ans(msg):\n",
        "    btn_data = msg[\"data\"]\n",
        "\n",
        "    if btn_data == '현대':\n",
        "        h_btn1 = BT(text = \"쿠페\", callback_data = \"쿠페\")\n",
        "        h_btn2 = BT(text = \"제네시스\", callback_data = \"제네시스\")\n",
        "        h_btn3 = BT(text = \"그랜저\", callback_data = \"그랜저\")\n",
        "        h_btn4 = BT(text = \"에쿠스\", callback_data = \"에쿠스\")\n",
        "        h_btn6 = BT(text = \"베라크루즈\", callback_data = \"베라크루즈\")\n",
        "        h_btn7 = BT(text = \"팰리세이드\", callback_data = \"팰리세이드\")\n",
        "        h_btn9 = BT(text = \"아슬란\", callback_data = \"아슬란\")\n",
        "        h_btn10 = BT(text = \"맥스크루즈\", callback_data = \"맥스크루즈\")\n",
        "        h_btn11 = BT(text = \"쏘나타\", callback_data = \"쏘나타\")\n",
        "        h_btn12 = BT(text = \"아반떼\", callback_data = \"아반떼\")\n",
        "        h_btn13 = BT(text = \"다이너스티\", callback_data = \"다이너스티\")\n",
        "        h_btn14 = BT(text = \"갤로퍼\", callback_data = \"갤로퍼\")\n",
        "        h_btn15 = BT(text = \"테라칸\", callback_data = \"테라칸\")\n",
        "        h_btn16 = BT(text = \"트라제XG\", callback_data = \"트라제XG\")\n",
        "        h_btn17 = BT(text = \"투스카니\", callback_data = \"투스카니\")\n",
        "        h_btn18 = BT(text = \"싼타페\", callback_data = \"싼타페\")\n",
        "        h_btn20 = BT(text = \"스타렉스\", callback_data = \"스타렉스\")\n",
        "        h_btn21 = BT(text = \"스타리아\", callback_data = \"스타리아\")\n",
        "        h_btn22 = BT(text = \"i30\", callback_data = \"i30\")\n",
        "        h_btn23 = BT(text = \"벨로스터\", callback_data = \"벨로스터\")\n",
        "        h_btn24 = BT(text = \"투싼\", callback_data = \"투싼\")\n",
        "        h_btn25 = BT(text = \"코나\", callback_data = \"코나\")\n",
        "        h_btn26 = BT(text = \"i40\", callback_data = \"i40\")\n",
        "        h_btn27 = BT(text = \"엘란트라\", callback_data = \"엘란트라\")\n",
        "        h_btn28 = BT(text = \"마르샤\", callback_data = \"마르샤\")\n",
        "        h_btn29 = BT(text = \"아이오닉\", callback_data = \"아이오닉\")\n",
        "        h_btn30 = BT(text = \"그라나다\", callback_data = \"그라나다\")\n",
        "        h_btn31 = BT(text = \"티뷰론\", callback_data = \"티뷰론\")\n",
        "        h_btn32 = BT(text = \"엑센트\", callback_data = \"엑센트\")\n",
        "        h_btn33 = BT(text = \"베르나\", callback_data = \"베르나\")\n",
        "        h_btn34 = BT(text = \"클릭\", callback_data = \"클릭\")\n",
        "        h_btn35 = BT(text = \"베뉴\", callback_data = \"베뉴\")\n",
        "        h_btn36 = BT(text = \"뉴엘란트라\", callback_data = \"뉴엘란트라\")\n",
        "        h_btn37 = BT(text = \"포니\", callback_data = \"포니\")\n",
        "        h_btn38 = BT(text = \"아이오닉5\", callback_data = \"아이오닉5\")\n",
        "        h_btn39 = BT(text = \"넥쏘\", callback_data = \"넥쏘\")\n",
        "        h_btn40 = BT(text = \"아토스\", callback_data = \"아토스\")\n",
        "        h_btn41 = BT(text = \"엑셀\", callback_data = \"엑셀\")\n",
        "        mu = MU(inline_keyboard = [[h_btn1, h_btn2], [h_btn3, h_btn4], [h_btn6, h_btn7],\n",
        "                                   [h_btn9, h_btn10], [h_btn11, h_btn12], [h_btn13, h_btn14], [h_btn15, h_btn16],\n",
        "                                   [h_btn17, h_btn18], [h_btn41, h_btn20], [h_btn21, h_btn22], [h_btn23, h_btn24],\n",
        "                                   [h_btn25, h_btn26], [h_btn27, h_btn28], [h_btn29, h_btn30], [h_btn31, h_btn32],\n",
        "                                   [h_btn33, h_btn34], [h_btn35, h_btn36], [h_btn37, h_btn38], [h_btn39, h_btn40]])\n",
        "        bot.sendMessage(id, \"현대차 모델을 선택해주세요\", reply_markup = mu)\n",
        "\n",
        "    elif btn_data == '기아':\n",
        "        k_btn1 = BT(text = \"모닝\", callback_data = \"모닝\")\n",
        "        k_btn2 = BT(text = \"K7\", callback_data = \"K7\")\n",
        "        k_btn3 = BT(text = \"K9\", callback_data = \"K9\")\n",
        "        k_btn4 = BT(text = \"프라이드\", callback_data = \"프라이드\")\n",
        "        k_btn5 = BT(text = \"모하비\", callback_data = \"모하비\")\n",
        "        k_btn6 = BT(text = \"카니발\", callback_data = \"카니발\")\n",
        "        k_btn7 = BT(text = \"오피러스\", callback_data = \"오피러스\")\n",
        "        k_btn8 = BT(text = \"아만티\", callback_data = \"아만티\")\n",
        "        k_btn9 = BT(text = \"K8\", callback_data = \"K8\")\n",
        "        k_btn10 = BT(text = \"K5\", callback_data = \"K5\")\n",
        "        k_btn11 = BT(text = \"로체\", callback_data = \"로체\")\n",
        "        k_btn12 = BT(text = \"스팅어\", callback_data = \"스팅어\")\n",
        "        k_btn13 = BT(text = \"쏘렌토\", callback_data = \"쏘렌토\")\n",
        "        k_btn14 = BT(text = \"엔터프라이즈\", callback_data = \"엔터프라이즈\")\n",
        "        k_btn15 = BT(text = \"쏘울\", callback_data = \"쏘울\")\n",
        "        k_btn16 = BT(text = \"포르테\", callback_data = \"포르테\")\n",
        "        k_btn17 = BT(text = \"K3\", callback_data = \"K3\")\n",
        "        k_btn18 = BT(text = \"포텐샤\", callback_data = \"포텐샤\")\n",
        "        k_btn19 = BT(text = \"카렌스\", callback_data = \"카렌스\")\n",
        "        k_btn20 = BT(text = \"크레도스\", callback_data = \"크레도스\")\n",
        "        k_btn21 = BT(text = \"스포티지\", callback_data = \"스포티지\")\n",
        "        k_btn22 = BT(text = \"옵티마\", callback_data = \"옵티마\")\n",
        "        k_btn23 = BT(text = \"레토나\", callback_data = \"레토나\")\n",
        "        k_btn24 = BT(text = \"콩코드\", callback_data = \"콩코드\")\n",
        "        k_btn25 = BT(text = \"엑스트렉\", callback_data = \"엑스트렉\")\n",
        "        k_btn26 = BT(text = \"엘란\", callback_data = \"엘란\")\n",
        "        k_btn27 = BT(text = \"쎄라토\", callback_data = \"쎄라토\")\n",
        "        k_btn28 = BT(text = \"스토닉\", callback_data = \"스토닉\")\n",
        "        k_btn29 = BT(text = \"셀토스\", callback_data = \"셀토스\")\n",
        "        k_btn30 = BT(text = \"니로\", callback_data = \"니로\")\n",
        "        k_btn31 = BT(text = \"세피아\", callback_data = \"세피아\")\n",
        "        k_btn32 = BT(text = \"스펙트라\", callback_data = \"스펙트라\")\n",
        "        k_btn33 = BT(text = \"레이\", callback_data = \"레이\")\n",
        "        k_btn34 = BT(text = \"모닝밴\", callback_data = \"모닝밴\")\n",
        "        k_btn35 = BT(text = \"레이밴\", callback_data = \"레이밴\")\n",
        "        k_btn36 = BT(text = \"비스토\", callback_data = \"비스토\")\n",
        "        k_btn37 = BT(text = \"카스타\", callback_data = \"카스타\")\n",
        "        k_btn38 = BT(text = \"캐피탈\", callback_data = \"캐피탈\")\n",
        "        mu = MU(inline_keyboard = [[k_btn1, k_btn2], [k_btn3, k_btn4], [k_btn5, k_btn6], [k_btn7, k_btn8],\n",
        "                                   [k_btn9, k_btn10], [k_btn11, k_btn12], [k_btn13, k_btn14], [k_btn15, k_btn16],\n",
        "                                   [k_btn17, k_btn18], [k_btn19, k_btn20], [k_btn21, k_btn22], [k_btn23, k_btn24],\n",
        "                                   [k_btn25, k_btn26], [k_btn27, k_btn28], [k_btn29, k_btn30], [k_btn31, k_btn32],\n",
        "                                   [k_btn33, k_btn34], [k_btn35, k_btn36], [k_btn37, k_btn38]])\n",
        "        bot.sendMessage(id, \"기아차 모델을 선택해주세요\", reply_markup = mu)\n",
        "\n",
        "    elif btn_data == '쌍용':\n",
        "        s_btn1 = BT(text = \"티볼리\", callback_data = \"티볼리\")\n",
        "        s_btn2 = BT(text = \"무쏘\", callback_data = \"무쏘\")\n",
        "        s_btn3 = BT(text = \"렉스턴\", callback_data = \"렉스턴\")\n",
        "        s_btn4 = BT(text = \"코란도\", callback_data = \"코란도\")\n",
        "        s_btn5 = BT(text = \"카이런\", callback_data = \"카이런\")\n",
        "        s_btn6 = BT(text = \"액티언\", callback_data = \"액티언\")\n",
        "        s_btn7 = BT(text = \"체어맨\", callback_data = \"체어맨\")\n",
        "        s_btn8 = BT(text = \"로디우스\", callback_data = \"로디우스\")\n",
        "        mu = MU(inline_keyboard = [[s_btn1, s_btn2], [s_btn3, s_btn4], [s_btn5, s_btn6], [s_btn7, s_btn8]])\n",
        "        bot.sendMessage(id, \"쌍용차 모델을 선택해주세요\", reply_markup = mu)\n",
        "\n",
        "    elif btn_data == '제네시스':\n",
        "        g_btn1 = BT(text = \"BH330\", callback_data = \"BH330\")\n",
        "        g_btn2 = BT(text = \"BH380\", callback_data = \"BH380\")\n",
        "        g_btn3 = BT(text = \"GP500\", callback_data = \"GP500\")\n",
        "        g_btn4 = BT(text = \"G330\", callback_data = \"G330\")\n",
        "        g_btn5 = BT(text = \"G380\", callback_data = \"G380\")\n",
        "        g_btn6 = BT(text = \"G90\", callback_data = \"G90\")\n",
        "        g_btn7 = BT(text = \"G80\", callback_data = \"G80\")\n",
        "        g_btn8 = BT(text = \"EQ900\", callback_data = \"EQ900\")\n",
        "        g_btn9 = BT(text = \"BH460\", callback_data = \"BH460\")\n",
        "        g_btn10 = BT(text = \"GP380\", callback_data = \"GP380\")\n",
        "        g_btn11 = BT(text = \"GV70\", callback_data = \"GV70\")\n",
        "        g_btn12 = BT(text = \"GV80\", callback_data = \"GV80\")\n",
        "        g_btn13 = BT(text = \"G70\", callback_data = \"G70\")\n",
        "        mu = MU(inline_keyboard = [[g_btn1, g_btn2], [g_btn3, g_btn4], [g_btn5, g_btn6], [g_btn7, g_btn8],\n",
        "                                   [g_btn9, g_btn10], [g_btn11, g_btn12, g_btn13]])\n",
        "        bot.sendMessage(id, \"제네시스차 모델을 선택해주세요\", reply_markup = mu)\n",
        "\n",
        "    elif btn_data == '한국GM':\n",
        "        m_btn1 = BT(text = \"토스카\", callback_data = \"토스카\")\n",
        "        m_btn2 = BT(text = \"말리부\", callback_data = \"말리부\")\n",
        "        m_btn3 = BT(text = \"카마로\", callback_data = \"카마로\")\n",
        "        m_btn4 = BT(text = \"콜벳\", callback_data = \"콜벳\")\n",
        "        m_btn5 = BT(text = \"트래버스\", callback_data = \"트래버스\")\n",
        "        m_btn6 = BT(text = \"임팔라\", callback_data = \"임팔라\")\n",
        "        m_btn7 = BT(text = \"스테이츠맨\", callback_data = \"스테이츠맨\")\n",
        "        m_btn8 = BT(text = \"베리타스\", callback_data = \"베리타스\")\n",
        "        m_btn9 = BT(text = \"아카디아\", callback_data = \"아카디아\")\n",
        "        m_btn10 = BT(text = \"알페온\", callback_data = \"알페온\")\n",
        "        m_btn11 = BT(text = \"윈스톰\", callback_data = \"윈스톰\")\n",
        "        m_btn12 = BT(text = \"캡티바\", callback_data = \"캡티바\")\n",
        "        m_btn13 = BT(text = \"올란도\", callback_data = \"올란도\")\n",
        "        m_btn14 = BT(text = \"라세티\", callback_data = \"라세티\")\n",
        "        m_btn15 = BT(text = \"크루즈\", callback_data = \"크루즈\")\n",
        "        m_btn16 = BT(text = \"레조\", callback_data = \"레조\")\n",
        "        m_btn17 = BT(text = \"G2X\", callback_data = \"G2X\")\n",
        "        m_btn18 = BT(text = \"프린스\", callback_data = \"프린스\")\n",
        "        m_btn19 = BT(text = \"아베오\", callback_data = \"아베오\")\n",
        "        m_btn20 = BT(text = \"트랙스\", callback_data = \"트랙스\")\n",
        "        m_btn21 = BT(text = \"이쿼녹스\", callback_data = \"이쿼녹스\")\n",
        "        m_btn22 = BT(text = \"젠트라\", callback_data = \"젠트라\")\n",
        "        m_btn23 = BT(text = \"볼트\", callback_data = \"볼트\")\n",
        "        m_btn24 = BT(text = \"트레일블레이저\", callback_data = \"트레일블레이저\")\n",
        "        m_btn25 = BT(text = \"스파크\", callback_data = \"스파크\")\n",
        "        m_btn26 = BT(text = \"마티즈\", callback_data = \"마티즈\")\n",
        "        m_btn27 = BT(text = \"티코\", callback_data = \"티코\")\n",
        "        m_btn28 = BT(text = \"라보\", callback_data = \"라보\")\n",
        "        m_btn29 = BT(text = \"다마스\", callback_data = \"다마스\")\n",
        "        mu = MU(inline_keyboard = [[m_btn1, m_btn2], [m_btn3, m_btn4], [m_btn5, m_btn6], [m_btn7, m_btn8],\n",
        "                                   [m_btn9, m_btn10], [m_btn11, m_btn12], [m_btn13, m_btn14], [m_btn15, m_btn16],\n",
        "                                   [m_btn17, m_btn18], [m_btn19, m_btn20], [m_btn21, m_btn22], [m_btn23, m_btn24],\n",
        "                                   [m_btn25, m_btn26], [m_btn27, m_btn28, m_btn29]])\n",
        "        bot.sendMessage(id, \"한국GM차 모델을 선택해주세요\", reply_markup = mu)\n",
        "\n",
        "    elif btn_data == '르노삼성':\n",
        "        r_btn1 = BT(text = \"QM6\", callback_data = \"QM6\")\n",
        "        r_btn2 = BT(text = \"QM5\", callback_data = \"QM5\")\n",
        "        r_btn3 = BT(text = \"QM3\", callback_data = \"QM3\")\n",
        "        r_btn4 = BT(text = \"SM7\", callback_data = \"SM7\")\n",
        "        r_btn5 = BT(text = \"SM5\", callback_data = \"SM5\")\n",
        "        r_btn6 = BT(text = \"SM6\", callback_data = \"SM6\")\n",
        "        r_btn7 = BT(text = \"SM3\", callback_data = \"SM3\")\n",
        "        r_btn8 = BT(text = \"클리오\", callback_data = \"클리오\")\n",
        "        r_btn9 = BT(text = \"XM3\", callback_data = \"XM3\")\n",
        "        r_btn10 = BT(text = \"조에\", callback_data = \"조에\")\n",
        "        r_btn11 = BT(text = \"캡처\", callback_data = \"캡처\")\n",
        "        r_btn12 = BT(text = \"트위지\", callback_data = \"트위지\")\n",
        "        mu = MU(inline_keyboard = [[r_btn1, r_btn2], [r_btn3, r_btn4], [r_btn5, r_btn6], [r_btn7, r_btn8],\n",
        "                                   [r_btn9, r_btn10], [r_btn11, r_btn12]])\n",
        "        bot.sendMessage(id, \"르노삼성차 모델을 선택해주세요\", reply_markup = mu)\n",
        "\n",
        "  \n",
        "    elif btn_data in car_arr:\n",
        "        payinfo = carinfo(btn_data)\n",
        "        # bot.send_message(chat_id=id, text=f'{pricelist}')\n",
        "        bot.sendMessage(chat_id=id, text='찾으신 가격정보입니다' + '\\n' + '\\n' +\n",
        "                        '최고가 & 최저가 정보\\n------------------------------\\n' + \n",
        "                        '제조사, 모델, 차종, 가격(만원), 연식, 주행거리(km), 연료, 변속기, 연비(km), 배기량(cc)' + '\\n' + '\\n' +\n",
        "                        '평균가 정보\\n------------------------------\\n' +\n",
        "                        '가격(만원), 연식, 주행거리(km), 연비(km), 배기량(cc)' + '\\n' + '\\n' +\n",
        "                        payinfo)\n",
        "        bot.sendMessage(chat_id=id, text='차차봇을 이용해주셔서 감사합니다>ㅁ<!\\n' + '다른 정보가 궁금하시면 *차차야*라고 불러주세요')"
      ],
      "execution_count": null,
      "outputs": []
    },
    {
      "cell_type": "markdown",
      "metadata": {
        "id": "QxKBzL_wxwVc"
      },
      "source": [
        "# '내 차' 버튼 구현 화면"
      ]
    },
    {
      "cell_type": "code",
      "metadata": {
        "id": "02ap4VCjxpcq"
      },
      "source": [
        "def predict(text):\n",
        "\n",
        "    user_values = text.split()\n",
        "    user_values = user_values[0:10]\n",
        "    bot.sendMessage(chat_id = id, text = f'입력해주신 \\n\\n{user_values}\\n\\n 정보를 토대로 가격 예측중입니다\\n 잠시만 기다려주세요^0^')\n",
        "   \n",
        "    # global delete_message_id\n",
        "    # loading_image = bot.sendVideo(chat_id = id, video=open('/content/drive/MyDrive/kb차차차/로딩멍냥_small.gif', 'rb'))\n",
        "   \n",
        "    # 제조사 모델 차종 연식 주행거리 연료 변속기 연비 배기량\n",
        "    input_info = pd.DataFrame(user_values).transpose()\n",
        "    user_df = df.drop(['가격(만원)'], axis = 1)\n",
        "    input_info.columns = user_df.columns\n",
        "    user_df = pd.concat([user_df, input_info], ignore_index=True)\n",
        "    # 컬럼별 type을 df함수와 동일하게\n",
        "    user_df = user_df.astype({'연식': 'int'})\n",
        "    user_df = user_df.astype({'연비(km)' : 'float'})\n",
        "    user_df = user_df.astype({'주행거리(km)': 'int'})\n",
        "    user_df = user_df.astype({'배기량(cc)' : 'float'})\n",
        "    hot_incoder = pd.get_dummies(df)\n",
        "    hot_incoder1 = pd.get_dummies(user_df)\n",
        "    # 입력값 추출\n",
        "    my_car = hot_incoder1.tail(1)\n",
        "    \n",
        "    features = hot_incoder.drop(['가격(만원)'], axis=1)\n",
        "    X = features.values\n",
        "    y = hot_incoder['가격(만원)']\n",
        "\n",
        "    logreg = RandomForestRegressor(oob_score=True, n_jobs=-1, random_state=42)\n",
        "\n",
        "    logreg.fit(X, y)\n",
        "    train_pred = logreg.predict(my_car)\n",
        "    bot.sendMessage(id, f'{round(logreg.score(X, y), 2) * 100}% 확률로 고객님의 자동차 예상 가격은 {round(train_pred[0])}만원 입니다^0^')\n",
        "    # bot.deleteMessage(chat_id = id, message_id = loading_image.message_id)\n",
        "    bot.sendMessage(chat_id=id, text='차차봇을 이용해주셔서 감사합니다>ㅁ<!\\n' + '다른 정보가 궁금하시면 *차차야*라고 불러주세요')"
      ],
      "execution_count": null,
      "outputs": []
    },
    {
      "cell_type": "code",
      "metadata": {
        "id": "L25ECxUzIU47"
      },
      "source": [
        "bot.send"
      ],
      "execution_count": null,
      "outputs": []
    },
    {
      "cell_type": "markdown",
      "metadata": {
        "id": "u0p4oz48y1FH"
      },
      "source": [
        "# 챗봇 호출"
      ]
    },
    {
      "cell_type": "code",
      "metadata": {
        "id": "f-_5MGVbyv6W"
      },
      "source": [
        "token = '토큰값'\n",
        "id = 'id값'\n",
        "bot = telepot.Bot(token) # 봇 객체 생성\n",
        "MessageLoop(bot, {'chat': btn_show, \"callback_query\" : query_ans}).run_as_thread()"
      ],
      "execution_count": null,
      "outputs": []
    }
  ]
}